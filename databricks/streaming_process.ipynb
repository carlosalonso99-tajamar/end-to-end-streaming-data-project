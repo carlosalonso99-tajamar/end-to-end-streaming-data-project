{
 "cells": [
  {
   "cell_type": "markdown",
   "metadata": {
    "application/vnd.databricks.v1+cell": {
     "cellMetadata": {},
     "inputWidgets": {},
     "nuid": "a9c25d35-2c64-4eb9-a876-1464a9c0d795",
     "showTitle": false,
     "tableResultSettingsMap": {},
     "title": ""
    }
   },
   "source": [
    "# PROCESAMIENTO DE LOS DATOS EN STREAMING"
   ]
  },
  {
   "cell_type": "markdown",
   "metadata": {
    "application/vnd.databricks.v1+cell": {
     "cellMetadata": {},
     "inputWidgets": {},
     "nuid": "c0347622-2b4e-41b5-8318-cdcad1b13209",
     "showTitle": false,
     "tableResultSettingsMap": {},
     "title": ""
    }
   },
   "source": [
    "## 1.- Conexión a EventHubs"
   ]
  },
  {
   "cell_type": "markdown",
   "metadata": {
    "application/vnd.databricks.v1+cell": {
     "cellMetadata": {},
     "inputWidgets": {},
     "nuid": "8c846ff2-98a2-4c0d-a819-521219fda0e1",
     "showTitle": false,
     "tableResultSettingsMap": {},
     "title": ""
    }
   },
   "source": [
    "Lo primero que debemos hacer, es establecer la conexión a EventHubs para poder procesar los datos que nos llegan desde ahí, por lo que deberemos de proporcionar en el código tanto la cadena de conexión como el nombre del eventhubs."
   ]
  },
  {
   "cell_type": "code",
   "execution_count": 0,
   "metadata": {
    "application/vnd.databricks.v1+cell": {
     "cellMetadata": {
      "byteLimit": 2048000,
      "rowLimit": 10000
     },
     "inputWidgets": {},
     "nuid": "9b0a84f5-572d-4c69-8926-3fe440dbc3a7",
     "showTitle": false,
     "tableResultSettingsMap": {},
     "title": ""
    }
   },
   "outputs": [],
   "source": [
    "connectionString = \"<your_connection_string>\"\n",
    "eventHubName = \"<your_event_hub_name>\"\n",
    "\n",
    "ehConf = {\n",
    "  'eventhubs.connectionString' : sc._jvm.org.apache.spark.eventhubs.EventHubsUtils.encrypt(connectionString),\n",
    "  'eventhubs.eventHubName': eventHubName\n",
    "}"
   ]
  },
  {
   "cell_type": "markdown",
   "metadata": {
    "application/vnd.databricks.v1+cell": {
     "cellMetadata": {},
     "inputWidgets": {},
     "nuid": "9257373a-bc61-4ed8-8695-74b9b2e9f9ca",
     "showTitle": false,
     "tableResultSettingsMap": {},
     "title": ""
    }
   },
   "source": [
    "Una vez establecida la conexión con EventHubs, tenemos que crear un dataframe que va a empezar a escuchar los eventos que recibe el servicio antes mencionado"
   ]
  },
  {
   "cell_type": "code",
   "execution_count": 0,
   "metadata": {
    "application/vnd.databricks.v1+cell": {
     "cellMetadata": {
      "byteLimit": 2048000,
      "rowLimit": 10000
     },
     "inputWidgets": {},
     "nuid": "1660ed25-cd7d-4c3a-aad4-bdfaad6763cb",
     "showTitle": false,
     "tableResultSettingsMap": {},
     "title": ""
    }
   },
   "outputs": [
    {
     "data": {
      "text/html": [
       "<style scoped>\n",
       "  .table-result-container {\n",
       "    max-height: 300px;\n",
       "    overflow: auto;\n",
       "  }\n",
       "  table, th, td {\n",
       "    border: 1px solid black;\n",
       "    border-collapse: collapse;\n",
       "  }\n",
       "  th, td {\n",
       "    padding: 5px;\n",
       "  }\n",
       "  th {\n",
       "    text-align: left;\n",
       "  }\n",
       "</style><div class='table-result-container'><table class='table-result'><thead style='background-color: white'><tr><th>body</th><th>partition</th><th>offset</th><th>sequenceNumber</th><th>enqueuedTime</th><th>publisher</th><th>partitionKey</th><th>properties</th><th>systemProperties</th></tr></thead><tbody><tr><td>eyJjYXJfaWQiOiAiVklLVU5FVEEiLCAibGF0aXR1ZGUiOiA0MC4zOTcyMiwgImxvbmdpdHVkZSI6IC0zLjY0OTEsICJlbGV2YXRpb24iOiAxMDcuMDYsICJ0aW1lc3RhbXAiOiAiMDowMDowMCIsICJkaXN0YW5jZV9rbSI6IDA= (truncated)</td><td>0</td><td>296144</td><td>1301</td><td>2024-12-11T18:03:59.798Z</td><td>null</td><td>VIKUNETA</td><td>Map()</td><td>Map(x-opt-sequence-number-epoch -> -1, x-opt-partition-key -> VIKUNETA)</td></tr><tr><td>eyJjYXJfaWQiOiAiVklLVU5FVEEiLCAibGF0aXR1ZGUiOiA0MC4zOTcxNSwgImxvbmdpdHVkZSI6IC0zLjY0OTIxLCAiZWxldmF0aW9uIjogMTA2LjI5LCAidGltZXN0YW1wIjogIjA6MDA6MDEiLCAiZGlzdGFuY2Vfa20iOiA= (truncated)</td><td>0</td><td>296392</td><td>1302</td><td>2024-12-11T18:04:00.736Z</td><td>null</td><td>VIKUNETA</td><td>Map()</td><td>Map(x-opt-sequence-number-epoch -> -1, x-opt-partition-key -> VIKUNETA)</td></tr><tr><td>eyJjYXJfaWQiOiAiVklLVU5FVEEiLCAibGF0aXR1ZGUiOiA0MC4zOTcwOCwgImxvbmdpdHVkZSI6IC0zLjY0OTE0LCAiZWxldmF0aW9uIjogMTA1LjkzLCAidGltZXN0YW1wIjogIjA6MDA6MDIiLCAiZGlzdGFuY2Vfa20iOiA= (truncated)</td><td>0</td><td>296648</td><td>1303</td><td>2024-12-11T18:04:01.814Z</td><td>null</td><td>VIKUNETA</td><td>Map()</td><td>Map(x-opt-sequence-number-epoch -> -1, x-opt-partition-key -> VIKUNETA)</td></tr><tr><td>eyJjYXJfaWQiOiAiVklLVU5FVEEiLCAibGF0aXR1ZGUiOiA0MC4zOTc2NCwgImxvbmdpdHVkZSI6IC0zLjY0ODMsICJlbGV2YXRpb24iOiAxMDYuNCwgInRpbWVzdGFtcCI6ICIwOjAwOjAzIiwgImRpc3RhbmNlX2ttIjogMC4= (truncated)</td><td>0</td><td>296904</td><td>1304</td><td>2024-12-11T18:04:02.783Z</td><td>null</td><td>VIKUNETA</td><td>Map()</td><td>Map(x-opt-sequence-number-epoch -> -1, x-opt-partition-key -> VIKUNETA)</td></tr><tr><td>eyJjYXJfaWQiOiAiVklLVU5FVEEiLCAibGF0aXR1ZGUiOiA0MC4zOTc3NywgImxvbmdpdHVkZSI6IC0zLjY0ODA5LCAiZWxldmF0aW9uIjogMTA1LjY0LCAidGltZXN0YW1wIjogIjA6MDA6MDQiLCAiZGlzdGFuY2Vfa20iOiA= (truncated)</td><td>0</td><td>297160</td><td>1305</td><td>2024-12-11T18:04:03.767Z</td><td>null</td><td>VIKUNETA</td><td>Map()</td><td>Map(x-opt-sequence-number-epoch -> -1, x-opt-partition-key -> VIKUNETA)</td></tr><tr><td>eyJjYXJfaWQiOiAiVklLVU5FVEEiLCAibGF0aXR1ZGUiOiA0MC4zOTc5LCAibG9uZ2l0dWRlIjogLTMuNjQ3ODcsICJlbGV2YXRpb24iOiAxMDQuNywgInRpbWVzdGFtcCI6ICIwOjAwOjA1IiwgImRpc3RhbmNlX2ttIjogMC4= (truncated)</td><td>0</td><td>297416</td><td>1306</td><td>2024-12-11T18:04:04.798Z</td><td>null</td><td>VIKUNETA</td><td>Map()</td><td>Map(x-opt-sequence-number-epoch -> -1, x-opt-partition-key -> VIKUNETA)</td></tr><tr><td>eyJjYXJfaWQiOiAiVklLVU5FVEEiLCAibGF0aXR1ZGUiOiA0MC4zOTgxLCAibG9uZ2l0dWRlIjogLTMuNjQ3NSwgImVsZXZhdGlvbiI6IDEwNC4wOCwgInRpbWVzdGFtcCI6ICIwOjAwOjA2IiwgImRpc3RhbmNlX2ttIjogMC4= (truncated)</td><td>0</td><td>297672</td><td>1307</td><td>2024-12-11T18:04:05.783Z</td><td>null</td><td>VIKUNETA</td><td>Map()</td><td>Map(x-opt-sequence-number-epoch -> -1, x-opt-partition-key -> VIKUNETA)</td></tr><tr><td>eyJjYXJfaWQiOiAiVklLVU5FVEEiLCAibGF0aXR1ZGUiOiA0MC4zOTgxMSwgImxvbmdpdHVkZSI6IC0zLjY0NzQ2LCAiZWxldmF0aW9uIjogMTA0LjMxLCAidGltZXN0YW1wIjogIjA6MDA6MDciLCAiZGlzdGFuY2Vfa20iOiA= (truncated)</td><td>0</td><td>297928</td><td>1308</td><td>2024-12-11T18:04:06.814Z</td><td>null</td><td>VIKUNETA</td><td>Map()</td><td>Map(x-opt-sequence-number-epoch -> -1, x-opt-partition-key -> VIKUNETA)</td></tr><tr><td>eyJjYXJfaWQiOiAiVklLVU5FVEEiLCAibGF0aXR1ZGUiOiA0MC4zOTgxNiwgImxvbmdpdHVkZSI6IC0zLjY0NzM1LCAiZWxldmF0aW9uIjogMTA0LjM3LCAidGltZXN0YW1wIjogIjA6MDA6MDgiLCAiZGlzdGFuY2Vfa20iOiA= (truncated)</td><td>0</td><td>298184</td><td>1309</td><td>2024-12-11T18:04:07.814Z</td><td>null</td><td>VIKUNETA</td><td>Map()</td><td>Map(x-opt-sequence-number-epoch -> -1, x-opt-partition-key -> VIKUNETA)</td></tr><tr><td>eyJjYXJfaWQiOiAiVklLVU5FVEEiLCAibGF0aXR1ZGUiOiA0MC4zOTgxOSwgImxvbmdpdHVkZSI6IC0zLjY0NzI5LCAiZWxldmF0aW9uIjogMTA0LjE3LCAidGltZXN0YW1wIjogIjA6MDA6MDkiLCAiZGlzdGFuY2Vfa20iOiA= (truncated)</td><td>0</td><td>298440</td><td>1310</td><td>2024-12-11T18:04:08.845Z</td><td>null</td><td>VIKUNETA</td><td>Map()</td><td>Map(x-opt-sequence-number-epoch -> -1, x-opt-partition-key -> VIKUNETA)</td></tr><tr><td>eyJjYXJfaWQiOiAiVklLVU5FVEEiLCAibGF0aXR1ZGUiOiA0MC4zOTgyNSwgImxvbmdpdHVkZSI6IC0zLjY0NzE1LCAiZWxldmF0aW9uIjogMTAzLjI1LCAidGltZXN0YW1wIjogIjA6MDA6MTAiLCAiZGlzdGFuY2Vfa20iOiA= (truncated)</td><td>0</td><td>298696</td><td>1311</td><td>2024-12-11T18:04:09.861Z</td><td>null</td><td>VIKUNETA</td><td>Map()</td><td>Map(x-opt-sequence-number-epoch -> -1, x-opt-partition-key -> VIKUNETA)</td></tr><tr><td>eyJjYXJfaWQiOiAiVklLVU5FVEEiLCAibGF0aXR1ZGUiOiA0MC4zOTgzNCwgImxvbmdpdHVkZSI6IC0zLjY0NjkyLCAiZWxldmF0aW9uIjogMTAyLjM3LCAidGltZXN0YW1wIjogIjA6MDA6MTEiLCAiZGlzdGFuY2Vfa20iOiA= (truncated)</td><td>0</td><td>298952</td><td>1312</td><td>2024-12-11T18:04:10.939Z</td><td>null</td><td>VIKUNETA</td><td>Map()</td><td>Map(x-opt-sequence-number-epoch -> -1, x-opt-partition-key -> VIKUNETA)</td></tr><tr><td>eyJjYXJfaWQiOiAiVklLVU5FVEEiLCAibGF0aXR1ZGUiOiA0MC4zOTg0MiwgImxvbmdpdHVkZSI6IC0zLjY0Njc3LCAiZWxldmF0aW9uIjogMTAyLjgsICJ0aW1lc3RhbXAiOiAiMDowMDoxMiIsICJkaXN0YW5jZV9rbSI6IDA= (truncated)</td><td>0</td><td>299208</td><td>1313</td><td>2024-12-11T18:04:11.908Z</td><td>null</td><td>VIKUNETA</td><td>Map()</td><td>Map(x-opt-sequence-number-epoch -> -1, x-opt-partition-key -> VIKUNETA)</td></tr><tr><td>eyJjYXJfaWQiOiAiVklLVU5FVEEiLCAibGF0aXR1ZGUiOiA0MC4zOTg1MywgImxvbmdpdHVkZSI6IC0zLjY0NjU1LCAiZWxldmF0aW9uIjogMTAyLjk3LCAidGltZXN0YW1wIjogIjA6MDA6MTMiLCAiZGlzdGFuY2Vfa20iOiA= (truncated)</td><td>0</td><td>299464</td><td>1314</td><td>2024-12-11T18:04:12.845Z</td><td>null</td><td>VIKUNETA</td><td>Map()</td><td>Map(x-opt-sequence-number-epoch -> -1, x-opt-partition-key -> VIKUNETA)</td></tr><tr><td>eyJjYXJfaWQiOiAiVklLVU5FVEEiLCAibGF0aXR1ZGUiOiA0MC4zOTg2LCAibG9uZ2l0dWRlIjogLTMuNjQ2NDMsICJlbGV2YXRpb24iOiAxMDMuODYsICJ0aW1lc3RhbXAiOiAiMDowMDoxNCIsICJkaXN0YW5jZV9rbSI6IDA= (truncated)</td><td>0</td><td>299720</td><td>1315</td><td>2024-12-11T18:04:13.861Z</td><td>null</td><td>VIKUNETA</td><td>Map()</td><td>Map(x-opt-sequence-number-epoch -> -1, x-opt-partition-key -> VIKUNETA)</td></tr><tr><td>eyJjYXJfaWQiOiAiVklLVU5FVEEiLCAibGF0aXR1ZGUiOiA0MC4zOTg3MiwgImxvbmdpdHVkZSI6IC0zLjY0NjIzLCAiZWxldmF0aW9uIjogMTAzLjU4LCAidGltZXN0YW1wIjogIjA6MDA6MTUiLCAiZGlzdGFuY2Vfa20iOiA= (truncated)</td><td>0</td><td>299976</td><td>1316</td><td>2024-12-11T18:04:14.892Z</td><td>null</td><td>VIKUNETA</td><td>Map()</td><td>Map(x-opt-sequence-number-epoch -> -1, x-opt-partition-key -> VIKUNETA)</td></tr><tr><td>eyJjYXJfaWQiOiAiVklLVU5FVEEiLCAibGF0aXR1ZGUiOiA0MC4zOTg3NSwgImxvbmdpdHVkZSI6IC0zLjY0NjIxLCAiZWxldmF0aW9uIjogMTAzLjAxLCAidGltZXN0YW1wIjogIjA6MDA6MTYiLCAiZGlzdGFuY2Vfa20iOiA= (truncated)</td><td>0</td><td>300232</td><td>1317</td><td>2024-12-11T18:04:15.892Z</td><td>null</td><td>VIKUNETA</td><td>Map()</td><td>Map(x-opt-sequence-number-epoch -> -1, x-opt-partition-key -> VIKUNETA)</td></tr><tr><td>eyJjYXJfaWQiOiAiVklLVU5FVEEiLCAibGF0aXR1ZGUiOiA0MC4zOTg3OCwgImxvbmdpdHVkZSI6IC0zLjY0NjE5LCAiZWxldmF0aW9uIjogMTAzLjczLCAidGltZXN0YW1wIjogIjA6MDA6MTciLCAiZGlzdGFuY2Vfa20iOiA= (truncated)</td><td>0</td><td>300488</td><td>1318</td><td>2024-12-11T18:04:16.924Z</td><td>null</td><td>VIKUNETA</td><td>Map()</td><td>Map(x-opt-sequence-number-epoch -> -1, x-opt-partition-key -> VIKUNETA)</td></tr><tr><td>eyJjYXJfaWQiOiAiVklLVU5FVEEiLCAibGF0aXR1ZGUiOiA0MC4zOTg4NiwgImxvbmdpdHVkZSI6IC0zLjY0NjE4LCAiZWxldmF0aW9uIjogMTAzLjg2LCAidGltZXN0YW1wIjogIjA6MDA6MTgiLCAiZGlzdGFuY2Vfa20iOiA= (truncated)</td><td>0</td><td>300744</td><td>1319</td><td>2024-12-11T18:04:17.924Z</td><td>null</td><td>VIKUNETA</td><td>Map()</td><td>Map(x-opt-sequence-number-epoch -> -1, x-opt-partition-key -> VIKUNETA)</td></tr><tr><td>eyJjYXJfaWQiOiAiVklLVU5FVEEiLCAibGF0aXR1ZGUiOiA0MC4zOTg5MywgImxvbmdpdHVkZSI6IC0zLjY0NjE4LCAiZWxldmF0aW9uIjogMTA0LjU0LCAidGltZXN0YW1wIjogIjA6MDA6MTkiLCAiZGlzdGFuY2Vfa20iOiA= (truncated)</td><td>0</td><td>301000</td><td>1320</td><td>2024-12-11T18:04:18.955Z</td><td>null</td><td>VIKUNETA</td><td>Map()</td><td>Map(x-opt-sequence-number-epoch -> -1, x-opt-partition-key -> VIKUNETA)</td></tr><tr><td>eyJjYXJfaWQiOiAiVklLVU5FVEEiLCAibGF0aXR1ZGUiOiA0MC4zOTkwOSwgImxvbmdpdHVkZSI6IC0zLjY0NjM0LCAiZWxldmF0aW9uIjogMTAzLjg1LCAidGltZXN0YW1wIjogIjA6MDA6MjAiLCAiZGlzdGFuY2Vfa20iOiA= (truncated)</td><td>0</td><td>301256</td><td>1321</td><td>2024-12-11T18:04:19.939Z</td><td>null</td><td>VIKUNETA</td><td>Map()</td><td>Map(x-opt-sequence-number-epoch -> -1, x-opt-partition-key -> VIKUNETA)</td></tr><tr><td>eyJjYXJfaWQiOiAiVklLVU5FVEEiLCAibGF0aXR1ZGUiOiA0MC4zOTkyOSwgImxvbmdpdHVkZSI6IC0zLjY0NjU0LCAiZWxldmF0aW9uIjogMTAzLjAxLCAidGltZXN0YW1wIjogIjA6MDA6MjEiLCAiZGlzdGFuY2Vfa20iOiA= (truncated)</td><td>0</td><td>301512</td><td>1322</td><td>2024-12-11T18:04:21.064Z</td><td>null</td><td>VIKUNETA</td><td>Map()</td><td>Map(x-opt-sequence-number-epoch -> -1, x-opt-partition-key -> VIKUNETA)</td></tr><tr><td>eyJjYXJfaWQiOiAiVklLVU5FVEEiLCAibGF0aXR1ZGUiOiA0MC4zOTk0MSwgImxvbmdpdHVkZSI6IC0zLjY0NjY4LCAiZWxldmF0aW9uIjogMTAzLjc1LCAidGltZXN0YW1wIjogIjA6MDA6MjIiLCAiZGlzdGFuY2Vfa20iOiA= (truncated)</td><td>0</td><td>301768</td><td>1323</td><td>2024-12-11T18:04:21.986Z</td><td>null</td><td>VIKUNETA</td><td>Map()</td><td>Map(x-opt-sequence-number-epoch -> -1, x-opt-partition-key -> VIKUNETA)</td></tr><tr><td>eyJjYXJfaWQiOiAiVklLVU5FVEEiLCAibGF0aXR1ZGUiOiA0MC4zOTk2NywgImxvbmdpdHVkZSI6IC0zLjY0Njk4LCAiZWxldmF0aW9uIjogMTAzLjYzLCAidGltZXN0YW1wIjogIjA6MDA6MjMiLCAiZGlzdGFuY2Vfa20iOiA= (truncated)</td><td>0</td><td>302024</td><td>1324</td><td>2024-12-11T18:04:22.924Z</td><td>null</td><td>VIKUNETA</td><td>Map()</td><td>Map(x-opt-sequence-number-epoch -> -1, x-opt-partition-key -> VIKUNETA)</td></tr><tr><td>eyJjYXJfaWQiOiAiVklLVU5FVEEiLCAibGF0aXR1ZGUiOiA0MC4zOTk3OSwgImxvbmdpdHVkZSI6IC0zLjY0NzEyLCAiZWxldmF0aW9uIjogMTAzLjEzLCAidGltZXN0YW1wIjogIjA6MDA6MjQiLCAiZGlzdGFuY2Vfa20iOiA= (truncated)</td><td>0</td><td>302280</td><td>1325</td><td>2024-12-11T18:04:23.986Z</td><td>null</td><td>VIKUNETA</td><td>Map()</td><td>Map(x-opt-sequence-number-epoch -> -1, x-opt-partition-key -> VIKUNETA)</td></tr><tr><td>eyJjYXJfaWQiOiAiVklLVU5FVEEiLCAibGF0aXR1ZGUiOiA0MC4zOTk5NSwgImxvbmdpdHVkZSI6IC0zLjY0NzMsICJlbGV2YXRpb24iOiAxMDIuODEsICJ0aW1lc3RhbXAiOiAiMDowMDoyNSIsICJkaXN0YW5jZV9rbSI6IDA= (truncated)</td><td>0</td><td>302536</td><td>1326</td><td>2024-12-11T18:04:24.955Z</td><td>null</td><td>VIKUNETA</td><td>Map()</td><td>Map(x-opt-sequence-number-epoch -> -1, x-opt-partition-key -> VIKUNETA)</td></tr><tr><td>eyJjYXJfaWQiOiAiVklLVU5FVEEiLCAibGF0aXR1ZGUiOiA0MC40MDAwNSwgImxvbmdpdHVkZSI6IC0zLjY0NzQzLCAiZWxldmF0aW9uIjogMTAzLjQsICJ0aW1lc3RhbXAiOiAiMDowMDoyNiIsICJkaXN0YW5jZV9rbSI6IDA= (truncated)</td><td>0</td><td>302792</td><td>1327</td><td>2024-12-11T18:04:25.956Z</td><td>null</td><td>VIKUNETA</td><td>Map()</td><td>Map(x-opt-sequence-number-epoch -> -1, x-opt-partition-key -> VIKUNETA)</td></tr><tr><td>eyJjYXJfaWQiOiAiVklLVU5FVEEiLCAibGF0aXR1ZGUiOiA0MC40MDAwOCwgImxvbmdpdHVkZSI6IC0zLjY0NzQ2LCAiZWxldmF0aW9uIjogMTA0LjAzLCAidGltZXN0YW1wIjogIjA6MDA6MjciLCAiZGlzdGFuY2Vfa20iOiA= (truncated)</td><td>0</td><td>303048</td><td>1328</td><td>2024-12-11T18:04:27.002Z</td><td>null</td><td>VIKUNETA</td><td>Map()</td><td>Map(x-opt-sequence-number-epoch -> -1, x-opt-partition-key -> VIKUNETA)</td></tr><tr><td>eyJjYXJfaWQiOiAiVklLVU5FVEEiLCAibGF0aXR1ZGUiOiA0MC40MDAwOSwgImxvbmdpdHVkZSI6IC0zLjY0NzQ3LCAiZWxldmF0aW9uIjogMTAzLjcxLCAidGltZXN0YW1wIjogIjA6MDA6MjgiLCAiZGlzdGFuY2Vfa20iOiA= (truncated)</td><td>0</td><td>303304</td><td>1329</td><td>2024-12-11T18:04:27.986Z</td><td>null</td><td>VIKUNETA</td><td>Map()</td><td>Map(x-opt-sequence-number-epoch -> -1, x-opt-partition-key -> VIKUNETA)</td></tr><tr><td>eyJjYXJfaWQiOiAiVklLVU5FVEEiLCAibGF0aXR1ZGUiOiA0MC40MDAxMSwgImxvbmdpdHVkZSI6IC0zLjY0NzQ3LCAiZWxldmF0aW9uIjogMTAzLjk4LCAidGltZXN0YW1wIjogIjA6MDA6MjkiLCAiZGlzdGFuY2Vfa20iOiA= (truncated)</td><td>0</td><td>303560</td><td>1330</td><td>2024-12-11T18:04:28.986Z</td><td>null</td><td>VIKUNETA</td><td>Map()</td><td>Map(x-opt-sequence-number-epoch -> -1, x-opt-partition-key -> VIKUNETA)</td></tr><tr><td>eyJjYXJfaWQiOiAiVklLVU5FVEEiLCAibGF0aXR1ZGUiOiA0MC40MDAxMiwgImxvbmdpdHVkZSI6IC0zLjY0NzQ3LCAiZWxldmF0aW9uIjogMTA0LjExLCAidGltZXN0YW1wIjogIjA6MDA6MzAiLCAiZGlzdGFuY2Vfa20iOiA= (truncated)</td><td>0</td><td>303816</td><td>1331</td><td>2024-12-11T18:04:30.002Z</td><td>null</td><td>VIKUNETA</td><td>Map()</td><td>Map(x-opt-sequence-number-epoch -> -1, x-opt-partition-key -> VIKUNETA)</td></tr><tr><td>eyJjYXJfaWQiOiAiVklLVU5FVEEyIiwgImxhdGl0dWRlIjogNDAuMzg3MTYsICJsb25naXR1ZGUiOiAtMy42NTA1NywgImVsZXZhdGlvbiI6IDUwLjkyLCAidGltZXN0YW1wIjogIjA6MDA6MDAiLCAiZGlzdGFuY2Vfa20iOiA= (truncated)</td><td>0</td><td>304072</td><td>1332</td><td>2024-12-11T18:04:30.049Z</td><td>null</td><td>VIKUNETA2</td><td>Map()</td><td>Map(x-opt-sequence-number-epoch -> -1, x-opt-partition-key -> VIKUNETA2)</td></tr><tr><td>eyJjYXJfaWQiOiAiVklLVU5FVEEiLCAibGF0aXR1ZGUiOiA0MC40MDAxOCwgImxvbmdpdHVkZSI6IC0zLjY0NzQ5LCAiZWxldmF0aW9uIjogMTA0LjQ3LCAidGltZXN0YW1wIjogIjA6MDA6MzEiLCAiZGlzdGFuY2Vfa20iOiA= (truncated)</td><td>0</td><td>304360</td><td>1333</td><td>2024-12-11T18:04:31.002Z</td><td>null</td><td>VIKUNETA</td><td>Map()</td><td>Map(x-opt-sequence-number-epoch -> -1, x-opt-partition-key -> VIKUNETA)</td></tr><tr><td>eyJjYXJfaWQiOiAiVklLVU5FVEEyIiwgImxhdGl0dWRlIjogNDAuMzg4MDIsICJsb25naXR1ZGUiOiAtMy42NTA4OCwgImVsZXZhdGlvbiI6IDUwLjk5LCAidGltZXN0YW1wIjogIjA6MDA6MDUiLCAiZGlzdGFuY2Vfa20iOiA= (truncated)</td><td>0</td><td>304616</td><td>1334</td><td>2024-12-11T18:04:31.064Z</td><td>null</td><td>VIKUNETA2</td><td>Map()</td><td>Map(x-opt-sequence-number-epoch -> -1, x-opt-partition-key -> VIKUNETA2)</td></tr><tr><td>eyJjYXJfaWQiOiAiVklLVU5FVEEiLCAibGF0aXR1ZGUiOiA0MC40MDAyMiwgImxvbmdpdHVkZSI6IC0zLjY0NzUzLCAiZWxldmF0aW9uIjogMTAzLjksICJ0aW1lc3RhbXAiOiAiMDowMDozMiIsICJkaXN0YW5jZV9rbSI6IDA= (truncated)</td><td>0</td><td>304912</td><td>1335</td><td>2024-12-11T18:04:32.033Z</td><td>null</td><td>VIKUNETA</td><td>Map()</td><td>Map(x-opt-sequence-number-epoch -> -1, x-opt-partition-key -> VIKUNETA)</td></tr><tr><td>eyJjYXJfaWQiOiAiVklLVU5FVEEyIiwgImxhdGl0dWRlIjogNDAuMzg4MDIsICJsb25naXR1ZGUiOiAtMy42NTA3NiwgImVsZXZhdGlvbiI6IDUwLjYyLCAidGltZXN0YW1wIjogIjA6MDA6MDYiLCAiZGlzdGFuY2Vfa20iOiA= (truncated)</td><td>0</td><td>305168</td><td>1336</td><td>2024-12-11T18:04:32.143Z</td><td>null</td><td>VIKUNETA2</td><td>Map()</td><td>Map(x-opt-sequence-number-epoch -> -1, x-opt-partition-key -> VIKUNETA2)</td></tr><tr><td>eyJjYXJfaWQiOiAiVklLVU5FVEEiLCAibGF0aXR1ZGUiOiA0MC40MDAyMywgImxvbmdpdHVkZSI6IC0zLjY0NzU1LCAiZWxldmF0aW9uIjogMTA0LjgzLCAidGltZXN0YW1wIjogIjA6MDA6MzMiLCAiZGlzdGFuY2Vfa20iOiA= (truncated)</td><td>0</td><td>305464</td><td>1337</td><td>2024-12-11T18:04:33.018Z</td><td>null</td><td>VIKUNETA</td><td>Map()</td><td>Map(x-opt-sequence-number-epoch -> -1, x-opt-partition-key -> VIKUNETA)</td></tr><tr><td>eyJjYXJfaWQiOiAiVklLVU5FVEEyIiwgImxhdGl0dWRlIjogNDAuMzg4MDIsICJsb25naXR1ZGUiOiAtMy42NTA2NCwgImVsZXZhdGlvbiI6IDUxLjA2LCAidGltZXN0YW1wIjogIjA6MDA6MDYiLCAiZGlzdGFuY2Vfa20iOiA= (truncated)</td><td>0</td><td>305720</td><td>1338</td><td>2024-12-11T18:04:33.065Z</td><td>null</td><td>VIKUNETA2</td><td>Map()</td><td>Map(x-opt-sequence-number-epoch -> -1, x-opt-partition-key -> VIKUNETA2)</td></tr><tr><td>eyJjYXJfaWQiOiAiVklLVU5FVEEiLCAibGF0aXR1ZGUiOiA0MC40MDAyNSwgImxvbmdpdHVkZSI6IC0zLjY0NzU4LCAiZWxldmF0aW9uIjogMTA1LjI1LCAidGltZXN0YW1wIjogIjA6MDA6MzQiLCAiZGlzdGFuY2Vfa20iOiA= (truncated)</td><td>0</td><td>306016</td><td>1339</td><td>2024-12-11T18:04:34.049Z</td><td>null</td><td>VIKUNETA</td><td>Map()</td><td>Map(x-opt-sequence-number-epoch -> -1, x-opt-partition-key -> VIKUNETA)</td></tr><tr><td>eyJjYXJfaWQiOiAiVklLVU5FVEEyIiwgImxhdGl0dWRlIjogNDAuMzg4LCAibG9uZ2l0dWRlIjogLTMuNjUwNTMsICJlbGV2YXRpb24iOiA1MC40NiwgInRpbWVzdGFtcCI6ICIwOjAwOjA2IiwgImRpc3RhbmNlX2ttIjogMC4= (truncated)</td><td>0</td><td>306272</td><td>1340</td><td>2024-12-11T18:04:34.08Z</td><td>null</td><td>VIKUNETA2</td><td>Map()</td><td>Map(x-opt-sequence-number-epoch -> -1, x-opt-partition-key -> VIKUNETA2)</td></tr><tr><td>eyJjYXJfaWQiOiAiVklLVU5FVEEiLCAibGF0aXR1ZGUiOiA0MC40MDAyNiwgImxvbmdpdHVkZSI6IC0zLjY0NzYsICJlbGV2YXRpb24iOiAxMDUuNzcsICJ0aW1lc3RhbXAiOiAiMDowMDozNSIsICJkaXN0YW5jZV9rbSI6IDA= (truncated)</td><td>0</td><td>306560</td><td>1341</td><td>2024-12-11T18:04:35.08Z</td><td>null</td><td>VIKUNETA</td><td>Map()</td><td>Map(x-opt-sequence-number-epoch -> -1, x-opt-partition-key -> VIKUNETA)</td></tr><tr><td>eyJjYXJfaWQiOiAiVklLVU5FVEEyIiwgImxhdGl0dWRlIjogNDAuMzg4MjMsICJsb25naXR1ZGUiOiAtMy42NTA0NywgImVsZXZhdGlvbiI6IDUwLjYsICJ0aW1lc3RhbXAiOiAiMDowMDowOCIsICJkaXN0YW5jZV9rbSI6IDA= (truncated)</td><td>0</td><td>306816</td><td>1342</td><td>2024-12-11T18:04:35.111Z</td><td>null</td><td>VIKUNETA2</td><td>Map()</td><td>Map(x-opt-sequence-number-epoch -> -1, x-opt-partition-key -> VIKUNETA2)</td></tr><tr><td>eyJjYXJfaWQiOiAiVklLVU5FVEEiLCAibGF0aXR1ZGUiOiA0MC40MDAyNywgImxvbmdpdHVkZSI6IC0zLjY0NzY0LCAiZWxldmF0aW9uIjogMTA1LjI3LCAidGltZXN0YW1wIjogIjA6MDA6MzYiLCAiZGlzdGFuY2Vfa20iOiA= (truncated)</td><td>0</td><td>307112</td><td>1343</td><td>2024-12-11T18:04:36.049Z</td><td>null</td><td>VIKUNETA</td><td>Map()</td><td>Map(x-opt-sequence-number-epoch -> -1, x-opt-partition-key -> VIKUNETA)</td></tr><tr><td>eyJjYXJfaWQiOiAiVklLVU5FVEEyIiwgImxhdGl0dWRlIjogNDAuMzg4MjgsICJsb25naXR1ZGUiOiAtMy42NTEwMSwgImVsZXZhdGlvbiI6IDUwLjc4LCAidGltZXN0YW1wIjogIjA6MDA6MTMiLCAiZGlzdGFuY2Vfa20iOiA= (truncated)</td><td>0</td><td>307368</td><td>1344</td><td>2024-12-11T18:04:36.111Z</td><td>null</td><td>VIKUNETA2</td><td>Map()</td><td>Map(x-opt-sequence-number-epoch -> -1, x-opt-partition-key -> VIKUNETA2)</td></tr><tr><td>eyJjYXJfaWQiOiAiVklLVU5FVEEiLCAibGF0aXR1ZGUiOiA0MC40MDAyNywgImxvbmdpdHVkZSI6IC0zLjY0NzY2LCAiZWxldmF0aW9uIjogMTA0LjYsICJ0aW1lc3RhbXAiOiAiMDowMDozNyIsICJkaXN0YW5jZV9rbSI6IDA= (truncated)</td><td>0</td><td>307664</td><td>1345</td><td>2024-12-11T18:04:37.065Z</td><td>null</td><td>VIKUNETA</td><td>Map()</td><td>Map(x-opt-sequence-number-epoch -> -1, x-opt-partition-key -> VIKUNETA)</td></tr><tr><td>eyJjYXJfaWQiOiAiVklLVU5FVEEyIiwgImxhdGl0dWRlIjogNDAuMzg4MzIsICJsb25naXR1ZGUiOiAtMy42NTE2NCwgImVsZXZhdGlvbiI6IDUwLjg2LCAidGltZXN0YW1wIjogIjA6MDA6MTYiLCAiZGlzdGFuY2Vfa20iOiA= (truncated)</td><td>0</td><td>307920</td><td>1346</td><td>2024-12-11T18:04:37.143Z</td><td>null</td><td>VIKUNETA2</td><td>Map()</td><td>Map(x-opt-sequence-number-epoch -> -1, x-opt-partition-key -> VIKUNETA2)</td></tr><tr><td>eyJjYXJfaWQiOiAiVklLVU5FVEEiLCAibGF0aXR1ZGUiOiA0MC40MDAyNywgImxvbmdpdHVkZSI6IC0zLjY0NzY5LCAiZWxldmF0aW9uIjogMTAzLjYyLCAidGltZXN0YW1wIjogIjA6MDA6MzgiLCAiZGlzdGFuY2Vfa20iOiA= (truncated)</td><td>0</td><td>308216</td><td>1347</td><td>2024-12-11T18:04:38.065Z</td><td>null</td><td>VIKUNETA</td><td>Map()</td><td>Map(x-opt-sequence-number-epoch -> -1, x-opt-partition-key -> VIKUNETA)</td></tr><tr><td>eyJjYXJfaWQiOiAiVklLVU5FVEEyIiwgImxhdGl0dWRlIjogNDAuMzg4MzIsICJsb25naXR1ZGUiOiAtMy42NTE5NSwgImVsZXZhdGlvbiI6IDUwLjE5LCAidGltZXN0YW1wIjogIjA6MDA6MTgiLCAiZGlzdGFuY2Vfa20iOiA= (truncated)</td><td>0</td><td>308472</td><td>1348</td><td>2024-12-11T18:04:38.111Z</td><td>null</td><td>VIKUNETA2</td><td>Map()</td><td>Map(x-opt-sequence-number-epoch -> -1, x-opt-partition-key -> VIKUNETA2)</td></tr><tr><td>eyJjYXJfaWQiOiAiVklLVU5FVEEiLCAibGF0aXR1ZGUiOiA0MC40MDAyNiwgImxvbmdpdHVkZSI6IC0zLjY0NzczLCAiZWxldmF0aW9uIjogMTA0LjM3LCAidGltZXN0YW1wIjogIjA6MDA6MzkiLCAiZGlzdGFuY2Vfa20iOiA= (truncated)</td><td>0</td><td>308768</td><td>1349</td><td>2024-12-11T18:04:39.08Z</td><td>null</td><td>VIKUNETA</td><td>Map()</td><td>Map(x-opt-sequence-number-epoch -> -1, x-opt-partition-key -> VIKUNETA)</td></tr><tr><td>eyJjYXJfaWQiOiAiVklLVU5FVEEyIiwgImxhdGl0dWRlIjogNDAuMzg4MzIsICJsb25naXR1ZGUiOiAtMy42NTIwNSwgImVsZXZhdGlvbiI6IDUxLjA5LCAidGltZXN0YW1wIjogIjA6MDA6MTgiLCAiZGlzdGFuY2Vfa20iOiA= (truncated)</td><td>0</td><td>309024</td><td>1350</td><td>2024-12-11T18:04:39.143Z</td><td>null</td><td>VIKUNETA2</td><td>Map()</td><td>Map(x-opt-sequence-number-epoch -> -1, x-opt-partition-key -> VIKUNETA2)</td></tr><tr><td>eyJjYXJfaWQiOiAiVklLVU5FVEEiLCAibGF0aXR1ZGUiOiA0MC40MDAyNCwgImxvbmdpdHVkZSI6IC0zLjY0Nzc2LCAiZWxldmF0aW9uIjogMTA0LjUsICJ0aW1lc3RhbXAiOiAiMDowMDo0MCIsICJkaXN0YW5jZV9rbSI6IDA= (truncated)</td><td>0</td><td>309320</td><td>1351</td><td>2024-12-11T18:04:40.112Z</td><td>null</td><td>VIKUNETA</td><td>Map()</td><td>Map(x-opt-sequence-number-epoch -> -1, x-opt-partition-key -> VIKUNETA)</td></tr><tr><td>eyJjYXJfaWQiOiAiVklLVU5FVEEyIiwgImxhdGl0dWRlIjogNDAuMzg4MzEsICJsb25naXR1ZGUiOiAtMy42NTI0MywgImVsZXZhdGlvbiI6IDUwLjgxLCAidGltZXN0YW1wIjogIjA6MDA6MjAiLCAiZGlzdGFuY2Vfa20iOiA= (truncated)</td><td>0</td><td>309576</td><td>1352</td><td>2024-12-11T18:04:40.143Z</td><td>null</td><td>VIKUNETA2</td><td>Map()</td><td>Map(x-opt-sequence-number-epoch -> -1, x-opt-partition-key -> VIKUNETA2)</td></tr><tr><td>eyJjYXJfaWQiOiAiVklLVU5FVEEiLCAibGF0aXR1ZGUiOiA0MC40MDAyMiwgImxvbmdpdHVkZSI6IC0zLjY0NzgxLCAiZWxldmF0aW9uIjogMTA0LjQsICJ0aW1lc3RhbXAiOiAiMDowMDo0MSIsICJkaXN0YW5jZV9rbSI6IDA= (truncated)</td><td>0</td><td>309872</td><td>1353</td><td>2024-12-11T18:04:41.112Z</td><td>null</td><td>VIKUNETA</td><td>Map()</td><td>Map(x-opt-sequence-number-epoch -> -1, x-opt-partition-key -> VIKUNETA)</td></tr><tr><td>eyJjYXJfaWQiOiAiVklLVU5FVEEyIiwgImxhdGl0dWRlIjogNDAuMzg4MzMsICJsb25naXR1ZGUiOiAtMy42NTI1NCwgImVsZXZhdGlvbiI6IDUwLjUzLCAidGltZXN0YW1wIjogIjA6MDA6MjAiLCAiZGlzdGFuY2Vfa20iOiA= (truncated)</td><td>0</td><td>310128</td><td>1354</td><td>2024-12-11T18:04:41.268Z</td><td>null</td><td>VIKUNETA2</td><td>Map()</td><td>Map(x-opt-sequence-number-epoch -> -1, x-opt-partition-key -> VIKUNETA2)</td></tr><tr><td>eyJjYXJfaWQiOiAiVklLVU5FVEEiLCAibGF0aXR1ZGUiOiA0MC40MDAxNiwgImxvbmdpdHVkZSI6IC0zLjY0NzgzLCAiZWxldmF0aW9uIjogMTA0Ljg3LCAidGltZXN0YW1wIjogIjA6MDA6NDIiLCAiZGlzdGFuY2Vfa20iOiA= (truncated)</td><td>0</td><td>310424</td><td>1355</td><td>2024-12-11T18:04:42.143Z</td><td>null</td><td>VIKUNETA</td><td>Map()</td><td>Map(x-opt-sequence-number-epoch -> -1, x-opt-partition-key -> VIKUNETA)</td></tr><tr><td>eyJjYXJfaWQiOiAiVklLVU5FVEEyIiwgImxhdGl0dWRlIjogNDAuMzg4MzUsICJsb25naXR1ZGUiOiAtMy42NTI3MywgImVsZXZhdGlvbiI6IDQ5LjU1LCAidGltZXN0YW1wIjogIjA6MDA6MjIiLCAiZGlzdGFuY2Vfa20iOiA= (truncated)</td><td>0</td><td>310680</td><td>1356</td><td>2024-12-11T18:04:42.19Z</td><td>null</td><td>VIKUNETA2</td><td>Map()</td><td>Map(x-opt-sequence-number-epoch -> -1, x-opt-partition-key -> VIKUNETA2)</td></tr><tr><td>eyJjYXJfaWQiOiAiVklLVU5FVEEiLCAibGF0aXR1ZGUiOiA0MC40MDAyNSwgImxvbmdpdHVkZSI6IC0zLjY0Nzk0LCAiZWxldmF0aW9uIjogMTA0LjIzLCAidGltZXN0YW1wIjogIjA6MDA6NDMiLCAiZGlzdGFuY2Vfa20iOiA= (truncated)</td><td>0</td><td>310976</td><td>1357</td><td>2024-12-11T18:04:43.143Z</td><td>null</td><td>VIKUNETA</td><td>Map()</td><td>Map(x-opt-sequence-number-epoch -> -1, x-opt-partition-key -> VIKUNETA)</td></tr><tr><td>eyJjYXJfaWQiOiAiVklLVU5FVEEyIiwgImxhdGl0dWRlIjogNDAuMzg4MzYsICJsb25naXR1ZGUiOiAtMy42NTI4NywgImVsZXZhdGlvbiI6IDQ5LjEzLCAidGltZXN0YW1wIjogIjA6MDA6MjMiLCAiZGlzdGFuY2Vfa20iOiA= (truncated)</td><td>0</td><td>311232</td><td>1358</td><td>2024-12-11T18:04:43.205Z</td><td>null</td><td>VIKUNETA2</td><td>Map()</td><td>Map(x-opt-sequence-number-epoch -> -1, x-opt-partition-key -> VIKUNETA2)</td></tr><tr><td>eyJjYXJfaWQiOiAiVklLVU5FVEEiLCAibGF0aXR1ZGUiOiA0MC40MDAyOCwgImxvbmdpdHVkZSI6IC0zLjY0ODA5LCAiZWxldmF0aW9uIjogMTA1LjA3LCAidGltZXN0YW1wIjogIjA6MDA6NDQiLCAiZGlzdGFuY2Vfa20iOiA= (truncated)</td><td>0</td><td>311528</td><td>1359</td><td>2024-12-11T18:04:44.174Z</td><td>null</td><td>VIKUNETA</td><td>Map()</td><td>Map(x-opt-sequence-number-epoch -> -1, x-opt-partition-key -> VIKUNETA)</td></tr><tr><td>eyJjYXJfaWQiOiAiVklLVU5FVEEyIiwgImxhdGl0dWRlIjogNDAuMzg4NTMsICJsb25naXR1ZGUiOiAtMy42NTI4NSwgImVsZXZhdGlvbiI6IDQ4LjIzLCAidGltZXN0YW1wIjogIjA6MDA6MjUiLCAiZGlzdGFuY2Vfa20iOiA= (truncated)</td><td>0</td><td>311784</td><td>1360</td><td>2024-12-11T18:04:44.221Z</td><td>null</td><td>VIKUNETA2</td><td>Map()</td><td>Map(x-opt-sequence-number-epoch -> -1, x-opt-partition-key -> VIKUNETA2)</td></tr><tr><td>eyJjYXJfaWQiOiAiVklLVU5FVEEiLCAibGF0aXR1ZGUiOiA0MC40MDAzMSwgImxvbmdpdHVkZSI6IC0zLjY0ODI1LCAiZWxldmF0aW9uIjogMTA1LjQsICJ0aW1lc3RhbXAiOiAiMDowMDo0NSIsICJkaXN0YW5jZV9rbSI6IDA= (truncated)</td><td>0</td><td>312080</td><td>1361</td><td>2024-12-11T18:04:45.174Z</td><td>null</td><td>VIKUNETA</td><td>Map()</td><td>Map(x-opt-sequence-number-epoch -> -1, x-opt-partition-key -> VIKUNETA)</td></tr><tr><td>eyJjYXJfaWQiOiAiVklLVU5FVEEyIiwgImxhdGl0dWRlIjogNDAuMzg4ODQsICJsb25naXR1ZGUiOiAtMy42NTI4MywgImVsZXZhdGlvbiI6IDQ4LjAxLCAidGltZXN0YW1wIjogIjA6MDA6MjciLCAiZGlzdGFuY2Vfa20iOiA= (truncated)</td><td>0</td><td>312336</td><td>1362</td><td>2024-12-11T18:04:45.205Z</td><td>null</td><td>VIKUNETA2</td><td>Map()</td><td>Map(x-opt-sequence-number-epoch -> -1, x-opt-partition-key -> VIKUNETA2)</td></tr><tr><td>eyJjYXJfaWQiOiAiVklLVU5FVEEiLCAibGF0aXR1ZGUiOiA0MC40MDAzNCwgImxvbmdpdHVkZSI6IC0zLjY0ODM1LCAiZWxldmF0aW9uIjogMTA2LjI5LCAidGltZXN0YW1wIjogIjA6MDA6NDYiLCAiZGlzdGFuY2Vfa20iOiA= (truncated)</td><td>0</td><td>312632</td><td>1363</td><td>2024-12-11T18:04:46.174Z</td><td>null</td><td>VIKUNETA</td><td>Map()</td><td>Map(x-opt-sequence-number-epoch -> -1, x-opt-partition-key -> VIKUNETA)</td></tr><tr><td>eyJjYXJfaWQiOiAiVklLVU5FVEEyIiwgImxhdGl0dWRlIjogNDAuMzg5MDEsICJsb25naXR1ZGUiOiAtMy42NTI4MywgImVsZXZhdGlvbiI6IDQ4LjAxLCAidGltZXN0YW1wIjogIjA6MDA6MjgiLCAiZGlzdGFuY2Vfa20iOiA= (truncated)</td><td>0</td><td>312888</td><td>1364</td><td>2024-12-11T18:04:46.221Z</td><td>null</td><td>VIKUNETA2</td><td>Map()</td><td>Map(x-opt-sequence-number-epoch -> -1, x-opt-partition-key -> VIKUNETA2)</td></tr><tr><td>eyJjYXJfaWQiOiAiVklLVU5FVEEiLCAibGF0aXR1ZGUiOiA0MC40MDA0LCAibG9uZ2l0dWRlIjogLTMuNjQ4NDcsICJlbGV2YXRpb24iOiAxMDcuMTYsICJ0aW1lc3RhbXAiOiAiMDowMDo0NyIsICJkaXN0YW5jZV9rbSI6IDA= (truncated)</td><td>0</td><td>313184</td><td>1365</td><td>2024-12-11T18:04:47.19Z</td><td>null</td><td>VIKUNETA</td><td>Map()</td><td>Map(x-opt-sequence-number-epoch -> -1, x-opt-partition-key -> VIKUNETA)</td></tr><tr><td>eyJjYXJfaWQiOiAiVklLVU5FVEEyIiwgImxhdGl0dWRlIjogNDAuMzg5MTcsICJsb25naXR1ZGUiOiAtMy42NTI4MywgImVsZXZhdGlvbiI6IDQ4LjUsICJ0aW1lc3RhbXAiOiAiMDowMDoyOSIsICJkaXN0YW5jZV9rbSI6IDA= (truncated)</td><td>0</td><td>313440</td><td>1366</td><td>2024-12-11T18:04:47.237Z</td><td>null</td><td>VIKUNETA2</td><td>Map()</td><td>Map(x-opt-sequence-number-epoch -> -1, x-opt-partition-key -> VIKUNETA2)</td></tr><tr><td>eyJjYXJfaWQiOiAiVklLVU5FVEEiLCAibGF0aXR1ZGUiOiA0MC40MDA0NCwgImxvbmdpdHVkZSI6IC0zLjY0ODUzLCAiZWxldmF0aW9uIjogMTA4LjA0LCAidGltZXN0YW1wIjogIjA6MDA6NDgiLCAiZGlzdGFuY2Vfa20iOiA= (truncated)</td><td>0</td><td>313736</td><td>1367</td><td>2024-12-11T18:04:48.221Z</td><td>null</td><td>VIKUNETA</td><td>Map()</td><td>Map(x-opt-sequence-number-epoch -> -1, x-opt-partition-key -> VIKUNETA)</td></tr><tr><td>eyJjYXJfaWQiOiAiVklLVU5FVEEyIiwgImxhdGl0dWRlIjogNDAuMzg5MzYsICJsb25naXR1ZGUiOiAtMy42NTI4OCwgImVsZXZhdGlvbiI6IDQ4LjQsICJ0aW1lc3RhbXAiOiAiMDowMDozMCIsICJkaXN0YW5jZV9rbSI6IDA= (truncated)</td><td>0</td><td>313992</td><td>1368</td><td>2024-12-11T18:04:48.252Z</td><td>null</td><td>VIKUNETA2</td><td>Map()</td><td>Map(x-opt-sequence-number-epoch -> -1, x-opt-partition-key -> VIKUNETA2)</td></tr><tr><td>eyJjYXJfaWQiOiAiVklLVU5FVEEiLCAibGF0aXR1ZGUiOiA0MC40MDA2NywgImxvbmdpdHVkZSI6IC0zLjY0ODkzLCAiZWxldmF0aW9uIjogMTA4LjkxLCAidGltZXN0YW1wIjogIjA6MDA6NDkiLCAiZGlzdGFuY2Vfa20iOiA= (truncated)</td><td>0</td><td>314288</td><td>1369</td><td>2024-12-11T18:04:49.221Z</td><td>null</td><td>VIKUNETA</td><td>Map()</td><td>Map(x-opt-sequence-number-epoch -> -1, x-opt-partition-key -> VIKUNETA)</td></tr><tr><td>eyJjYXJfaWQiOiAiVklLVU5FVEEyIiwgImxhdGl0dWRlIjogNDAuMzg5NTgsICJsb25naXR1ZGUiOiAtMy42NTI5NiwgImVsZXZhdGlvbiI6IDQ4LjY1LCAidGltZXN0YW1wIjogIjA6MDA6MzIiLCAiZGlzdGFuY2Vfa20iOiA= (truncated)</td><td>0</td><td>314544</td><td>1370</td><td>2024-12-11T18:04:49.252Z</td><td>null</td><td>VIKUNETA2</td><td>Map()</td><td>Map(x-opt-sequence-number-epoch -> -1, x-opt-partition-key -> VIKUNETA2)</td></tr><tr><td>eyJjYXJfaWQiOiAiVklLVU5FVEEiLCAibGF0aXR1ZGUiOiA0MC40MDA3NCwgImxvbmdpdHVkZSI6IC0zLjY0OTAyLCAiZWxldmF0aW9uIjogMTA4LjIxLCAidGltZXN0YW1wIjogIjA6MDA6NTAiLCAiZGlzdGFuY2Vfa20iOiA= (truncated)</td><td>0</td><td>314840</td><td>1371</td><td>2024-12-11T18:04:50.237Z</td><td>null</td><td>VIKUNETA</td><td>Map()</td><td>Map(x-opt-sequence-number-epoch -> -1, x-opt-partition-key -> VIKUNETA)</td></tr><tr><td>eyJjYXJfaWQiOiAiVklLVU5FVEEyIiwgImxhdGl0dWRlIjogNDAuMzg5OCwgImxvbmdpdHVkZSI6IC0zLjY1MzA1LCAiZWxldmF0aW9uIjogNDcuOTIsICJ0aW1lc3RhbXAiOiAiMDowMDozMyIsICJkaXN0YW5jZV9rbSI6IDA= (truncated)</td><td>0</td><td>315096</td><td>1372</td><td>2024-12-11T18:04:50.268Z</td><td>null</td><td>VIKUNETA2</td><td>Map()</td><td>Map(x-opt-sequence-number-epoch -> -1, x-opt-partition-key -> VIKUNETA2)</td></tr><tr><td>eyJjYXJfaWQiOiAiVklLVU5FVEEiLCAibGF0aXR1ZGUiOiA0MC40MDEzLCAibG9uZ2l0dWRlIjogLTMuNjQ5NjQsICJlbGV2YXRpb24iOiAxMDcuNzMsICJ0aW1lc3RhbXAiOiAiMDowMDo1MSIsICJkaXN0YW5jZV9rbSI6IDA= (truncated)</td><td>0</td><td>315392</td><td>1373</td><td>2024-12-11T18:04:51.237Z</td><td>null</td><td>VIKUNETA</td><td>Map()</td><td>Map(x-opt-sequence-number-epoch -> -1, x-opt-partition-key -> VIKUNETA)</td></tr><tr><td>eyJjYXJfaWQiOiAiVklLVU5FVEEyIiwgImxhdGl0dWRlIjogNDAuMzkwMjMsICJsb25naXR1ZGUiOiAtMy42NTMyLCAiZWxldmF0aW9uIjogNDguMzEsICJ0aW1lc3RhbXAiOiAiMDowMDozNiIsICJkaXN0YW5jZV9rbSI6IDA= (truncated)</td><td>0</td><td>315648</td><td>1374</td><td>2024-12-11T18:04:51.284Z</td><td>null</td><td>VIKUNETA2</td><td>Map()</td><td>Map(x-opt-sequence-number-epoch -> -1, x-opt-partition-key -> VIKUNETA2)</td></tr><tr><td>eyJjYXJfaWQiOiAiVklLVU5FVEEiLCAibGF0aXR1ZGUiOiA0MC40MDE0OSwgImxvbmdpdHVkZSI6IC0zLjY0OTg1LCAiZWxldmF0aW9uIjogMTA2Ljk0LCAidGltZXN0YW1wIjogIjA6MDA6NTIiLCAiZGlzdGFuY2Vfa20iOiA= (truncated)</td><td>0</td><td>315944</td><td>1375</td><td>2024-12-11T18:04:52.268Z</td><td>null</td><td>VIKUNETA</td><td>Map()</td><td>Map(x-opt-sequence-number-epoch -> -1, x-opt-partition-key -> VIKUNETA)</td></tr><tr><td>eyJjYXJfaWQiOiAiVklLVU5FVEEyIiwgImxhdGl0dWRlIjogNDAuMzkwODUsICJsb25naXR1ZGUiOiAtMy42NTM0NiwgImVsZXZhdGlvbiI6IDQ4LjEyLCAidGltZXN0YW1wIjogIjA6MDA6NDAiLCAiZGlzdGFuY2Vfa20iOiA= (truncated)</td><td>0</td><td>316200</td><td>1376</td><td>2024-12-11T18:04:52.393Z</td><td>null</td><td>VIKUNETA2</td><td>Map()</td><td>Map(x-opt-sequence-number-epoch -> -1, x-opt-partition-key -> VIKUNETA2)</td></tr><tr><td>eyJjYXJfaWQiOiAiVklLVU5FVEEiLCAibGF0aXR1ZGUiOiA0MC40MDE3NiwgImxvbmdpdHVkZSI6IC0zLjY1MDE1LCAiZWxldmF0aW9uIjogMTA2Ljg2LCAidGltZXN0YW1wIjogIjA6MDA6NTMiLCAiZGlzdGFuY2Vfa20iOiA= (truncated)</td><td>0</td><td>316496</td><td>1377</td><td>2024-12-11T18:04:53.284Z</td><td>null</td><td>VIKUNETA</td><td>Map()</td><td>Map(x-opt-sequence-number-epoch -> -1, x-opt-partition-key -> VIKUNETA)</td></tr><tr><td>eyJjYXJfaWQiOiAiVklLVU5FVEEyIiwgImxhdGl0dWRlIjogNDAuMzkwOTUsICJsb25naXR1ZGUiOiAtMy42NTM0OCwgImVsZXZhdGlvbiI6IDQ4Ljk5LCAidGltZXN0YW1wIjogIjA6MDA6NDEiLCAiZGlzdGFuY2Vfa20iOiA= (truncated)</td><td>0</td><td>316752</td><td>1378</td><td>2024-12-11T18:04:53.299Z</td><td>null</td><td>VIKUNETA2</td><td>Map()</td><td>Map(x-opt-sequence-number-epoch -> -1, x-opt-partition-key -> VIKUNETA2)</td></tr><tr><td>eyJjYXJfaWQiOiAiVklLVU5FVEEiLCAibGF0aXR1ZGUiOiA0MC40MDIzOCwgImxvbmdpdHVkZSI6IC0zLjY1MDg0LCAiZWxldmF0aW9uIjogMTA3LjAsICJ0aW1lc3RhbXAiOiAiMDowMDo1NCIsICJkaXN0YW5jZV9rbSI6IDA= (truncated)</td><td>0</td><td>317048</td><td>1379</td><td>2024-12-11T18:04:54.252Z</td><td>null</td><td>VIKUNETA</td><td>Map()</td><td>Map(x-opt-sequence-number-epoch -> -1, x-opt-partition-key -> VIKUNETA)</td></tr><tr><td>eyJjYXJfaWQiOiAiVklLVU5FVEEyIiwgImxhdGl0dWRlIjogNDAuMzkxMDIsICJsb25naXR1ZGUiOiAtMy42NTM0OSwgImVsZXZhdGlvbiI6IDQ4LjQxLCAidGltZXN0YW1wIjogIjA6MDA6NDEiLCAiZGlzdGFuY2Vfa20iOiA= (truncated)</td><td>0</td><td>317304</td><td>1380</td><td>2024-12-11T18:04:54.331Z</td><td>null</td><td>VIKUNETA2</td><td>Map()</td><td>Map(x-opt-sequence-number-epoch -> -1, x-opt-partition-key -> VIKUNETA2)</td></tr><tr><td>eyJjYXJfaWQiOiAiVklLVU5FVEEiLCAibGF0aXR1ZGUiOiA0MC40MDI0NSwgImxvbmdpdHVkZSI6IC0zLjY1MDkyLCAiZWxldmF0aW9uIjogMTA2LjcsICJ0aW1lc3RhbXAiOiAiMDowMDo1NSIsICJkaXN0YW5jZV9rbSI6IDA= (truncated)</td><td>0</td><td>317600</td><td>1381</td><td>2024-12-11T18:04:55.252Z</td><td>null</td><td>VIKUNETA</td><td>Map()</td><td>Map(x-opt-sequence-number-epoch -> -1, x-opt-partition-key -> VIKUNETA)</td></tr><tr><td>eyJjYXJfaWQiOiAiVklLVU5FVEEyIiwgImxhdGl0dWRlIjogNDAuMzkxMTIsICJsb25naXR1ZGUiOiAtMy42NTM0NywgImVsZXZhdGlvbiI6IDQ4LjIzLCAidGltZXN0YW1wIjogIjA6MDA6NDEiLCAiZGlzdGFuY2Vfa20iOiA= (truncated)</td><td>0</td><td>317856</td><td>1382</td><td>2024-12-11T18:04:55.331Z</td><td>null</td><td>VIKUNETA2</td><td>Map()</td><td>Map(x-opt-sequence-number-epoch -> -1, x-opt-partition-key -> VIKUNETA2)</td></tr><tr><td>eyJjYXJfaWQiOiAiVklLVU5FVEEiLCAibGF0aXR1ZGUiOiA0MC40MDM2MiwgImxvbmdpdHVkZSI6IC0zLjY1MjI2LCAiZWxldmF0aW9uIjogMTA2LjM3LCAidGltZXN0YW1wIjogIjA6MDA6NTYiLCAiZGlzdGFuY2Vfa20iOiA= (truncated)</td><td>0</td><td>318152</td><td>1383</td><td>2024-12-11T18:04:56.268Z</td><td>null</td><td>VIKUNETA</td><td>Map()</td><td>Map(x-opt-sequence-number-epoch -> -1, x-opt-partition-key -> VIKUNETA)</td></tr><tr><td>eyJjYXJfaWQiOiAiVklLVU5FVEEyIiwgImxhdGl0dWRlIjogNDAuMzkxMjQsICJsb25naXR1ZGUiOiAtMy42NTM0MywgImVsZXZhdGlvbiI6IDQ4LjY0LCAidGltZXN0YW1wIjogIjA6MDA6NDIiLCAiZGlzdGFuY2Vfa20iOiA= (truncated)</td><td>0</td><td>318408</td><td>1384</td><td>2024-12-11T18:04:56.315Z</td><td>null</td><td>VIKUNETA2</td><td>Map()</td><td>Map(x-opt-sequence-number-epoch -> -1, x-opt-partition-key -> VIKUNETA2)</td></tr><tr><td>eyJjYXJfaWQiOiAiVklLVU5FVEEiLCAibGF0aXR1ZGUiOiA0MC40MDM5MywgImxvbmdpdHVkZSI6IC0zLjY1MjYzLCAiZWxldmF0aW9uIjogMTA1LjgsICJ0aW1lc3RhbXAiOiAiMDowMDo1NyIsICJkaXN0YW5jZV9rbSI6IDA= (truncated)</td><td>0</td><td>318704</td><td>1385</td><td>2024-12-11T18:04:57.299Z</td><td>null</td><td>VIKUNETA</td><td>Map()</td><td>Map(x-opt-sequence-number-epoch -> -1, x-opt-partition-key -> VIKUNETA)</td></tr><tr><td>eyJjYXJfaWQiOiAiVklLVU5FVEEyIiwgImxhdGl0dWRlIjogNDAuMzkxMzIsICJsb25naXR1ZGUiOiAtMy42NTM0MywgImVsZXZhdGlvbiI6IDQ4LjEsICJ0aW1lc3RhbXAiOiAiMDowMDo0MiIsICJkaXN0YW5jZV9rbSI6IDA= (truncated)</td><td>0</td><td>318960</td><td>1386</td><td>2024-12-11T18:04:57.362Z</td><td>null</td><td>VIKUNETA2</td><td>Map()</td><td>Map(x-opt-sequence-number-epoch -> -1, x-opt-partition-key -> VIKUNETA2)</td></tr><tr><td>eyJjYXJfaWQiOiAiVklLVU5FVEEiLCAibGF0aXR1ZGUiOiA0MC40MDM5OSwgImxvbmdpdHVkZSI6IC0zLjY1MjcsICJlbGV2YXRpb24iOiAxMDUuMjcsICJ0aW1lc3RhbXAiOiAiMDowMDo1OCIsICJkaXN0YW5jZV9rbSI6IDA= (truncated)</td><td>0</td><td>319256</td><td>1387</td><td>2024-12-11T18:04:58.331Z</td><td>null</td><td>VIKUNETA</td><td>Map()</td><td>Map(x-opt-sequence-number-epoch -> -1, x-opt-partition-key -> VIKUNETA)</td></tr><tr><td>eyJjYXJfaWQiOiAiVklLVU5FVEEyIiwgImxhdGl0dWRlIjogNDAuMzkxMzUsICJsb25naXR1ZGUiOiAtMy42NTM0MiwgImVsZXZhdGlvbiI6IDQ3LjQ2LCAidGltZXN0YW1wIjogIjA6MDA6NDIiLCAiZGlzdGFuY2Vfa20iOiA= (truncated)</td><td>0</td><td>319512</td><td>1388</td><td>2024-12-11T18:04:58.346Z</td><td>null</td><td>VIKUNETA2</td><td>Map()</td><td>Map(x-opt-sequence-number-epoch -> -1, x-opt-partition-key -> VIKUNETA2)</td></tr><tr><td>eyJjYXJfaWQiOiAiVklLVU5FVEEiLCAibGF0aXR1ZGUiOiA0MC40MDQzNywgImxvbmdpdHVkZSI6IC0zLjY1MzI1LCAiZWxldmF0aW9uIjogMTA1LjI4LCAidGltZXN0YW1wIjogIjA6MDA6NTkiLCAiZGlzdGFuY2Vfa20iOiA= (truncated)</td><td>0</td><td>319808</td><td>1389</td><td>2024-12-11T18:04:59.299Z</td><td>null</td><td>VIKUNETA</td><td>Map()</td><td>Map(x-opt-sequence-number-epoch -> -1, x-opt-partition-key -> VIKUNETA)</td></tr><tr><td>eyJjYXJfaWQiOiAiVklLVU5FVEEyIiwgImxhdGl0dWRlIjogNDAuMzkxNDIsICJsb25naXR1ZGUiOiAtMy42NTM0LCAiZWxldmF0aW9uIjogNDguMjcsICJ0aW1lc3RhbXAiOiAiMDowMDo0MiIsICJkaXN0YW5jZV9rbSI6IDA= (truncated)</td><td>0</td><td>320064</td><td>1390</td><td>2024-12-11T18:04:59.346Z</td><td>null</td><td>VIKUNETA2</td><td>Map()</td><td>Map(x-opt-sequence-number-epoch -> -1, x-opt-partition-key -> VIKUNETA2)</td></tr><tr><td>eyJjYXJfaWQiOiAiVklLVU5FVEEiLCAibGF0aXR1ZGUiOiA0MC40MDQ3NSwgImxvbmdpdHVkZSI6IC0zLjY1Mzg2LCAiZWxldmF0aW9uIjogMTA0LjcsICJ0aW1lc3RhbXAiOiAiMDowMTowMCIsICJkaXN0YW5jZV9rbSI6IDA= (truncated)</td><td>0</td><td>320360</td><td>1391</td><td>2024-12-11T18:05:00.331Z</td><td>null</td><td>VIKUNETA</td><td>Map()</td><td>Map(x-opt-sequence-number-epoch -> -1, x-opt-partition-key -> VIKUNETA)</td></tr><tr><td>eyJjYXJfaWQiOiAiVklLVU5FVEEyIiwgImxhdGl0dWRlIjogNDAuMzkxNSwgImxvbmdpdHVkZSI6IC0zLjY1MzQsICJlbGV2YXRpb24iOiA0OS4xOSwgInRpbWVzdGFtcCI6ICIwOjAwOjQyIiwgImRpc3RhbmNlX2ttIjogMC4= (truncated)</td><td>0</td><td>320616</td><td>1392</td><td>2024-12-11T18:05:00.362Z</td><td>null</td><td>VIKUNETA2</td><td>Map()</td><td>Map(x-opt-sequence-number-epoch -> -1, x-opt-partition-key -> VIKUNETA2)</td></tr><tr><td>eyJjYXJfaWQiOiAiVklLVU5FVEEiLCAibGF0aXR1ZGUiOiA0MC40MDQ4LCAibG9uZ2l0dWRlIjogLTMuNjU0LCAiZWxldmF0aW9uIjogMTA0Ljc5LCAidGltZXN0YW1wIjogIjA6MDE6MDEiLCAiZGlzdGFuY2Vfa20iOiAwLjA= (truncated)</td><td>0</td><td>320912</td><td>1393</td><td>2024-12-11T18:05:01.331Z</td><td>null</td><td>VIKUNETA</td><td>Map()</td><td>Map(x-opt-sequence-number-epoch -> -1, x-opt-partition-key -> VIKUNETA)</td></tr><tr><td>eyJjYXJfaWQiOiAiVklLVU5FVEEyIiwgImxhdGl0dWRlIjogNDAuMzkxNiwgImxvbmdpdHVkZSI6IC0zLjY1MzU2LCAiZWxldmF0aW9uIjogNDguNCwgInRpbWVzdGFtcCI6ICIwOjAwOjQ0IiwgImRpc3RhbmNlX2ttIjogMC4= (truncated)</td><td>0</td><td>321160</td><td>1394</td><td>2024-12-11T18:05:01.378Z</td><td>null</td><td>VIKUNETA2</td><td>Map()</td><td>Map(x-opt-sequence-number-epoch -> -1, x-opt-partition-key -> VIKUNETA2)</td></tr></tbody></table></div>"
      ]
     },
     "metadata": {
      "application/vnd.databricks.v1+output": {
       "addedWidgets": {},
       "aggData": [],
       "aggError": "",
       "aggOverflow": false,
       "aggSchema": [],
       "aggSeriesLimitReached": false,
       "aggType": "",
       "arguments": {},
       "columnCustomDisplayInfos": {},
       "data": [
        [
         "eyJjYXJfaWQiOiAiVklLVU5FVEEiLCAibGF0aXR1ZGUiOiA0MC4zOTcyMiwgImxvbmdpdHVkZSI6IC0zLjY0OTEsICJlbGV2YXRpb24iOiAxMDcuMDYsICJ0aW1lc3RhbXAiOiAiMDowMDowMCIsICJkaXN0YW5jZV9rbSI6IDA= (truncated)",
         "0",
         "296144",
         1301,
         "2024-12-11T18:03:59.798Z",
         null,
         "VIKUNETA",
         {},
         {
          "x-opt-partition-key": "VIKUNETA",
          "x-opt-sequence-number-epoch": "-1"
         }
        ],
        [
         "eyJjYXJfaWQiOiAiVklLVU5FVEEiLCAibGF0aXR1ZGUiOiA0MC4zOTcxNSwgImxvbmdpdHVkZSI6IC0zLjY0OTIxLCAiZWxldmF0aW9uIjogMTA2LjI5LCAidGltZXN0YW1wIjogIjA6MDA6MDEiLCAiZGlzdGFuY2Vfa20iOiA= (truncated)",
         "0",
         "296392",
         1302,
         "2024-12-11T18:04:00.736Z",
         null,
         "VIKUNETA",
         {},
         {
          "x-opt-partition-key": "VIKUNETA",
          "x-opt-sequence-number-epoch": "-1"
         }
        ],
        [
         "eyJjYXJfaWQiOiAiVklLVU5FVEEiLCAibGF0aXR1ZGUiOiA0MC4zOTcwOCwgImxvbmdpdHVkZSI6IC0zLjY0OTE0LCAiZWxldmF0aW9uIjogMTA1LjkzLCAidGltZXN0YW1wIjogIjA6MDA6MDIiLCAiZGlzdGFuY2Vfa20iOiA= (truncated)",
         "0",
         "296648",
         1303,
         "2024-12-11T18:04:01.814Z",
         null,
         "VIKUNETA",
         {},
         {
          "x-opt-partition-key": "VIKUNETA",
          "x-opt-sequence-number-epoch": "-1"
         }
        ],
        [
         "eyJjYXJfaWQiOiAiVklLVU5FVEEiLCAibGF0aXR1ZGUiOiA0MC4zOTc2NCwgImxvbmdpdHVkZSI6IC0zLjY0ODMsICJlbGV2YXRpb24iOiAxMDYuNCwgInRpbWVzdGFtcCI6ICIwOjAwOjAzIiwgImRpc3RhbmNlX2ttIjogMC4= (truncated)",
         "0",
         "296904",
         1304,
         "2024-12-11T18:04:02.783Z",
         null,
         "VIKUNETA",
         {},
         {
          "x-opt-partition-key": "VIKUNETA",
          "x-opt-sequence-number-epoch": "-1"
         }
        ],
        [
         "eyJjYXJfaWQiOiAiVklLVU5FVEEiLCAibGF0aXR1ZGUiOiA0MC4zOTc3NywgImxvbmdpdHVkZSI6IC0zLjY0ODA5LCAiZWxldmF0aW9uIjogMTA1LjY0LCAidGltZXN0YW1wIjogIjA6MDA6MDQiLCAiZGlzdGFuY2Vfa20iOiA= (truncated)",
         "0",
         "297160",
         1305,
         "2024-12-11T18:04:03.767Z",
         null,
         "VIKUNETA",
         {},
         {
          "x-opt-partition-key": "VIKUNETA",
          "x-opt-sequence-number-epoch": "-1"
         }
        ],
        [
         "eyJjYXJfaWQiOiAiVklLVU5FVEEiLCAibGF0aXR1ZGUiOiA0MC4zOTc5LCAibG9uZ2l0dWRlIjogLTMuNjQ3ODcsICJlbGV2YXRpb24iOiAxMDQuNywgInRpbWVzdGFtcCI6ICIwOjAwOjA1IiwgImRpc3RhbmNlX2ttIjogMC4= (truncated)",
         "0",
         "297416",
         1306,
         "2024-12-11T18:04:04.798Z",
         null,
         "VIKUNETA",
         {},
         {
          "x-opt-partition-key": "VIKUNETA",
          "x-opt-sequence-number-epoch": "-1"
         }
        ],
        [
         "eyJjYXJfaWQiOiAiVklLVU5FVEEiLCAibGF0aXR1ZGUiOiA0MC4zOTgxLCAibG9uZ2l0dWRlIjogLTMuNjQ3NSwgImVsZXZhdGlvbiI6IDEwNC4wOCwgInRpbWVzdGFtcCI6ICIwOjAwOjA2IiwgImRpc3RhbmNlX2ttIjogMC4= (truncated)",
         "0",
         "297672",
         1307,
         "2024-12-11T18:04:05.783Z",
         null,
         "VIKUNETA",
         {},
         {
          "x-opt-partition-key": "VIKUNETA",
          "x-opt-sequence-number-epoch": "-1"
         }
        ],
        [
         "eyJjYXJfaWQiOiAiVklLVU5FVEEiLCAibGF0aXR1ZGUiOiA0MC4zOTgxMSwgImxvbmdpdHVkZSI6IC0zLjY0NzQ2LCAiZWxldmF0aW9uIjogMTA0LjMxLCAidGltZXN0YW1wIjogIjA6MDA6MDciLCAiZGlzdGFuY2Vfa20iOiA= (truncated)",
         "0",
         "297928",
         1308,
         "2024-12-11T18:04:06.814Z",
         null,
         "VIKUNETA",
         {},
         {
          "x-opt-partition-key": "VIKUNETA",
          "x-opt-sequence-number-epoch": "-1"
         }
        ],
        [
         "eyJjYXJfaWQiOiAiVklLVU5FVEEiLCAibGF0aXR1ZGUiOiA0MC4zOTgxNiwgImxvbmdpdHVkZSI6IC0zLjY0NzM1LCAiZWxldmF0aW9uIjogMTA0LjM3LCAidGltZXN0YW1wIjogIjA6MDA6MDgiLCAiZGlzdGFuY2Vfa20iOiA= (truncated)",
         "0",
         "298184",
         1309,
         "2024-12-11T18:04:07.814Z",
         null,
         "VIKUNETA",
         {},
         {
          "x-opt-partition-key": "VIKUNETA",
          "x-opt-sequence-number-epoch": "-1"
         }
        ],
        [
         "eyJjYXJfaWQiOiAiVklLVU5FVEEiLCAibGF0aXR1ZGUiOiA0MC4zOTgxOSwgImxvbmdpdHVkZSI6IC0zLjY0NzI5LCAiZWxldmF0aW9uIjogMTA0LjE3LCAidGltZXN0YW1wIjogIjA6MDA6MDkiLCAiZGlzdGFuY2Vfa20iOiA= (truncated)",
         "0",
         "298440",
         1310,
         "2024-12-11T18:04:08.845Z",
         null,
         "VIKUNETA",
         {},
         {
          "x-opt-partition-key": "VIKUNETA",
          "x-opt-sequence-number-epoch": "-1"
         }
        ],
        [
         "eyJjYXJfaWQiOiAiVklLVU5FVEEiLCAibGF0aXR1ZGUiOiA0MC4zOTgyNSwgImxvbmdpdHVkZSI6IC0zLjY0NzE1LCAiZWxldmF0aW9uIjogMTAzLjI1LCAidGltZXN0YW1wIjogIjA6MDA6MTAiLCAiZGlzdGFuY2Vfa20iOiA= (truncated)",
         "0",
         "298696",
         1311,
         "2024-12-11T18:04:09.861Z",
         null,
         "VIKUNETA",
         {},
         {
          "x-opt-partition-key": "VIKUNETA",
          "x-opt-sequence-number-epoch": "-1"
         }
        ],
        [
         "eyJjYXJfaWQiOiAiVklLVU5FVEEiLCAibGF0aXR1ZGUiOiA0MC4zOTgzNCwgImxvbmdpdHVkZSI6IC0zLjY0NjkyLCAiZWxldmF0aW9uIjogMTAyLjM3LCAidGltZXN0YW1wIjogIjA6MDA6MTEiLCAiZGlzdGFuY2Vfa20iOiA= (truncated)",
         "0",
         "298952",
         1312,
         "2024-12-11T18:04:10.939Z",
         null,
         "VIKUNETA",
         {},
         {
          "x-opt-partition-key": "VIKUNETA",
          "x-opt-sequence-number-epoch": "-1"
         }
        ],
        [
         "eyJjYXJfaWQiOiAiVklLVU5FVEEiLCAibGF0aXR1ZGUiOiA0MC4zOTg0MiwgImxvbmdpdHVkZSI6IC0zLjY0Njc3LCAiZWxldmF0aW9uIjogMTAyLjgsICJ0aW1lc3RhbXAiOiAiMDowMDoxMiIsICJkaXN0YW5jZV9rbSI6IDA= (truncated)",
         "0",
         "299208",
         1313,
         "2024-12-11T18:04:11.908Z",
         null,
         "VIKUNETA",
         {},
         {
          "x-opt-partition-key": "VIKUNETA",
          "x-opt-sequence-number-epoch": "-1"
         }
        ],
        [
         "eyJjYXJfaWQiOiAiVklLVU5FVEEiLCAibGF0aXR1ZGUiOiA0MC4zOTg1MywgImxvbmdpdHVkZSI6IC0zLjY0NjU1LCAiZWxldmF0aW9uIjogMTAyLjk3LCAidGltZXN0YW1wIjogIjA6MDA6MTMiLCAiZGlzdGFuY2Vfa20iOiA= (truncated)",
         "0",
         "299464",
         1314,
         "2024-12-11T18:04:12.845Z",
         null,
         "VIKUNETA",
         {},
         {
          "x-opt-partition-key": "VIKUNETA",
          "x-opt-sequence-number-epoch": "-1"
         }
        ],
        [
         "eyJjYXJfaWQiOiAiVklLVU5FVEEiLCAibGF0aXR1ZGUiOiA0MC4zOTg2LCAibG9uZ2l0dWRlIjogLTMuNjQ2NDMsICJlbGV2YXRpb24iOiAxMDMuODYsICJ0aW1lc3RhbXAiOiAiMDowMDoxNCIsICJkaXN0YW5jZV9rbSI6IDA= (truncated)",
         "0",
         "299720",
         1315,
         "2024-12-11T18:04:13.861Z",
         null,
         "VIKUNETA",
         {},
         {
          "x-opt-partition-key": "VIKUNETA",
          "x-opt-sequence-number-epoch": "-1"
         }
        ],
        [
         "eyJjYXJfaWQiOiAiVklLVU5FVEEiLCAibGF0aXR1ZGUiOiA0MC4zOTg3MiwgImxvbmdpdHVkZSI6IC0zLjY0NjIzLCAiZWxldmF0aW9uIjogMTAzLjU4LCAidGltZXN0YW1wIjogIjA6MDA6MTUiLCAiZGlzdGFuY2Vfa20iOiA= (truncated)",
         "0",
         "299976",
         1316,
         "2024-12-11T18:04:14.892Z",
         null,
         "VIKUNETA",
         {},
         {
          "x-opt-partition-key": "VIKUNETA",
          "x-opt-sequence-number-epoch": "-1"
         }
        ],
        [
         "eyJjYXJfaWQiOiAiVklLVU5FVEEiLCAibGF0aXR1ZGUiOiA0MC4zOTg3NSwgImxvbmdpdHVkZSI6IC0zLjY0NjIxLCAiZWxldmF0aW9uIjogMTAzLjAxLCAidGltZXN0YW1wIjogIjA6MDA6MTYiLCAiZGlzdGFuY2Vfa20iOiA= (truncated)",
         "0",
         "300232",
         1317,
         "2024-12-11T18:04:15.892Z",
         null,
         "VIKUNETA",
         {},
         {
          "x-opt-partition-key": "VIKUNETA",
          "x-opt-sequence-number-epoch": "-1"
         }
        ],
        [
         "eyJjYXJfaWQiOiAiVklLVU5FVEEiLCAibGF0aXR1ZGUiOiA0MC4zOTg3OCwgImxvbmdpdHVkZSI6IC0zLjY0NjE5LCAiZWxldmF0aW9uIjogMTAzLjczLCAidGltZXN0YW1wIjogIjA6MDA6MTciLCAiZGlzdGFuY2Vfa20iOiA= (truncated)",
         "0",
         "300488",
         1318,
         "2024-12-11T18:04:16.924Z",
         null,
         "VIKUNETA",
         {},
         {
          "x-opt-partition-key": "VIKUNETA",
          "x-opt-sequence-number-epoch": "-1"
         }
        ],
        [
         "eyJjYXJfaWQiOiAiVklLVU5FVEEiLCAibGF0aXR1ZGUiOiA0MC4zOTg4NiwgImxvbmdpdHVkZSI6IC0zLjY0NjE4LCAiZWxldmF0aW9uIjogMTAzLjg2LCAidGltZXN0YW1wIjogIjA6MDA6MTgiLCAiZGlzdGFuY2Vfa20iOiA= (truncated)",
         "0",
         "300744",
         1319,
         "2024-12-11T18:04:17.924Z",
         null,
         "VIKUNETA",
         {},
         {
          "x-opt-partition-key": "VIKUNETA",
          "x-opt-sequence-number-epoch": "-1"
         }
        ],
        [
         "eyJjYXJfaWQiOiAiVklLVU5FVEEiLCAibGF0aXR1ZGUiOiA0MC4zOTg5MywgImxvbmdpdHVkZSI6IC0zLjY0NjE4LCAiZWxldmF0aW9uIjogMTA0LjU0LCAidGltZXN0YW1wIjogIjA6MDA6MTkiLCAiZGlzdGFuY2Vfa20iOiA= (truncated)",
         "0",
         "301000",
         1320,
         "2024-12-11T18:04:18.955Z",
         null,
         "VIKUNETA",
         {},
         {
          "x-opt-partition-key": "VIKUNETA",
          "x-opt-sequence-number-epoch": "-1"
         }
        ],
        [
         "eyJjYXJfaWQiOiAiVklLVU5FVEEiLCAibGF0aXR1ZGUiOiA0MC4zOTkwOSwgImxvbmdpdHVkZSI6IC0zLjY0NjM0LCAiZWxldmF0aW9uIjogMTAzLjg1LCAidGltZXN0YW1wIjogIjA6MDA6MjAiLCAiZGlzdGFuY2Vfa20iOiA= (truncated)",
         "0",
         "301256",
         1321,
         "2024-12-11T18:04:19.939Z",
         null,
         "VIKUNETA",
         {},
         {
          "x-opt-partition-key": "VIKUNETA",
          "x-opt-sequence-number-epoch": "-1"
         }
        ],
        [
         "eyJjYXJfaWQiOiAiVklLVU5FVEEiLCAibGF0aXR1ZGUiOiA0MC4zOTkyOSwgImxvbmdpdHVkZSI6IC0zLjY0NjU0LCAiZWxldmF0aW9uIjogMTAzLjAxLCAidGltZXN0YW1wIjogIjA6MDA6MjEiLCAiZGlzdGFuY2Vfa20iOiA= (truncated)",
         "0",
         "301512",
         1322,
         "2024-12-11T18:04:21.064Z",
         null,
         "VIKUNETA",
         {},
         {
          "x-opt-partition-key": "VIKUNETA",
          "x-opt-sequence-number-epoch": "-1"
         }
        ],
        [
         "eyJjYXJfaWQiOiAiVklLVU5FVEEiLCAibGF0aXR1ZGUiOiA0MC4zOTk0MSwgImxvbmdpdHVkZSI6IC0zLjY0NjY4LCAiZWxldmF0aW9uIjogMTAzLjc1LCAidGltZXN0YW1wIjogIjA6MDA6MjIiLCAiZGlzdGFuY2Vfa20iOiA= (truncated)",
         "0",
         "301768",
         1323,
         "2024-12-11T18:04:21.986Z",
         null,
         "VIKUNETA",
         {},
         {
          "x-opt-partition-key": "VIKUNETA",
          "x-opt-sequence-number-epoch": "-1"
         }
        ],
        [
         "eyJjYXJfaWQiOiAiVklLVU5FVEEiLCAibGF0aXR1ZGUiOiA0MC4zOTk2NywgImxvbmdpdHVkZSI6IC0zLjY0Njk4LCAiZWxldmF0aW9uIjogMTAzLjYzLCAidGltZXN0YW1wIjogIjA6MDA6MjMiLCAiZGlzdGFuY2Vfa20iOiA= (truncated)",
         "0",
         "302024",
         1324,
         "2024-12-11T18:04:22.924Z",
         null,
         "VIKUNETA",
         {},
         {
          "x-opt-partition-key": "VIKUNETA",
          "x-opt-sequence-number-epoch": "-1"
         }
        ],
        [
         "eyJjYXJfaWQiOiAiVklLVU5FVEEiLCAibGF0aXR1ZGUiOiA0MC4zOTk3OSwgImxvbmdpdHVkZSI6IC0zLjY0NzEyLCAiZWxldmF0aW9uIjogMTAzLjEzLCAidGltZXN0YW1wIjogIjA6MDA6MjQiLCAiZGlzdGFuY2Vfa20iOiA= (truncated)",
         "0",
         "302280",
         1325,
         "2024-12-11T18:04:23.986Z",
         null,
         "VIKUNETA",
         {},
         {
          "x-opt-partition-key": "VIKUNETA",
          "x-opt-sequence-number-epoch": "-1"
         }
        ],
        [
         "eyJjYXJfaWQiOiAiVklLVU5FVEEiLCAibGF0aXR1ZGUiOiA0MC4zOTk5NSwgImxvbmdpdHVkZSI6IC0zLjY0NzMsICJlbGV2YXRpb24iOiAxMDIuODEsICJ0aW1lc3RhbXAiOiAiMDowMDoyNSIsICJkaXN0YW5jZV9rbSI6IDA= (truncated)",
         "0",
         "302536",
         1326,
         "2024-12-11T18:04:24.955Z",
         null,
         "VIKUNETA",
         {},
         {
          "x-opt-partition-key": "VIKUNETA",
          "x-opt-sequence-number-epoch": "-1"
         }
        ],
        [
         "eyJjYXJfaWQiOiAiVklLVU5FVEEiLCAibGF0aXR1ZGUiOiA0MC40MDAwNSwgImxvbmdpdHVkZSI6IC0zLjY0NzQzLCAiZWxldmF0aW9uIjogMTAzLjQsICJ0aW1lc3RhbXAiOiAiMDowMDoyNiIsICJkaXN0YW5jZV9rbSI6IDA= (truncated)",
         "0",
         "302792",
         1327,
         "2024-12-11T18:04:25.956Z",
         null,
         "VIKUNETA",
         {},
         {
          "x-opt-partition-key": "VIKUNETA",
          "x-opt-sequence-number-epoch": "-1"
         }
        ],
        [
         "eyJjYXJfaWQiOiAiVklLVU5FVEEiLCAibGF0aXR1ZGUiOiA0MC40MDAwOCwgImxvbmdpdHVkZSI6IC0zLjY0NzQ2LCAiZWxldmF0aW9uIjogMTA0LjAzLCAidGltZXN0YW1wIjogIjA6MDA6MjciLCAiZGlzdGFuY2Vfa20iOiA= (truncated)",
         "0",
         "303048",
         1328,
         "2024-12-11T18:04:27.002Z",
         null,
         "VIKUNETA",
         {},
         {
          "x-opt-partition-key": "VIKUNETA",
          "x-opt-sequence-number-epoch": "-1"
         }
        ],
        [
         "eyJjYXJfaWQiOiAiVklLVU5FVEEiLCAibGF0aXR1ZGUiOiA0MC40MDAwOSwgImxvbmdpdHVkZSI6IC0zLjY0NzQ3LCAiZWxldmF0aW9uIjogMTAzLjcxLCAidGltZXN0YW1wIjogIjA6MDA6MjgiLCAiZGlzdGFuY2Vfa20iOiA= (truncated)",
         "0",
         "303304",
         1329,
         "2024-12-11T18:04:27.986Z",
         null,
         "VIKUNETA",
         {},
         {
          "x-opt-partition-key": "VIKUNETA",
          "x-opt-sequence-number-epoch": "-1"
         }
        ],
        [
         "eyJjYXJfaWQiOiAiVklLVU5FVEEiLCAibGF0aXR1ZGUiOiA0MC40MDAxMSwgImxvbmdpdHVkZSI6IC0zLjY0NzQ3LCAiZWxldmF0aW9uIjogMTAzLjk4LCAidGltZXN0YW1wIjogIjA6MDA6MjkiLCAiZGlzdGFuY2Vfa20iOiA= (truncated)",
         "0",
         "303560",
         1330,
         "2024-12-11T18:04:28.986Z",
         null,
         "VIKUNETA",
         {},
         {
          "x-opt-partition-key": "VIKUNETA",
          "x-opt-sequence-number-epoch": "-1"
         }
        ],
        [
         "eyJjYXJfaWQiOiAiVklLVU5FVEEiLCAibGF0aXR1ZGUiOiA0MC40MDAxMiwgImxvbmdpdHVkZSI6IC0zLjY0NzQ3LCAiZWxldmF0aW9uIjogMTA0LjExLCAidGltZXN0YW1wIjogIjA6MDA6MzAiLCAiZGlzdGFuY2Vfa20iOiA= (truncated)",
         "0",
         "303816",
         1331,
         "2024-12-11T18:04:30.002Z",
         null,
         "VIKUNETA",
         {},
         {
          "x-opt-partition-key": "VIKUNETA",
          "x-opt-sequence-number-epoch": "-1"
         }
        ],
        [
         "eyJjYXJfaWQiOiAiVklLVU5FVEEyIiwgImxhdGl0dWRlIjogNDAuMzg3MTYsICJsb25naXR1ZGUiOiAtMy42NTA1NywgImVsZXZhdGlvbiI6IDUwLjkyLCAidGltZXN0YW1wIjogIjA6MDA6MDAiLCAiZGlzdGFuY2Vfa20iOiA= (truncated)",
         "0",
         "304072",
         1332,
         "2024-12-11T18:04:30.049Z",
         null,
         "VIKUNETA2",
         {},
         {
          "x-opt-partition-key": "VIKUNETA2",
          "x-opt-sequence-number-epoch": "-1"
         }
        ],
        [
         "eyJjYXJfaWQiOiAiVklLVU5FVEEiLCAibGF0aXR1ZGUiOiA0MC40MDAxOCwgImxvbmdpdHVkZSI6IC0zLjY0NzQ5LCAiZWxldmF0aW9uIjogMTA0LjQ3LCAidGltZXN0YW1wIjogIjA6MDA6MzEiLCAiZGlzdGFuY2Vfa20iOiA= (truncated)",
         "0",
         "304360",
         1333,
         "2024-12-11T18:04:31.002Z",
         null,
         "VIKUNETA",
         {},
         {
          "x-opt-partition-key": "VIKUNETA",
          "x-opt-sequence-number-epoch": "-1"
         }
        ],
        [
         "eyJjYXJfaWQiOiAiVklLVU5FVEEyIiwgImxhdGl0dWRlIjogNDAuMzg4MDIsICJsb25naXR1ZGUiOiAtMy42NTA4OCwgImVsZXZhdGlvbiI6IDUwLjk5LCAidGltZXN0YW1wIjogIjA6MDA6MDUiLCAiZGlzdGFuY2Vfa20iOiA= (truncated)",
         "0",
         "304616",
         1334,
         "2024-12-11T18:04:31.064Z",
         null,
         "VIKUNETA2",
         {},
         {
          "x-opt-partition-key": "VIKUNETA2",
          "x-opt-sequence-number-epoch": "-1"
         }
        ],
        [
         "eyJjYXJfaWQiOiAiVklLVU5FVEEiLCAibGF0aXR1ZGUiOiA0MC40MDAyMiwgImxvbmdpdHVkZSI6IC0zLjY0NzUzLCAiZWxldmF0aW9uIjogMTAzLjksICJ0aW1lc3RhbXAiOiAiMDowMDozMiIsICJkaXN0YW5jZV9rbSI6IDA= (truncated)",
         "0",
         "304912",
         1335,
         "2024-12-11T18:04:32.033Z",
         null,
         "VIKUNETA",
         {},
         {
          "x-opt-partition-key": "VIKUNETA",
          "x-opt-sequence-number-epoch": "-1"
         }
        ],
        [
         "eyJjYXJfaWQiOiAiVklLVU5FVEEyIiwgImxhdGl0dWRlIjogNDAuMzg4MDIsICJsb25naXR1ZGUiOiAtMy42NTA3NiwgImVsZXZhdGlvbiI6IDUwLjYyLCAidGltZXN0YW1wIjogIjA6MDA6MDYiLCAiZGlzdGFuY2Vfa20iOiA= (truncated)",
         "0",
         "305168",
         1336,
         "2024-12-11T18:04:32.143Z",
         null,
         "VIKUNETA2",
         {},
         {
          "x-opt-partition-key": "VIKUNETA2",
          "x-opt-sequence-number-epoch": "-1"
         }
        ],
        [
         "eyJjYXJfaWQiOiAiVklLVU5FVEEiLCAibGF0aXR1ZGUiOiA0MC40MDAyMywgImxvbmdpdHVkZSI6IC0zLjY0NzU1LCAiZWxldmF0aW9uIjogMTA0LjgzLCAidGltZXN0YW1wIjogIjA6MDA6MzMiLCAiZGlzdGFuY2Vfa20iOiA= (truncated)",
         "0",
         "305464",
         1337,
         "2024-12-11T18:04:33.018Z",
         null,
         "VIKUNETA",
         {},
         {
          "x-opt-partition-key": "VIKUNETA",
          "x-opt-sequence-number-epoch": "-1"
         }
        ],
        [
         "eyJjYXJfaWQiOiAiVklLVU5FVEEyIiwgImxhdGl0dWRlIjogNDAuMzg4MDIsICJsb25naXR1ZGUiOiAtMy42NTA2NCwgImVsZXZhdGlvbiI6IDUxLjA2LCAidGltZXN0YW1wIjogIjA6MDA6MDYiLCAiZGlzdGFuY2Vfa20iOiA= (truncated)",
         "0",
         "305720",
         1338,
         "2024-12-11T18:04:33.065Z",
         null,
         "VIKUNETA2",
         {},
         {
          "x-opt-partition-key": "VIKUNETA2",
          "x-opt-sequence-number-epoch": "-1"
         }
        ],
        [
         "eyJjYXJfaWQiOiAiVklLVU5FVEEiLCAibGF0aXR1ZGUiOiA0MC40MDAyNSwgImxvbmdpdHVkZSI6IC0zLjY0NzU4LCAiZWxldmF0aW9uIjogMTA1LjI1LCAidGltZXN0YW1wIjogIjA6MDA6MzQiLCAiZGlzdGFuY2Vfa20iOiA= (truncated)",
         "0",
         "306016",
         1339,
         "2024-12-11T18:04:34.049Z",
         null,
         "VIKUNETA",
         {},
         {
          "x-opt-partition-key": "VIKUNETA",
          "x-opt-sequence-number-epoch": "-1"
         }
        ],
        [
         "eyJjYXJfaWQiOiAiVklLVU5FVEEyIiwgImxhdGl0dWRlIjogNDAuMzg4LCAibG9uZ2l0dWRlIjogLTMuNjUwNTMsICJlbGV2YXRpb24iOiA1MC40NiwgInRpbWVzdGFtcCI6ICIwOjAwOjA2IiwgImRpc3RhbmNlX2ttIjogMC4= (truncated)",
         "0",
         "306272",
         1340,
         "2024-12-11T18:04:34.08Z",
         null,
         "VIKUNETA2",
         {},
         {
          "x-opt-partition-key": "VIKUNETA2",
          "x-opt-sequence-number-epoch": "-1"
         }
        ],
        [
         "eyJjYXJfaWQiOiAiVklLVU5FVEEiLCAibGF0aXR1ZGUiOiA0MC40MDAyNiwgImxvbmdpdHVkZSI6IC0zLjY0NzYsICJlbGV2YXRpb24iOiAxMDUuNzcsICJ0aW1lc3RhbXAiOiAiMDowMDozNSIsICJkaXN0YW5jZV9rbSI6IDA= (truncated)",
         "0",
         "306560",
         1341,
         "2024-12-11T18:04:35.08Z",
         null,
         "VIKUNETA",
         {},
         {
          "x-opt-partition-key": "VIKUNETA",
          "x-opt-sequence-number-epoch": "-1"
         }
        ],
        [
         "eyJjYXJfaWQiOiAiVklLVU5FVEEyIiwgImxhdGl0dWRlIjogNDAuMzg4MjMsICJsb25naXR1ZGUiOiAtMy42NTA0NywgImVsZXZhdGlvbiI6IDUwLjYsICJ0aW1lc3RhbXAiOiAiMDowMDowOCIsICJkaXN0YW5jZV9rbSI6IDA= (truncated)",
         "0",
         "306816",
         1342,
         "2024-12-11T18:04:35.111Z",
         null,
         "VIKUNETA2",
         {},
         {
          "x-opt-partition-key": "VIKUNETA2",
          "x-opt-sequence-number-epoch": "-1"
         }
        ],
        [
         "eyJjYXJfaWQiOiAiVklLVU5FVEEiLCAibGF0aXR1ZGUiOiA0MC40MDAyNywgImxvbmdpdHVkZSI6IC0zLjY0NzY0LCAiZWxldmF0aW9uIjogMTA1LjI3LCAidGltZXN0YW1wIjogIjA6MDA6MzYiLCAiZGlzdGFuY2Vfa20iOiA= (truncated)",
         "0",
         "307112",
         1343,
         "2024-12-11T18:04:36.049Z",
         null,
         "VIKUNETA",
         {},
         {
          "x-opt-partition-key": "VIKUNETA",
          "x-opt-sequence-number-epoch": "-1"
         }
        ],
        [
         "eyJjYXJfaWQiOiAiVklLVU5FVEEyIiwgImxhdGl0dWRlIjogNDAuMzg4MjgsICJsb25naXR1ZGUiOiAtMy42NTEwMSwgImVsZXZhdGlvbiI6IDUwLjc4LCAidGltZXN0YW1wIjogIjA6MDA6MTMiLCAiZGlzdGFuY2Vfa20iOiA= (truncated)",
         "0",
         "307368",
         1344,
         "2024-12-11T18:04:36.111Z",
         null,
         "VIKUNETA2",
         {},
         {
          "x-opt-partition-key": "VIKUNETA2",
          "x-opt-sequence-number-epoch": "-1"
         }
        ],
        [
         "eyJjYXJfaWQiOiAiVklLVU5FVEEiLCAibGF0aXR1ZGUiOiA0MC40MDAyNywgImxvbmdpdHVkZSI6IC0zLjY0NzY2LCAiZWxldmF0aW9uIjogMTA0LjYsICJ0aW1lc3RhbXAiOiAiMDowMDozNyIsICJkaXN0YW5jZV9rbSI6IDA= (truncated)",
         "0",
         "307664",
         1345,
         "2024-12-11T18:04:37.065Z",
         null,
         "VIKUNETA",
         {},
         {
          "x-opt-partition-key": "VIKUNETA",
          "x-opt-sequence-number-epoch": "-1"
         }
        ],
        [
         "eyJjYXJfaWQiOiAiVklLVU5FVEEyIiwgImxhdGl0dWRlIjogNDAuMzg4MzIsICJsb25naXR1ZGUiOiAtMy42NTE2NCwgImVsZXZhdGlvbiI6IDUwLjg2LCAidGltZXN0YW1wIjogIjA6MDA6MTYiLCAiZGlzdGFuY2Vfa20iOiA= (truncated)",
         "0",
         "307920",
         1346,
         "2024-12-11T18:04:37.143Z",
         null,
         "VIKUNETA2",
         {},
         {
          "x-opt-partition-key": "VIKUNETA2",
          "x-opt-sequence-number-epoch": "-1"
         }
        ],
        [
         "eyJjYXJfaWQiOiAiVklLVU5FVEEiLCAibGF0aXR1ZGUiOiA0MC40MDAyNywgImxvbmdpdHVkZSI6IC0zLjY0NzY5LCAiZWxldmF0aW9uIjogMTAzLjYyLCAidGltZXN0YW1wIjogIjA6MDA6MzgiLCAiZGlzdGFuY2Vfa20iOiA= (truncated)",
         "0",
         "308216",
         1347,
         "2024-12-11T18:04:38.065Z",
         null,
         "VIKUNETA",
         {},
         {
          "x-opt-partition-key": "VIKUNETA",
          "x-opt-sequence-number-epoch": "-1"
         }
        ],
        [
         "eyJjYXJfaWQiOiAiVklLVU5FVEEyIiwgImxhdGl0dWRlIjogNDAuMzg4MzIsICJsb25naXR1ZGUiOiAtMy42NTE5NSwgImVsZXZhdGlvbiI6IDUwLjE5LCAidGltZXN0YW1wIjogIjA6MDA6MTgiLCAiZGlzdGFuY2Vfa20iOiA= (truncated)",
         "0",
         "308472",
         1348,
         "2024-12-11T18:04:38.111Z",
         null,
         "VIKUNETA2",
         {},
         {
          "x-opt-partition-key": "VIKUNETA2",
          "x-opt-sequence-number-epoch": "-1"
         }
        ],
        [
         "eyJjYXJfaWQiOiAiVklLVU5FVEEiLCAibGF0aXR1ZGUiOiA0MC40MDAyNiwgImxvbmdpdHVkZSI6IC0zLjY0NzczLCAiZWxldmF0aW9uIjogMTA0LjM3LCAidGltZXN0YW1wIjogIjA6MDA6MzkiLCAiZGlzdGFuY2Vfa20iOiA= (truncated)",
         "0",
         "308768",
         1349,
         "2024-12-11T18:04:39.08Z",
         null,
         "VIKUNETA",
         {},
         {
          "x-opt-partition-key": "VIKUNETA",
          "x-opt-sequence-number-epoch": "-1"
         }
        ],
        [
         "eyJjYXJfaWQiOiAiVklLVU5FVEEyIiwgImxhdGl0dWRlIjogNDAuMzg4MzIsICJsb25naXR1ZGUiOiAtMy42NTIwNSwgImVsZXZhdGlvbiI6IDUxLjA5LCAidGltZXN0YW1wIjogIjA6MDA6MTgiLCAiZGlzdGFuY2Vfa20iOiA= (truncated)",
         "0",
         "309024",
         1350,
         "2024-12-11T18:04:39.143Z",
         null,
         "VIKUNETA2",
         {},
         {
          "x-opt-partition-key": "VIKUNETA2",
          "x-opt-sequence-number-epoch": "-1"
         }
        ],
        [
         "eyJjYXJfaWQiOiAiVklLVU5FVEEiLCAibGF0aXR1ZGUiOiA0MC40MDAyNCwgImxvbmdpdHVkZSI6IC0zLjY0Nzc2LCAiZWxldmF0aW9uIjogMTA0LjUsICJ0aW1lc3RhbXAiOiAiMDowMDo0MCIsICJkaXN0YW5jZV9rbSI6IDA= (truncated)",
         "0",
         "309320",
         1351,
         "2024-12-11T18:04:40.112Z",
         null,
         "VIKUNETA",
         {},
         {
          "x-opt-partition-key": "VIKUNETA",
          "x-opt-sequence-number-epoch": "-1"
         }
        ],
        [
         "eyJjYXJfaWQiOiAiVklLVU5FVEEyIiwgImxhdGl0dWRlIjogNDAuMzg4MzEsICJsb25naXR1ZGUiOiAtMy42NTI0MywgImVsZXZhdGlvbiI6IDUwLjgxLCAidGltZXN0YW1wIjogIjA6MDA6MjAiLCAiZGlzdGFuY2Vfa20iOiA= (truncated)",
         "0",
         "309576",
         1352,
         "2024-12-11T18:04:40.143Z",
         null,
         "VIKUNETA2",
         {},
         {
          "x-opt-partition-key": "VIKUNETA2",
          "x-opt-sequence-number-epoch": "-1"
         }
        ],
        [
         "eyJjYXJfaWQiOiAiVklLVU5FVEEiLCAibGF0aXR1ZGUiOiA0MC40MDAyMiwgImxvbmdpdHVkZSI6IC0zLjY0NzgxLCAiZWxldmF0aW9uIjogMTA0LjQsICJ0aW1lc3RhbXAiOiAiMDowMDo0MSIsICJkaXN0YW5jZV9rbSI6IDA= (truncated)",
         "0",
         "309872",
         1353,
         "2024-12-11T18:04:41.112Z",
         null,
         "VIKUNETA",
         {},
         {
          "x-opt-partition-key": "VIKUNETA",
          "x-opt-sequence-number-epoch": "-1"
         }
        ],
        [
         "eyJjYXJfaWQiOiAiVklLVU5FVEEyIiwgImxhdGl0dWRlIjogNDAuMzg4MzMsICJsb25naXR1ZGUiOiAtMy42NTI1NCwgImVsZXZhdGlvbiI6IDUwLjUzLCAidGltZXN0YW1wIjogIjA6MDA6MjAiLCAiZGlzdGFuY2Vfa20iOiA= (truncated)",
         "0",
         "310128",
         1354,
         "2024-12-11T18:04:41.268Z",
         null,
         "VIKUNETA2",
         {},
         {
          "x-opt-partition-key": "VIKUNETA2",
          "x-opt-sequence-number-epoch": "-1"
         }
        ],
        [
         "eyJjYXJfaWQiOiAiVklLVU5FVEEiLCAibGF0aXR1ZGUiOiA0MC40MDAxNiwgImxvbmdpdHVkZSI6IC0zLjY0NzgzLCAiZWxldmF0aW9uIjogMTA0Ljg3LCAidGltZXN0YW1wIjogIjA6MDA6NDIiLCAiZGlzdGFuY2Vfa20iOiA= (truncated)",
         "0",
         "310424",
         1355,
         "2024-12-11T18:04:42.143Z",
         null,
         "VIKUNETA",
         {},
         {
          "x-opt-partition-key": "VIKUNETA",
          "x-opt-sequence-number-epoch": "-1"
         }
        ],
        [
         "eyJjYXJfaWQiOiAiVklLVU5FVEEyIiwgImxhdGl0dWRlIjogNDAuMzg4MzUsICJsb25naXR1ZGUiOiAtMy42NTI3MywgImVsZXZhdGlvbiI6IDQ5LjU1LCAidGltZXN0YW1wIjogIjA6MDA6MjIiLCAiZGlzdGFuY2Vfa20iOiA= (truncated)",
         "0",
         "310680",
         1356,
         "2024-12-11T18:04:42.19Z",
         null,
         "VIKUNETA2",
         {},
         {
          "x-opt-partition-key": "VIKUNETA2",
          "x-opt-sequence-number-epoch": "-1"
         }
        ],
        [
         "eyJjYXJfaWQiOiAiVklLVU5FVEEiLCAibGF0aXR1ZGUiOiA0MC40MDAyNSwgImxvbmdpdHVkZSI6IC0zLjY0Nzk0LCAiZWxldmF0aW9uIjogMTA0LjIzLCAidGltZXN0YW1wIjogIjA6MDA6NDMiLCAiZGlzdGFuY2Vfa20iOiA= (truncated)",
         "0",
         "310976",
         1357,
         "2024-12-11T18:04:43.143Z",
         null,
         "VIKUNETA",
         {},
         {
          "x-opt-partition-key": "VIKUNETA",
          "x-opt-sequence-number-epoch": "-1"
         }
        ],
        [
         "eyJjYXJfaWQiOiAiVklLVU5FVEEyIiwgImxhdGl0dWRlIjogNDAuMzg4MzYsICJsb25naXR1ZGUiOiAtMy42NTI4NywgImVsZXZhdGlvbiI6IDQ5LjEzLCAidGltZXN0YW1wIjogIjA6MDA6MjMiLCAiZGlzdGFuY2Vfa20iOiA= (truncated)",
         "0",
         "311232",
         1358,
         "2024-12-11T18:04:43.205Z",
         null,
         "VIKUNETA2",
         {},
         {
          "x-opt-partition-key": "VIKUNETA2",
          "x-opt-sequence-number-epoch": "-1"
         }
        ],
        [
         "eyJjYXJfaWQiOiAiVklLVU5FVEEiLCAibGF0aXR1ZGUiOiA0MC40MDAyOCwgImxvbmdpdHVkZSI6IC0zLjY0ODA5LCAiZWxldmF0aW9uIjogMTA1LjA3LCAidGltZXN0YW1wIjogIjA6MDA6NDQiLCAiZGlzdGFuY2Vfa20iOiA= (truncated)",
         "0",
         "311528",
         1359,
         "2024-12-11T18:04:44.174Z",
         null,
         "VIKUNETA",
         {},
         {
          "x-opt-partition-key": "VIKUNETA",
          "x-opt-sequence-number-epoch": "-1"
         }
        ],
        [
         "eyJjYXJfaWQiOiAiVklLVU5FVEEyIiwgImxhdGl0dWRlIjogNDAuMzg4NTMsICJsb25naXR1ZGUiOiAtMy42NTI4NSwgImVsZXZhdGlvbiI6IDQ4LjIzLCAidGltZXN0YW1wIjogIjA6MDA6MjUiLCAiZGlzdGFuY2Vfa20iOiA= (truncated)",
         "0",
         "311784",
         1360,
         "2024-12-11T18:04:44.221Z",
         null,
         "VIKUNETA2",
         {},
         {
          "x-opt-partition-key": "VIKUNETA2",
          "x-opt-sequence-number-epoch": "-1"
         }
        ],
        [
         "eyJjYXJfaWQiOiAiVklLVU5FVEEiLCAibGF0aXR1ZGUiOiA0MC40MDAzMSwgImxvbmdpdHVkZSI6IC0zLjY0ODI1LCAiZWxldmF0aW9uIjogMTA1LjQsICJ0aW1lc3RhbXAiOiAiMDowMDo0NSIsICJkaXN0YW5jZV9rbSI6IDA= (truncated)",
         "0",
         "312080",
         1361,
         "2024-12-11T18:04:45.174Z",
         null,
         "VIKUNETA",
         {},
         {
          "x-opt-partition-key": "VIKUNETA",
          "x-opt-sequence-number-epoch": "-1"
         }
        ],
        [
         "eyJjYXJfaWQiOiAiVklLVU5FVEEyIiwgImxhdGl0dWRlIjogNDAuMzg4ODQsICJsb25naXR1ZGUiOiAtMy42NTI4MywgImVsZXZhdGlvbiI6IDQ4LjAxLCAidGltZXN0YW1wIjogIjA6MDA6MjciLCAiZGlzdGFuY2Vfa20iOiA= (truncated)",
         "0",
         "312336",
         1362,
         "2024-12-11T18:04:45.205Z",
         null,
         "VIKUNETA2",
         {},
         {
          "x-opt-partition-key": "VIKUNETA2",
          "x-opt-sequence-number-epoch": "-1"
         }
        ],
        [
         "eyJjYXJfaWQiOiAiVklLVU5FVEEiLCAibGF0aXR1ZGUiOiA0MC40MDAzNCwgImxvbmdpdHVkZSI6IC0zLjY0ODM1LCAiZWxldmF0aW9uIjogMTA2LjI5LCAidGltZXN0YW1wIjogIjA6MDA6NDYiLCAiZGlzdGFuY2Vfa20iOiA= (truncated)",
         "0",
         "312632",
         1363,
         "2024-12-11T18:04:46.174Z",
         null,
         "VIKUNETA",
         {},
         {
          "x-opt-partition-key": "VIKUNETA",
          "x-opt-sequence-number-epoch": "-1"
         }
        ],
        [
         "eyJjYXJfaWQiOiAiVklLVU5FVEEyIiwgImxhdGl0dWRlIjogNDAuMzg5MDEsICJsb25naXR1ZGUiOiAtMy42NTI4MywgImVsZXZhdGlvbiI6IDQ4LjAxLCAidGltZXN0YW1wIjogIjA6MDA6MjgiLCAiZGlzdGFuY2Vfa20iOiA= (truncated)",
         "0",
         "312888",
         1364,
         "2024-12-11T18:04:46.221Z",
         null,
         "VIKUNETA2",
         {},
         {
          "x-opt-partition-key": "VIKUNETA2",
          "x-opt-sequence-number-epoch": "-1"
         }
        ],
        [
         "eyJjYXJfaWQiOiAiVklLVU5FVEEiLCAibGF0aXR1ZGUiOiA0MC40MDA0LCAibG9uZ2l0dWRlIjogLTMuNjQ4NDcsICJlbGV2YXRpb24iOiAxMDcuMTYsICJ0aW1lc3RhbXAiOiAiMDowMDo0NyIsICJkaXN0YW5jZV9rbSI6IDA= (truncated)",
         "0",
         "313184",
         1365,
         "2024-12-11T18:04:47.19Z",
         null,
         "VIKUNETA",
         {},
         {
          "x-opt-partition-key": "VIKUNETA",
          "x-opt-sequence-number-epoch": "-1"
         }
        ],
        [
         "eyJjYXJfaWQiOiAiVklLVU5FVEEyIiwgImxhdGl0dWRlIjogNDAuMzg5MTcsICJsb25naXR1ZGUiOiAtMy42NTI4MywgImVsZXZhdGlvbiI6IDQ4LjUsICJ0aW1lc3RhbXAiOiAiMDowMDoyOSIsICJkaXN0YW5jZV9rbSI6IDA= (truncated)",
         "0",
         "313440",
         1366,
         "2024-12-11T18:04:47.237Z",
         null,
         "VIKUNETA2",
         {},
         {
          "x-opt-partition-key": "VIKUNETA2",
          "x-opt-sequence-number-epoch": "-1"
         }
        ],
        [
         "eyJjYXJfaWQiOiAiVklLVU5FVEEiLCAibGF0aXR1ZGUiOiA0MC40MDA0NCwgImxvbmdpdHVkZSI6IC0zLjY0ODUzLCAiZWxldmF0aW9uIjogMTA4LjA0LCAidGltZXN0YW1wIjogIjA6MDA6NDgiLCAiZGlzdGFuY2Vfa20iOiA= (truncated)",
         "0",
         "313736",
         1367,
         "2024-12-11T18:04:48.221Z",
         null,
         "VIKUNETA",
         {},
         {
          "x-opt-partition-key": "VIKUNETA",
          "x-opt-sequence-number-epoch": "-1"
         }
        ],
        [
         "eyJjYXJfaWQiOiAiVklLVU5FVEEyIiwgImxhdGl0dWRlIjogNDAuMzg5MzYsICJsb25naXR1ZGUiOiAtMy42NTI4OCwgImVsZXZhdGlvbiI6IDQ4LjQsICJ0aW1lc3RhbXAiOiAiMDowMDozMCIsICJkaXN0YW5jZV9rbSI6IDA= (truncated)",
         "0",
         "313992",
         1368,
         "2024-12-11T18:04:48.252Z",
         null,
         "VIKUNETA2",
         {},
         {
          "x-opt-partition-key": "VIKUNETA2",
          "x-opt-sequence-number-epoch": "-1"
         }
        ],
        [
         "eyJjYXJfaWQiOiAiVklLVU5FVEEiLCAibGF0aXR1ZGUiOiA0MC40MDA2NywgImxvbmdpdHVkZSI6IC0zLjY0ODkzLCAiZWxldmF0aW9uIjogMTA4LjkxLCAidGltZXN0YW1wIjogIjA6MDA6NDkiLCAiZGlzdGFuY2Vfa20iOiA= (truncated)",
         "0",
         "314288",
         1369,
         "2024-12-11T18:04:49.221Z",
         null,
         "VIKUNETA",
         {},
         {
          "x-opt-partition-key": "VIKUNETA",
          "x-opt-sequence-number-epoch": "-1"
         }
        ],
        [
         "eyJjYXJfaWQiOiAiVklLVU5FVEEyIiwgImxhdGl0dWRlIjogNDAuMzg5NTgsICJsb25naXR1ZGUiOiAtMy42NTI5NiwgImVsZXZhdGlvbiI6IDQ4LjY1LCAidGltZXN0YW1wIjogIjA6MDA6MzIiLCAiZGlzdGFuY2Vfa20iOiA= (truncated)",
         "0",
         "314544",
         1370,
         "2024-12-11T18:04:49.252Z",
         null,
         "VIKUNETA2",
         {},
         {
          "x-opt-partition-key": "VIKUNETA2",
          "x-opt-sequence-number-epoch": "-1"
         }
        ],
        [
         "eyJjYXJfaWQiOiAiVklLVU5FVEEiLCAibGF0aXR1ZGUiOiA0MC40MDA3NCwgImxvbmdpdHVkZSI6IC0zLjY0OTAyLCAiZWxldmF0aW9uIjogMTA4LjIxLCAidGltZXN0YW1wIjogIjA6MDA6NTAiLCAiZGlzdGFuY2Vfa20iOiA= (truncated)",
         "0",
         "314840",
         1371,
         "2024-12-11T18:04:50.237Z",
         null,
         "VIKUNETA",
         {},
         {
          "x-opt-partition-key": "VIKUNETA",
          "x-opt-sequence-number-epoch": "-1"
         }
        ],
        [
         "eyJjYXJfaWQiOiAiVklLVU5FVEEyIiwgImxhdGl0dWRlIjogNDAuMzg5OCwgImxvbmdpdHVkZSI6IC0zLjY1MzA1LCAiZWxldmF0aW9uIjogNDcuOTIsICJ0aW1lc3RhbXAiOiAiMDowMDozMyIsICJkaXN0YW5jZV9rbSI6IDA= (truncated)",
         "0",
         "315096",
         1372,
         "2024-12-11T18:04:50.268Z",
         null,
         "VIKUNETA2",
         {},
         {
          "x-opt-partition-key": "VIKUNETA2",
          "x-opt-sequence-number-epoch": "-1"
         }
        ],
        [
         "eyJjYXJfaWQiOiAiVklLVU5FVEEiLCAibGF0aXR1ZGUiOiA0MC40MDEzLCAibG9uZ2l0dWRlIjogLTMuNjQ5NjQsICJlbGV2YXRpb24iOiAxMDcuNzMsICJ0aW1lc3RhbXAiOiAiMDowMDo1MSIsICJkaXN0YW5jZV9rbSI6IDA= (truncated)",
         "0",
         "315392",
         1373,
         "2024-12-11T18:04:51.237Z",
         null,
         "VIKUNETA",
         {},
         {
          "x-opt-partition-key": "VIKUNETA",
          "x-opt-sequence-number-epoch": "-1"
         }
        ],
        [
         "eyJjYXJfaWQiOiAiVklLVU5FVEEyIiwgImxhdGl0dWRlIjogNDAuMzkwMjMsICJsb25naXR1ZGUiOiAtMy42NTMyLCAiZWxldmF0aW9uIjogNDguMzEsICJ0aW1lc3RhbXAiOiAiMDowMDozNiIsICJkaXN0YW5jZV9rbSI6IDA= (truncated)",
         "0",
         "315648",
         1374,
         "2024-12-11T18:04:51.284Z",
         null,
         "VIKUNETA2",
         {},
         {
          "x-opt-partition-key": "VIKUNETA2",
          "x-opt-sequence-number-epoch": "-1"
         }
        ],
        [
         "eyJjYXJfaWQiOiAiVklLVU5FVEEiLCAibGF0aXR1ZGUiOiA0MC40MDE0OSwgImxvbmdpdHVkZSI6IC0zLjY0OTg1LCAiZWxldmF0aW9uIjogMTA2Ljk0LCAidGltZXN0YW1wIjogIjA6MDA6NTIiLCAiZGlzdGFuY2Vfa20iOiA= (truncated)",
         "0",
         "315944",
         1375,
         "2024-12-11T18:04:52.268Z",
         null,
         "VIKUNETA",
         {},
         {
          "x-opt-partition-key": "VIKUNETA",
          "x-opt-sequence-number-epoch": "-1"
         }
        ],
        [
         "eyJjYXJfaWQiOiAiVklLVU5FVEEyIiwgImxhdGl0dWRlIjogNDAuMzkwODUsICJsb25naXR1ZGUiOiAtMy42NTM0NiwgImVsZXZhdGlvbiI6IDQ4LjEyLCAidGltZXN0YW1wIjogIjA6MDA6NDAiLCAiZGlzdGFuY2Vfa20iOiA= (truncated)",
         "0",
         "316200",
         1376,
         "2024-12-11T18:04:52.393Z",
         null,
         "VIKUNETA2",
         {},
         {
          "x-opt-partition-key": "VIKUNETA2",
          "x-opt-sequence-number-epoch": "-1"
         }
        ],
        [
         "eyJjYXJfaWQiOiAiVklLVU5FVEEiLCAibGF0aXR1ZGUiOiA0MC40MDE3NiwgImxvbmdpdHVkZSI6IC0zLjY1MDE1LCAiZWxldmF0aW9uIjogMTA2Ljg2LCAidGltZXN0YW1wIjogIjA6MDA6NTMiLCAiZGlzdGFuY2Vfa20iOiA= (truncated)",
         "0",
         "316496",
         1377,
         "2024-12-11T18:04:53.284Z",
         null,
         "VIKUNETA",
         {},
         {
          "x-opt-partition-key": "VIKUNETA",
          "x-opt-sequence-number-epoch": "-1"
         }
        ],
        [
         "eyJjYXJfaWQiOiAiVklLVU5FVEEyIiwgImxhdGl0dWRlIjogNDAuMzkwOTUsICJsb25naXR1ZGUiOiAtMy42NTM0OCwgImVsZXZhdGlvbiI6IDQ4Ljk5LCAidGltZXN0YW1wIjogIjA6MDA6NDEiLCAiZGlzdGFuY2Vfa20iOiA= (truncated)",
         "0",
         "316752",
         1378,
         "2024-12-11T18:04:53.299Z",
         null,
         "VIKUNETA2",
         {},
         {
          "x-opt-partition-key": "VIKUNETA2",
          "x-opt-sequence-number-epoch": "-1"
         }
        ],
        [
         "eyJjYXJfaWQiOiAiVklLVU5FVEEiLCAibGF0aXR1ZGUiOiA0MC40MDIzOCwgImxvbmdpdHVkZSI6IC0zLjY1MDg0LCAiZWxldmF0aW9uIjogMTA3LjAsICJ0aW1lc3RhbXAiOiAiMDowMDo1NCIsICJkaXN0YW5jZV9rbSI6IDA= (truncated)",
         "0",
         "317048",
         1379,
         "2024-12-11T18:04:54.252Z",
         null,
         "VIKUNETA",
         {},
         {
          "x-opt-partition-key": "VIKUNETA",
          "x-opt-sequence-number-epoch": "-1"
         }
        ],
        [
         "eyJjYXJfaWQiOiAiVklLVU5FVEEyIiwgImxhdGl0dWRlIjogNDAuMzkxMDIsICJsb25naXR1ZGUiOiAtMy42NTM0OSwgImVsZXZhdGlvbiI6IDQ4LjQxLCAidGltZXN0YW1wIjogIjA6MDA6NDEiLCAiZGlzdGFuY2Vfa20iOiA= (truncated)",
         "0",
         "317304",
         1380,
         "2024-12-11T18:04:54.331Z",
         null,
         "VIKUNETA2",
         {},
         {
          "x-opt-partition-key": "VIKUNETA2",
          "x-opt-sequence-number-epoch": "-1"
         }
        ],
        [
         "eyJjYXJfaWQiOiAiVklLVU5FVEEiLCAibGF0aXR1ZGUiOiA0MC40MDI0NSwgImxvbmdpdHVkZSI6IC0zLjY1MDkyLCAiZWxldmF0aW9uIjogMTA2LjcsICJ0aW1lc3RhbXAiOiAiMDowMDo1NSIsICJkaXN0YW5jZV9rbSI6IDA= (truncated)",
         "0",
         "317600",
         1381,
         "2024-12-11T18:04:55.252Z",
         null,
         "VIKUNETA",
         {},
         {
          "x-opt-partition-key": "VIKUNETA",
          "x-opt-sequence-number-epoch": "-1"
         }
        ],
        [
         "eyJjYXJfaWQiOiAiVklLVU5FVEEyIiwgImxhdGl0dWRlIjogNDAuMzkxMTIsICJsb25naXR1ZGUiOiAtMy42NTM0NywgImVsZXZhdGlvbiI6IDQ4LjIzLCAidGltZXN0YW1wIjogIjA6MDA6NDEiLCAiZGlzdGFuY2Vfa20iOiA= (truncated)",
         "0",
         "317856",
         1382,
         "2024-12-11T18:04:55.331Z",
         null,
         "VIKUNETA2",
         {},
         {
          "x-opt-partition-key": "VIKUNETA2",
          "x-opt-sequence-number-epoch": "-1"
         }
        ],
        [
         "eyJjYXJfaWQiOiAiVklLVU5FVEEiLCAibGF0aXR1ZGUiOiA0MC40MDM2MiwgImxvbmdpdHVkZSI6IC0zLjY1MjI2LCAiZWxldmF0aW9uIjogMTA2LjM3LCAidGltZXN0YW1wIjogIjA6MDA6NTYiLCAiZGlzdGFuY2Vfa20iOiA= (truncated)",
         "0",
         "318152",
         1383,
         "2024-12-11T18:04:56.268Z",
         null,
         "VIKUNETA",
         {},
         {
          "x-opt-partition-key": "VIKUNETA",
          "x-opt-sequence-number-epoch": "-1"
         }
        ],
        [
         "eyJjYXJfaWQiOiAiVklLVU5FVEEyIiwgImxhdGl0dWRlIjogNDAuMzkxMjQsICJsb25naXR1ZGUiOiAtMy42NTM0MywgImVsZXZhdGlvbiI6IDQ4LjY0LCAidGltZXN0YW1wIjogIjA6MDA6NDIiLCAiZGlzdGFuY2Vfa20iOiA= (truncated)",
         "0",
         "318408",
         1384,
         "2024-12-11T18:04:56.315Z",
         null,
         "VIKUNETA2",
         {},
         {
          "x-opt-partition-key": "VIKUNETA2",
          "x-opt-sequence-number-epoch": "-1"
         }
        ],
        [
         "eyJjYXJfaWQiOiAiVklLVU5FVEEiLCAibGF0aXR1ZGUiOiA0MC40MDM5MywgImxvbmdpdHVkZSI6IC0zLjY1MjYzLCAiZWxldmF0aW9uIjogMTA1LjgsICJ0aW1lc3RhbXAiOiAiMDowMDo1NyIsICJkaXN0YW5jZV9rbSI6IDA= (truncated)",
         "0",
         "318704",
         1385,
         "2024-12-11T18:04:57.299Z",
         null,
         "VIKUNETA",
         {},
         {
          "x-opt-partition-key": "VIKUNETA",
          "x-opt-sequence-number-epoch": "-1"
         }
        ],
        [
         "eyJjYXJfaWQiOiAiVklLVU5FVEEyIiwgImxhdGl0dWRlIjogNDAuMzkxMzIsICJsb25naXR1ZGUiOiAtMy42NTM0MywgImVsZXZhdGlvbiI6IDQ4LjEsICJ0aW1lc3RhbXAiOiAiMDowMDo0MiIsICJkaXN0YW5jZV9rbSI6IDA= (truncated)",
         "0",
         "318960",
         1386,
         "2024-12-11T18:04:57.362Z",
         null,
         "VIKUNETA2",
         {},
         {
          "x-opt-partition-key": "VIKUNETA2",
          "x-opt-sequence-number-epoch": "-1"
         }
        ],
        [
         "eyJjYXJfaWQiOiAiVklLVU5FVEEiLCAibGF0aXR1ZGUiOiA0MC40MDM5OSwgImxvbmdpdHVkZSI6IC0zLjY1MjcsICJlbGV2YXRpb24iOiAxMDUuMjcsICJ0aW1lc3RhbXAiOiAiMDowMDo1OCIsICJkaXN0YW5jZV9rbSI6IDA= (truncated)",
         "0",
         "319256",
         1387,
         "2024-12-11T18:04:58.331Z",
         null,
         "VIKUNETA",
         {},
         {
          "x-opt-partition-key": "VIKUNETA",
          "x-opt-sequence-number-epoch": "-1"
         }
        ],
        [
         "eyJjYXJfaWQiOiAiVklLVU5FVEEyIiwgImxhdGl0dWRlIjogNDAuMzkxMzUsICJsb25naXR1ZGUiOiAtMy42NTM0MiwgImVsZXZhdGlvbiI6IDQ3LjQ2LCAidGltZXN0YW1wIjogIjA6MDA6NDIiLCAiZGlzdGFuY2Vfa20iOiA= (truncated)",
         "0",
         "319512",
         1388,
         "2024-12-11T18:04:58.346Z",
         null,
         "VIKUNETA2",
         {},
         {
          "x-opt-partition-key": "VIKUNETA2",
          "x-opt-sequence-number-epoch": "-1"
         }
        ],
        [
         "eyJjYXJfaWQiOiAiVklLVU5FVEEiLCAibGF0aXR1ZGUiOiA0MC40MDQzNywgImxvbmdpdHVkZSI6IC0zLjY1MzI1LCAiZWxldmF0aW9uIjogMTA1LjI4LCAidGltZXN0YW1wIjogIjA6MDA6NTkiLCAiZGlzdGFuY2Vfa20iOiA= (truncated)",
         "0",
         "319808",
         1389,
         "2024-12-11T18:04:59.299Z",
         null,
         "VIKUNETA",
         {},
         {
          "x-opt-partition-key": "VIKUNETA",
          "x-opt-sequence-number-epoch": "-1"
         }
        ],
        [
         "eyJjYXJfaWQiOiAiVklLVU5FVEEyIiwgImxhdGl0dWRlIjogNDAuMzkxNDIsICJsb25naXR1ZGUiOiAtMy42NTM0LCAiZWxldmF0aW9uIjogNDguMjcsICJ0aW1lc3RhbXAiOiAiMDowMDo0MiIsICJkaXN0YW5jZV9rbSI6IDA= (truncated)",
         "0",
         "320064",
         1390,
         "2024-12-11T18:04:59.346Z",
         null,
         "VIKUNETA2",
         {},
         {
          "x-opt-partition-key": "VIKUNETA2",
          "x-opt-sequence-number-epoch": "-1"
         }
        ],
        [
         "eyJjYXJfaWQiOiAiVklLVU5FVEEiLCAibGF0aXR1ZGUiOiA0MC40MDQ3NSwgImxvbmdpdHVkZSI6IC0zLjY1Mzg2LCAiZWxldmF0aW9uIjogMTA0LjcsICJ0aW1lc3RhbXAiOiAiMDowMTowMCIsICJkaXN0YW5jZV9rbSI6IDA= (truncated)",
         "0",
         "320360",
         1391,
         "2024-12-11T18:05:00.331Z",
         null,
         "VIKUNETA",
         {},
         {
          "x-opt-partition-key": "VIKUNETA",
          "x-opt-sequence-number-epoch": "-1"
         }
        ],
        [
         "eyJjYXJfaWQiOiAiVklLVU5FVEEyIiwgImxhdGl0dWRlIjogNDAuMzkxNSwgImxvbmdpdHVkZSI6IC0zLjY1MzQsICJlbGV2YXRpb24iOiA0OS4xOSwgInRpbWVzdGFtcCI6ICIwOjAwOjQyIiwgImRpc3RhbmNlX2ttIjogMC4= (truncated)",
         "0",
         "320616",
         1392,
         "2024-12-11T18:05:00.362Z",
         null,
         "VIKUNETA2",
         {},
         {
          "x-opt-partition-key": "VIKUNETA2",
          "x-opt-sequence-number-epoch": "-1"
         }
        ],
        [
         "eyJjYXJfaWQiOiAiVklLVU5FVEEiLCAibGF0aXR1ZGUiOiA0MC40MDQ4LCAibG9uZ2l0dWRlIjogLTMuNjU0LCAiZWxldmF0aW9uIjogMTA0Ljc5LCAidGltZXN0YW1wIjogIjA6MDE6MDEiLCAiZGlzdGFuY2Vfa20iOiAwLjA= (truncated)",
         "0",
         "320912",
         1393,
         "2024-12-11T18:05:01.331Z",
         null,
         "VIKUNETA",
         {},
         {
          "x-opt-partition-key": "VIKUNETA",
          "x-opt-sequence-number-epoch": "-1"
         }
        ],
        [
         "eyJjYXJfaWQiOiAiVklLVU5FVEEyIiwgImxhdGl0dWRlIjogNDAuMzkxNiwgImxvbmdpdHVkZSI6IC0zLjY1MzU2LCAiZWxldmF0aW9uIjogNDguNCwgInRpbWVzdGFtcCI6ICIwOjAwOjQ0IiwgImRpc3RhbmNlX2ttIjogMC4= (truncated)",
         "0",
         "321160",
         1394,
         "2024-12-11T18:05:01.378Z",
         null,
         "VIKUNETA2",
         {},
         {
          "x-opt-partition-key": "VIKUNETA2",
          "x-opt-sequence-number-epoch": "-1"
         }
        ]
       ],
       "datasetInfos": [],
       "dbfsResultPath": null,
       "isJsonSchema": true,
       "metadata": {},
       "overflow": false,
       "plotOptions": {
        "customPlotOptions": {},
        "displayType": "table",
        "pivotAggregation": null,
        "pivotColumns": null,
        "xColumns": null,
        "yColumns": null
       },
       "removedWidgets": [],
       "schema": [
        {
         "metadata": "{}",
         "name": "body",
         "type": "\"binary\""
        },
        {
         "metadata": "{}",
         "name": "partition",
         "type": "\"string\""
        },
        {
         "metadata": "{}",
         "name": "offset",
         "type": "\"string\""
        },
        {
         "metadata": "{}",
         "name": "sequenceNumber",
         "type": "\"long\""
        },
        {
         "metadata": "{}",
         "name": "enqueuedTime",
         "type": "\"timestamp\""
        },
        {
         "metadata": "{}",
         "name": "publisher",
         "type": "\"string\""
        },
        {
         "metadata": "{}",
         "name": "partitionKey",
         "type": "\"string\""
        },
        {
         "metadata": "{}",
         "name": "properties",
         "type": "{\"type\":\"map\",\"keyType\":\"string\",\"valueType\":\"string\",\"valueContainsNull\":true}"
        },
        {
         "metadata": "{}",
         "name": "systemProperties",
         "type": "{\"type\":\"map\",\"keyType\":\"string\",\"valueType\":\"string\",\"valueContainsNull\":true}"
        }
       ],
       "type": "table"
      }
     },
     "output_type": "display_data"
    }
   ],
   "source": [
    "\n",
    "# Reading stream: Load data from Azure Event Hub into DataFrame 'df' using the previously configured settings\n",
    "df = spark.readStream \\\n",
    "    .format(\"eventhubs\") \\\n",
    "    .options(**ehConf) \\\n",
    "    .load() \\\n",
    "\n",
    "# Displaying stream: Show the incoming streaming data for visualization and debugging purposes\n",
    "df.display()"
   ]
  },
  {
   "cell_type": "markdown",
   "metadata": {
    "application/vnd.databricks.v1+cell": {
     "cellMetadata": {},
     "inputWidgets": {},
     "nuid": "b145d167-3cc8-4c42-9931-a4b69b9e32ed",
     "showTitle": false,
     "tableResultSettingsMap": {},
     "title": ""
    }
   },
   "source": [
    "## 2.- Capas de información\n",
    "\n",
    "Para poder procesar los datos correctamente y tener todos los registros de ellos, vamos a crear 3 capas, que desempeñarán distintos roles:\n",
    "- Bronze layer: datos crudos (tal cual llegan del EventHubs)\n",
    "- Silver layer: datos limpios (con estructura definida)\n",
    "- Gold layer: datos definitivos (sacando nuevos valores, cribando los datos...)"
   ]
  },
  {
   "cell_type": "markdown",
   "metadata": {
    "application/vnd.databricks.v1+cell": {
     "cellMetadata": {},
     "inputWidgets": {},
     "nuid": "d5052138-724e-4da0-becf-d64bfbd7559a",
     "showTitle": false,
     "tableResultSettingsMap": {},
     "title": ""
    }
   },
   "source": [
    "### 2.1- Bronze layer"
   ]
  },
  {
   "cell_type": "markdown",
   "metadata": {
    "application/vnd.databricks.v1+cell": {
     "cellMetadata": {},
     "inputWidgets": {},
     "nuid": "35e7b0a4-0697-4a4e-ae4d-1db3c6bec6b7",
     "showTitle": false,
     "tableResultSettingsMap": {},
     "title": ""
    }
   },
   "source": [
    "Para la Bronze layer vamos a crear una base de datos *streaming_bronze* para alojar allí los datos, y guardaremos la información que nos llega directa desde el EventHubs"
   ]
  },
  {
   "cell_type": "code",
   "execution_count": 0,
   "metadata": {
    "application/vnd.databricks.v1+cell": {
     "cellMetadata": {
      "byteLimit": 2048000,
      "rowLimit": 10000
     },
     "inputWidgets": {},
     "nuid": "7be5302e-c215-49ab-80e1-5bd5a01cdd7a",
     "showTitle": false,
     "tableResultSettingsMap": {},
     "title": ""
    }
   },
   "outputs": [
    {
     "name": "stdout",
     "output_type": "stream",
     "text": [
      "Database 'streaming_bronze' created successfully or already exists.\n"
     ]
    }
   ],
   "source": [
    "try:\n",
    "    # Crear la base de datos/ esquema 'streaming_bronze' en el catálogo predeterminado\n",
    "    spark.sql(\"CREATE DATABASE IF NOT EXISTS streaming_bronze\")\n",
    "    print(\"Database 'streaming_bronze' created successfully or already exists.\")\n",
    "except Exception as e:\n",
    "    print(f\"Error while creating database: {e}\")\n",
    "\n"
   ]
  },
  {
   "cell_type": "code",
   "execution_count": 0,
   "metadata": {
    "application/vnd.databricks.v1+cell": {
     "cellMetadata": {
      "byteLimit": 2048000,
      "rowLimit": 10000
     },
     "inputWidgets": {},
     "nuid": "1e54159d-e6b6-48c6-89cd-034a2b40c168",
     "showTitle": false,
     "tableResultSettingsMap": {},
     "title": ""
    }
   },
   "outputs": [
    {
     "data": {
      "text/plain": [
       "<pyspark.sql.streaming.query.StreamingQuery at 0x7fba3fbf9bd0>"
      ]
     },
     "execution_count": 16,
     "metadata": {},
     "output_type": "execute_result"
    }
   ],
   "source": [
    "df.writeStream \\\n",
    "    .option(\"checkpointLocation\", \"/mnt/streaming/bronze_prueba/taxi_bronze\") \\\n",
    "    .outputMode(\"append\") \\\n",
    "    .format(\"delta\") \\\n",
    "    .toTable(\"streaming_bronze.taxi\")"
   ]
  },
  {
   "cell_type": "markdown",
   "metadata": {
    "application/vnd.databricks.v1+cell": {
     "cellMetadata": {},
     "inputWidgets": {},
     "nuid": "e68db5a4-0ddf-412e-acf3-115380f33227",
     "showTitle": false,
     "tableResultSettingsMap": {},
     "title": ""
    }
   },
   "source": [
    "### 2.2- Silver layer\n",
    "\n",
    "Para la creación de la silver layer, debemos crear el esquema que queremos para nuestros datos, y una vez definido deberemos limpiar el dataframe para escribir en la base de datos"
   ]
  },
  {
   "cell_type": "code",
   "execution_count": 0,
   "metadata": {
    "application/vnd.databricks.v1+cell": {
     "cellMetadata": {
      "byteLimit": 2048000,
      "rowLimit": 10000
     },
     "inputWidgets": {},
     "nuid": "a1bd8c24-b240-4eb6-ab52-01f5dd91bc31",
     "showTitle": false,
     "tableResultSettingsMap": {},
     "title": ""
    }
   },
   "outputs": [],
   "source": [
    "from pyspark.sql.functions import *\n",
    "from pyspark.sql.types import *\n",
    "\n",
    "json_schema = StructType([\n",
    "    StructField(\"car_id\", StringType(), True),\n",
    "    StructField(\"elevation\", DoubleType(), True),\n",
    "    StructField(\"latitude\", DoubleType(), True),\n",
    "    StructField(\"longitude\", DoubleType(), True),\n",
    "    StructField(\"distance_km\", DoubleType(), True),\n",
    "    StructField(\"timestamp\", StringType(), True),\n",
    "])"
   ]
  },
  {
   "cell_type": "code",
   "execution_count": 0,
   "metadata": {
    "application/vnd.databricks.v1+cell": {
     "cellMetadata": {
      "byteLimit": 2048000,
      "rowLimit": 10000
     },
     "inputWidgets": {},
     "nuid": "1e76a988-814b-44e9-a71c-a0816802b610",
     "showTitle": false,
     "tableResultSettingsMap": {},
     "title": ""
    }
   },
   "outputs": [
    {
     "data": {
      "text/html": [
       "<style scoped>\n",
       "  .table-result-container {\n",
       "    max-height: 300px;\n",
       "    overflow: auto;\n",
       "  }\n",
       "  table, th, td {\n",
       "    border: 1px solid black;\n",
       "    border-collapse: collapse;\n",
       "  }\n",
       "  th, td {\n",
       "    padding: 5px;\n",
       "  }\n",
       "  th {\n",
       "    text-align: left;\n",
       "  }\n",
       "</style><div class='table-result-container'><table class='table-result'><thead style='background-color: white'><tr><th>car_id</th><th>elevation</th><th>latitude</th><th>longitude</th><th>distance_km</th><th>timestamp</th></tr></thead><tbody><tr><td>VIKUNETA</td><td>107.06</td><td>40.39722</td><td>-3.6491</td><td>0.0</td><td>0:00:00</td></tr><tr><td>VIKUNETA</td><td>106.29</td><td>40.39715</td><td>-3.64921</td><td>0.012</td><td>0:00:01</td></tr><tr><td>VIKUNETA</td><td>105.93</td><td>40.39708</td><td>-3.64914</td><td>0.01</td><td>0:00:02</td></tr><tr><td>VIKUNETA</td><td>106.4</td><td>40.39764</td><td>-3.6483</td><td>0.095</td><td>0:00:03</td></tr><tr><td>VIKUNETA</td><td>105.64</td><td>40.39777</td><td>-3.64809</td><td>0.023</td><td>0:00:04</td></tr><tr><td>VIKUNETA</td><td>104.7</td><td>40.3979</td><td>-3.64787</td><td>0.024</td><td>0:00:05</td></tr><tr><td>VIKUNETA</td><td>104.08</td><td>40.3981</td><td>-3.6475</td><td>0.038</td><td>0:00:06</td></tr><tr><td>VIKUNETA</td><td>104.31</td><td>40.39811</td><td>-3.64746</td><td>0.004</td><td>0:00:07</td></tr><tr><td>VIKUNETA</td><td>104.37</td><td>40.39816</td><td>-3.64735</td><td>0.011</td><td>0:00:08</td></tr><tr><td>VIKUNETA</td><td>104.17</td><td>40.39819</td><td>-3.64729</td><td>0.006</td><td>0:00:09</td></tr><tr><td>VIKUNETA</td><td>103.25</td><td>40.39825</td><td>-3.64715</td><td>0.014</td><td>0:00:10</td></tr><tr><td>VIKUNETA</td><td>102.37</td><td>40.39834</td><td>-3.64692</td><td>0.022</td><td>0:00:11</td></tr><tr><td>VIKUNETA</td><td>102.8</td><td>40.39842</td><td>-3.64677</td><td>0.016</td><td>0:00:12</td></tr><tr><td>VIKUNETA</td><td>102.97</td><td>40.39853</td><td>-3.64655</td><td>0.022</td><td>0:00:13</td></tr><tr><td>VIKUNETA</td><td>103.86</td><td>40.3986</td><td>-3.64643</td><td>0.013</td><td>0:00:14</td></tr><tr><td>VIKUNETA</td><td>103.58</td><td>40.39872</td><td>-3.64623</td><td>0.022</td><td>0:00:15</td></tr><tr><td>VIKUNETA</td><td>103.01</td><td>40.39875</td><td>-3.64621</td><td>0.004</td><td>0:00:16</td></tr><tr><td>VIKUNETA</td><td>103.73</td><td>40.39878</td><td>-3.64619</td><td>0.004</td><td>0:00:17</td></tr><tr><td>VIKUNETA</td><td>103.86</td><td>40.39886</td><td>-3.64618</td><td>0.009</td><td>0:00:18</td></tr><tr><td>VIKUNETA</td><td>104.54</td><td>40.39893</td><td>-3.64618</td><td>0.008</td><td>0:00:19</td></tr><tr><td>VIKUNETA</td><td>103.85</td><td>40.39909</td><td>-3.64634</td><td>0.022</td><td>0:00:20</td></tr><tr><td>VIKUNETA</td><td>103.01</td><td>40.39929</td><td>-3.64654</td><td>0.028</td><td>0:00:21</td></tr><tr><td>VIKUNETA</td><td>103.75</td><td>40.39941</td><td>-3.64668</td><td>0.018</td><td>0:00:22</td></tr><tr><td>VIKUNETA</td><td>103.63</td><td>40.39967</td><td>-3.64698</td><td>0.038</td><td>0:00:23</td></tr><tr><td>VIKUNETA</td><td>103.13</td><td>40.39979</td><td>-3.64712</td><td>0.018</td><td>0:00:24</td></tr><tr><td>VIKUNETA</td><td>102.81</td><td>40.39995</td><td>-3.6473</td><td>0.023</td><td>0:00:25</td></tr><tr><td>VIKUNETA</td><td>103.4</td><td>40.40005</td><td>-3.64743</td><td>0.016</td><td>0:00:26</td></tr><tr><td>VIKUNETA</td><td>104.03</td><td>40.40008</td><td>-3.64746</td><td>0.004</td><td>0:00:27</td></tr><tr><td>VIKUNETA</td><td>103.71</td><td>40.40009</td><td>-3.64747</td><td>0.001</td><td>0:00:28</td></tr><tr><td>VIKUNETA</td><td>103.98</td><td>40.40011</td><td>-3.64747</td><td>0.002</td><td>0:00:29</td></tr><tr><td>VIKUNETA</td><td>104.11</td><td>40.40012</td><td>-3.64747</td><td>0.001</td><td>0:00:30</td></tr><tr><td>VIKUNETA2</td><td>50.92</td><td>40.38716</td><td>-3.65057</td><td>0.0</td><td>0:00:00</td></tr><tr><td>VIKUNETA</td><td>104.47</td><td>40.40018</td><td>-3.64749</td><td>0.007</td><td>0:00:31</td></tr><tr><td>VIKUNETA2</td><td>50.99</td><td>40.38802</td><td>-3.65088</td><td>0.099</td><td>0:00:05</td></tr><tr><td>VIKUNETA</td><td>103.9</td><td>40.40022</td><td>-3.64753</td><td>0.006</td><td>0:00:32</td></tr><tr><td>VIKUNETA2</td><td>50.62</td><td>40.38802</td><td>-3.65076</td><td>0.01</td><td>0:00:06</td></tr><tr><td>VIKUNETA</td><td>104.83</td><td>40.40023</td><td>-3.64755</td><td>0.002</td><td>0:00:33</td></tr><tr><td>VIKUNETA2</td><td>51.06</td><td>40.38802</td><td>-3.65064</td><td>0.01</td><td>0:00:06</td></tr><tr><td>VIKUNETA</td><td>105.25</td><td>40.40025</td><td>-3.64758</td><td>0.003</td><td>0:00:34</td></tr><tr><td>VIKUNETA2</td><td>50.46</td><td>40.388</td><td>-3.65053</td><td>0.01</td><td>0:00:06</td></tr><tr><td>VIKUNETA</td><td>105.77</td><td>40.40026</td><td>-3.6476</td><td>0.002</td><td>0:00:35</td></tr><tr><td>VIKUNETA2</td><td>50.6</td><td>40.38823</td><td>-3.65047</td><td>0.026</td><td>0:00:08</td></tr><tr><td>VIKUNETA</td><td>105.27</td><td>40.40027</td><td>-3.64764</td><td>0.004</td><td>0:00:36</td></tr><tr><td>VIKUNETA2</td><td>50.78</td><td>40.38828</td><td>-3.65101</td><td>0.046</td><td>0:00:13</td></tr><tr><td>VIKUNETA</td><td>104.6</td><td>40.40027</td><td>-3.64766</td><td>0.002</td><td>0:00:37</td></tr><tr><td>VIKUNETA2</td><td>50.86</td><td>40.38832</td><td>-3.65164</td><td>0.054</td><td>0:00:16</td></tr><tr><td>VIKUNETA</td><td>103.62</td><td>40.40027</td><td>-3.64769</td><td>0.003</td><td>0:00:38</td></tr><tr><td>VIKUNETA2</td><td>50.19</td><td>40.38832</td><td>-3.65195</td><td>0.026</td><td>0:00:18</td></tr><tr><td>VIKUNETA</td><td>104.37</td><td>40.40026</td><td>-3.64773</td><td>0.004</td><td>0:00:39</td></tr><tr><td>VIKUNETA2</td><td>51.09</td><td>40.38832</td><td>-3.65205</td><td>0.008</td><td>0:00:18</td></tr><tr><td>VIKUNETA</td><td>104.5</td><td>40.40024</td><td>-3.64776</td><td>0.003</td><td>0:00:40</td></tr><tr><td>VIKUNETA2</td><td>50.81</td><td>40.38831</td><td>-3.65243</td><td>0.032</td><td>0:00:20</td></tr><tr><td>VIKUNETA</td><td>104.4</td><td>40.40022</td><td>-3.64781</td><td>0.005</td><td>0:00:41</td></tr><tr><td>VIKUNETA2</td><td>50.53</td><td>40.38833</td><td>-3.65254</td><td>0.01</td><td>0:00:20</td></tr><tr><td>VIKUNETA</td><td>104.87</td><td>40.40016</td><td>-3.64783</td><td>0.007</td><td>0:00:42</td></tr><tr><td>VIKUNETA2</td><td>49.55</td><td>40.38835</td><td>-3.65273</td><td>0.016</td><td>0:00:22</td></tr><tr><td>VIKUNETA</td><td>104.23</td><td>40.40025</td><td>-3.64794</td><td>0.014</td><td>0:00:43</td></tr><tr><td>VIKUNETA2</td><td>49.13</td><td>40.38836</td><td>-3.65287</td><td>0.012</td><td>0:00:23</td></tr><tr><td>VIKUNETA</td><td>105.07</td><td>40.40028</td><td>-3.64809</td><td>0.013</td><td>0:00:44</td></tr><tr><td>VIKUNETA2</td><td>48.23</td><td>40.38853</td><td>-3.65285</td><td>0.019</td><td>0:00:25</td></tr><tr><td>VIKUNETA</td><td>105.4</td><td>40.40031</td><td>-3.64825</td><td>0.014</td><td>0:00:45</td></tr><tr><td>VIKUNETA2</td><td>48.01</td><td>40.38884</td><td>-3.65283</td><td>0.034</td><td>0:00:27</td></tr><tr><td>VIKUNETA</td><td>106.29</td><td>40.40034</td><td>-3.64835</td><td>0.009</td><td>0:00:46</td></tr><tr><td>VIKUNETA2</td><td>48.01</td><td>40.38901</td><td>-3.65283</td><td>0.019</td><td>0:00:28</td></tr><tr><td>VIKUNETA</td><td>107.16</td><td>40.4004</td><td>-3.64847</td><td>0.012</td><td>0:00:47</td></tr><tr><td>VIKUNETA2</td><td>48.5</td><td>40.38917</td><td>-3.65283</td><td>0.018</td><td>0:00:29</td></tr><tr><td>VIKUNETA</td><td>108.04</td><td>40.40044</td><td>-3.64853</td><td>0.007</td><td>0:00:48</td></tr><tr><td>VIKUNETA2</td><td>48.4</td><td>40.38936</td><td>-3.65288</td><td>0.022</td><td>0:00:30</td></tr><tr><td>VIKUNETA</td><td>108.91</td><td>40.40067</td><td>-3.64893</td><td>0.042</td><td>0:00:49</td></tr><tr><td>VIKUNETA2</td><td>48.65</td><td>40.38958</td><td>-3.65296</td><td>0.025</td><td>0:00:32</td></tr><tr><td>VIKUNETA</td><td>108.21</td><td>40.40074</td><td>-3.64902</td><td>0.011</td><td>0:00:50</td></tr><tr><td>VIKUNETA2</td><td>47.92</td><td>40.3898</td><td>-3.65305</td><td>0.026</td><td>0:00:33</td></tr><tr><td>VIKUNETA</td><td>107.73</td><td>40.4013</td><td>-3.64964</td><td>0.081</td><td>0:00:51</td></tr><tr><td>VIKUNETA2</td><td>48.31</td><td>40.39023</td><td>-3.6532</td><td>0.049</td><td>0:00:36</td></tr><tr><td>VIKUNETA</td><td>106.94</td><td>40.40149</td><td>-3.64985</td><td>0.028</td><td>0:00:52</td></tr><tr><td>VIKUNETA2</td><td>48.12</td><td>40.39085</td><td>-3.65346</td><td>0.072</td><td>0:00:40</td></tr><tr><td>VIKUNETA</td><td>106.86</td><td>40.40176</td><td>-3.65015</td><td>0.039</td><td>0:00:53</td></tr><tr><td>VIKUNETA2</td><td>48.99</td><td>40.39095</td><td>-3.65348</td><td>0.011</td><td>0:00:41</td></tr><tr><td>VIKUNETA</td><td>107.0</td><td>40.40238</td><td>-3.65084</td><td>0.09</td><td>0:00:54</td></tr><tr><td>VIKUNETA2</td><td>48.41</td><td>40.39102</td><td>-3.65349</td><td>0.008</td><td>0:00:41</td></tr><tr><td>VIKUNETA</td><td>106.7</td><td>40.40245</td><td>-3.65092</td><td>0.01</td><td>0:00:55</td></tr><tr><td>VIKUNETA2</td><td>48.23</td><td>40.39112</td><td>-3.65347</td><td>0.011</td><td>0:00:41</td></tr><tr><td>VIKUNETA</td><td>106.37</td><td>40.40362</td><td>-3.65226</td><td>0.173</td><td>0:00:56</td></tr><tr><td>VIKUNETA2</td><td>48.64</td><td>40.39124</td><td>-3.65343</td><td>0.014</td><td>0:00:42</td></tr><tr><td>VIKUNETA</td><td>105.8</td><td>40.40393</td><td>-3.65263</td><td>0.047</td><td>0:00:57</td></tr><tr><td>VIKUNETA2</td><td>48.1</td><td>40.39132</td><td>-3.65343</td><td>0.009</td><td>0:00:42</td></tr><tr><td>VIKUNETA</td><td>105.27</td><td>40.40399</td><td>-3.6527</td><td>0.009</td><td>0:00:58</td></tr><tr><td>VIKUNETA2</td><td>47.46</td><td>40.39135</td><td>-3.65342</td><td>0.003</td><td>0:00:42</td></tr></tbody></table></div>"
      ]
     },
     "metadata": {
      "application/vnd.databricks.v1+output": {
       "addedWidgets": {},
       "aggData": [],
       "aggError": "",
       "aggOverflow": false,
       "aggSchema": [],
       "aggSeriesLimitReached": false,
       "aggType": "",
       "arguments": {},
       "columnCustomDisplayInfos": {},
       "data": [
        [
         "VIKUNETA",
         107.06,
         40.39722,
         -3.6491,
         0,
         "0:00:00"
        ],
        [
         "VIKUNETA",
         106.29,
         40.39715,
         -3.64921,
         0.012,
         "0:00:01"
        ],
        [
         "VIKUNETA",
         105.93,
         40.39708,
         -3.64914,
         0.01,
         "0:00:02"
        ],
        [
         "VIKUNETA",
         106.4,
         40.39764,
         -3.6483,
         0.095,
         "0:00:03"
        ],
        [
         "VIKUNETA",
         105.64,
         40.39777,
         -3.64809,
         0.023,
         "0:00:04"
        ],
        [
         "VIKUNETA",
         104.7,
         40.3979,
         -3.64787,
         0.024,
         "0:00:05"
        ],
        [
         "VIKUNETA",
         104.08,
         40.3981,
         -3.6475,
         0.038,
         "0:00:06"
        ],
        [
         "VIKUNETA",
         104.31,
         40.39811,
         -3.64746,
         0.004,
         "0:00:07"
        ],
        [
         "VIKUNETA",
         104.37,
         40.39816,
         -3.64735,
         0.011,
         "0:00:08"
        ],
        [
         "VIKUNETA",
         104.17,
         40.39819,
         -3.64729,
         0.006,
         "0:00:09"
        ],
        [
         "VIKUNETA",
         103.25,
         40.39825,
         -3.64715,
         0.014,
         "0:00:10"
        ],
        [
         "VIKUNETA",
         102.37,
         40.39834,
         -3.64692,
         0.022,
         "0:00:11"
        ],
        [
         "VIKUNETA",
         102.8,
         40.39842,
         -3.64677,
         0.016,
         "0:00:12"
        ],
        [
         "VIKUNETA",
         102.97,
         40.39853,
         -3.64655,
         0.022,
         "0:00:13"
        ],
        [
         "VIKUNETA",
         103.86,
         40.3986,
         -3.64643,
         0.013,
         "0:00:14"
        ],
        [
         "VIKUNETA",
         103.58,
         40.39872,
         -3.64623,
         0.022,
         "0:00:15"
        ],
        [
         "VIKUNETA",
         103.01,
         40.39875,
         -3.64621,
         0.004,
         "0:00:16"
        ],
        [
         "VIKUNETA",
         103.73,
         40.39878,
         -3.64619,
         0.004,
         "0:00:17"
        ],
        [
         "VIKUNETA",
         103.86,
         40.39886,
         -3.64618,
         0.009,
         "0:00:18"
        ],
        [
         "VIKUNETA",
         104.54,
         40.39893,
         -3.64618,
         0.008,
         "0:00:19"
        ],
        [
         "VIKUNETA",
         103.85,
         40.39909,
         -3.64634,
         0.022,
         "0:00:20"
        ],
        [
         "VIKUNETA",
         103.01,
         40.39929,
         -3.64654,
         0.028,
         "0:00:21"
        ],
        [
         "VIKUNETA",
         103.75,
         40.39941,
         -3.64668,
         0.018,
         "0:00:22"
        ],
        [
         "VIKUNETA",
         103.63,
         40.39967,
         -3.64698,
         0.038,
         "0:00:23"
        ],
        [
         "VIKUNETA",
         103.13,
         40.39979,
         -3.64712,
         0.018,
         "0:00:24"
        ],
        [
         "VIKUNETA",
         102.81,
         40.39995,
         -3.6473,
         0.023,
         "0:00:25"
        ],
        [
         "VIKUNETA",
         103.4,
         40.40005,
         -3.64743,
         0.016,
         "0:00:26"
        ],
        [
         "VIKUNETA",
         104.03,
         40.40008,
         -3.64746,
         0.004,
         "0:00:27"
        ],
        [
         "VIKUNETA",
         103.71,
         40.40009,
         -3.64747,
         0.001,
         "0:00:28"
        ],
        [
         "VIKUNETA",
         103.98,
         40.40011,
         -3.64747,
         0.002,
         "0:00:29"
        ],
        [
         "VIKUNETA",
         104.11,
         40.40012,
         -3.64747,
         0.001,
         "0:00:30"
        ],
        [
         "VIKUNETA2",
         50.92,
         40.38716,
         -3.65057,
         0,
         "0:00:00"
        ],
        [
         "VIKUNETA",
         104.47,
         40.40018,
         -3.64749,
         0.007,
         "0:00:31"
        ],
        [
         "VIKUNETA2",
         50.99,
         40.38802,
         -3.65088,
         0.099,
         "0:00:05"
        ],
        [
         "VIKUNETA",
         103.9,
         40.40022,
         -3.64753,
         0.006,
         "0:00:32"
        ],
        [
         "VIKUNETA2",
         50.62,
         40.38802,
         -3.65076,
         0.01,
         "0:00:06"
        ],
        [
         "VIKUNETA",
         104.83,
         40.40023,
         -3.64755,
         0.002,
         "0:00:33"
        ],
        [
         "VIKUNETA2",
         51.06,
         40.38802,
         -3.65064,
         0.01,
         "0:00:06"
        ],
        [
         "VIKUNETA",
         105.25,
         40.40025,
         -3.64758,
         0.003,
         "0:00:34"
        ],
        [
         "VIKUNETA2",
         50.46,
         40.388,
         -3.65053,
         0.01,
         "0:00:06"
        ],
        [
         "VIKUNETA",
         105.77,
         40.40026,
         -3.6476,
         0.002,
         "0:00:35"
        ],
        [
         "VIKUNETA2",
         50.6,
         40.38823,
         -3.65047,
         0.026,
         "0:00:08"
        ],
        [
         "VIKUNETA",
         105.27,
         40.40027,
         -3.64764,
         0.004,
         "0:00:36"
        ],
        [
         "VIKUNETA2",
         50.78,
         40.38828,
         -3.65101,
         0.046,
         "0:00:13"
        ],
        [
         "VIKUNETA",
         104.6,
         40.40027,
         -3.64766,
         0.002,
         "0:00:37"
        ],
        [
         "VIKUNETA2",
         50.86,
         40.38832,
         -3.65164,
         0.054,
         "0:00:16"
        ],
        [
         "VIKUNETA",
         103.62,
         40.40027,
         -3.64769,
         0.003,
         "0:00:38"
        ],
        [
         "VIKUNETA2",
         50.19,
         40.38832,
         -3.65195,
         0.026,
         "0:00:18"
        ],
        [
         "VIKUNETA",
         104.37,
         40.40026,
         -3.64773,
         0.004,
         "0:00:39"
        ],
        [
         "VIKUNETA2",
         51.09,
         40.38832,
         -3.65205,
         0.008,
         "0:00:18"
        ],
        [
         "VIKUNETA",
         104.5,
         40.40024,
         -3.64776,
         0.003,
         "0:00:40"
        ],
        [
         "VIKUNETA2",
         50.81,
         40.38831,
         -3.65243,
         0.032,
         "0:00:20"
        ],
        [
         "VIKUNETA",
         104.4,
         40.40022,
         -3.64781,
         0.005,
         "0:00:41"
        ],
        [
         "VIKUNETA2",
         50.53,
         40.38833,
         -3.65254,
         0.01,
         "0:00:20"
        ],
        [
         "VIKUNETA",
         104.87,
         40.40016,
         -3.64783,
         0.007,
         "0:00:42"
        ],
        [
         "VIKUNETA2",
         49.55,
         40.38835,
         -3.65273,
         0.016,
         "0:00:22"
        ],
        [
         "VIKUNETA",
         104.23,
         40.40025,
         -3.64794,
         0.014,
         "0:00:43"
        ],
        [
         "VIKUNETA2",
         49.13,
         40.38836,
         -3.65287,
         0.012,
         "0:00:23"
        ],
        [
         "VIKUNETA",
         105.07,
         40.40028,
         -3.64809,
         0.013,
         "0:00:44"
        ],
        [
         "VIKUNETA2",
         48.23,
         40.38853,
         -3.65285,
         0.019,
         "0:00:25"
        ],
        [
         "VIKUNETA",
         105.4,
         40.40031,
         -3.64825,
         0.014,
         "0:00:45"
        ],
        [
         "VIKUNETA2",
         48.01,
         40.38884,
         -3.65283,
         0.034,
         "0:00:27"
        ],
        [
         "VIKUNETA",
         106.29,
         40.40034,
         -3.64835,
         0.009,
         "0:00:46"
        ],
        [
         "VIKUNETA2",
         48.01,
         40.38901,
         -3.65283,
         0.019,
         "0:00:28"
        ],
        [
         "VIKUNETA",
         107.16,
         40.4004,
         -3.64847,
         0.012,
         "0:00:47"
        ],
        [
         "VIKUNETA2",
         48.5,
         40.38917,
         -3.65283,
         0.018,
         "0:00:29"
        ],
        [
         "VIKUNETA",
         108.04,
         40.40044,
         -3.64853,
         0.007,
         "0:00:48"
        ],
        [
         "VIKUNETA2",
         48.4,
         40.38936,
         -3.65288,
         0.022,
         "0:00:30"
        ],
        [
         "VIKUNETA",
         108.91,
         40.40067,
         -3.64893,
         0.042,
         "0:00:49"
        ],
        [
         "VIKUNETA2",
         48.65,
         40.38958,
         -3.65296,
         0.025,
         "0:00:32"
        ],
        [
         "VIKUNETA",
         108.21,
         40.40074,
         -3.64902,
         0.011,
         "0:00:50"
        ],
        [
         "VIKUNETA2",
         47.92,
         40.3898,
         -3.65305,
         0.026,
         "0:00:33"
        ],
        [
         "VIKUNETA",
         107.73,
         40.4013,
         -3.64964,
         0.081,
         "0:00:51"
        ],
        [
         "VIKUNETA2",
         48.31,
         40.39023,
         -3.6532,
         0.049,
         "0:00:36"
        ],
        [
         "VIKUNETA",
         106.94,
         40.40149,
         -3.64985,
         0.028,
         "0:00:52"
        ],
        [
         "VIKUNETA2",
         48.12,
         40.39085,
         -3.65346,
         0.072,
         "0:00:40"
        ],
        [
         "VIKUNETA",
         106.86,
         40.40176,
         -3.65015,
         0.039,
         "0:00:53"
        ],
        [
         "VIKUNETA2",
         48.99,
         40.39095,
         -3.65348,
         0.011,
         "0:00:41"
        ],
        [
         "VIKUNETA",
         107,
         40.40238,
         -3.65084,
         0.09,
         "0:00:54"
        ],
        [
         "VIKUNETA2",
         48.41,
         40.39102,
         -3.65349,
         0.008,
         "0:00:41"
        ],
        [
         "VIKUNETA",
         106.7,
         40.40245,
         -3.65092,
         0.01,
         "0:00:55"
        ],
        [
         "VIKUNETA2",
         48.23,
         40.39112,
         -3.65347,
         0.011,
         "0:00:41"
        ],
        [
         "VIKUNETA",
         106.37,
         40.40362,
         -3.65226,
         0.173,
         "0:00:56"
        ],
        [
         "VIKUNETA2",
         48.64,
         40.39124,
         -3.65343,
         0.014,
         "0:00:42"
        ],
        [
         "VIKUNETA",
         105.8,
         40.40393,
         -3.65263,
         0.047,
         "0:00:57"
        ],
        [
         "VIKUNETA2",
         48.1,
         40.39132,
         -3.65343,
         0.009,
         "0:00:42"
        ],
        [
         "VIKUNETA",
         105.27,
         40.40399,
         -3.6527,
         0.009,
         "0:00:58"
        ],
        [
         "VIKUNETA2",
         47.46,
         40.39135,
         -3.65342,
         0.003,
         "0:00:42"
        ]
       ],
       "datasetInfos": [],
       "dbfsResultPath": null,
       "isJsonSchema": true,
       "metadata": {
        "isDbfsCommandResult": false
       },
       "overflow": false,
       "plotOptions": {
        "customPlotOptions": {},
        "displayType": "table",
        "pivotAggregation": null,
        "pivotColumns": null,
        "xColumns": null,
        "yColumns": null
       },
       "removedWidgets": [],
       "schema": [
        {
         "metadata": "{}",
         "name": "car_id",
         "type": "\"string\""
        },
        {
         "metadata": "{}",
         "name": "elevation",
         "type": "\"double\""
        },
        {
         "metadata": "{}",
         "name": "latitude",
         "type": "\"double\""
        },
        {
         "metadata": "{}",
         "name": "longitude",
         "type": "\"double\""
        },
        {
         "metadata": "{}",
         "name": "distance_km",
         "type": "\"double\""
        },
        {
         "metadata": "{}",
         "name": "timestamp",
         "type": "\"string\""
        }
       ],
       "type": "table"
      }
     },
     "output_type": "display_data"
    }
   ],
   "source": [
    "try:\n",
    "    # Crear la base de datos/ esquema 'streaming_bronze' en el catálogo predeterminado\n",
    "    spark.sql(\"CREATE DATABASE IF NOT EXISTS streaming_silver\")\n",
    "    print(\"Database 'streaming_silver' created successfully or already exists.\")\n",
    "except Exception as e:\n",
    "    print(f\"Error while creating database: {e}\")\n",
    "\n",
    "df = spark.readStream\\\n",
    "    .format(\"delta\")\\\n",
    "    .table(\"streaming_bronze.taxi\")\\\n",
    "    .withColumn(\"body\", col(\"body\").cast(\"string\"))\\\n",
    "    .withColumn(\"body\",from_json(col(\"body\"), json_schema))\\\n",
    "    .select(\"body.*\")\n",
    "\n",
    "# Displaying stream: Visualize the transformed data in the DataFrame for verification and analysis\n",
    "df.display()\n",
    "\n",
    "# Writing stream: Save the transformed data to the 'streaming.silver.weather' Delta table in 'append' mode with checkpointing for data reliability\n",
    "df.writeStream\\\n",
    "    .option(\"checkpointLocation\", \"/mnt/streaming/silver_prueba/taxi_silver\")\\\n",
    "    .outputMode(\"append\")\\\n",
    "    .format(\"delta\")\\\n",
    "    .toTable(\"streaming_silver.taxi\")"
   ]
  },
  {
   "cell_type": "markdown",
   "metadata": {
    "application/vnd.databricks.v1+cell": {
     "cellMetadata": {},
     "inputWidgets": {},
     "nuid": "3bd4a4dd-0784-4c0f-b5b1-0dc29972bf51",
     "showTitle": false,
     "tableResultSettingsMap": {},
     "title": ""
    }
   },
   "source": [
    "### 2.3- Gold Layer\n",
    "\n",
    "Para la capa gold, hemos incluido algunas transformaciones y hemos añadido ciertas columnas. Estos son nuestros requisitos:\n",
    "- Añadir el campo de **velocidad**: calculamos la velocidad en km/h según la distancia recorrida en un segundo\n",
    "- Añadir el campo de **consumo**: calculamos el consumo en cada tramo, estableciendo la constante del consumo del coche (en nuestro caso es 8 l/km), y teniendo en cuenta la distancia recorrida en cada tramo\n",
    "- Eliminar el campo elevation: decidimos esto ya que no tenía ninguna relevancia en nuestros datos\n",
    "- Filtrar velocidades: al ver que algunas velocidades eran irreales (datos malos), hemos filtrado el dataframe para cambiar el dato de velocidad, cuando este supera los 200 km/h, por un dato estándar"
   ]
  },
  {
   "cell_type": "code",
   "execution_count": 0,
   "metadata": {
    "application/vnd.databricks.v1+cell": {
     "cellMetadata": {
      "byteLimit": 2048000,
      "rowLimit": 10000
     },
     "inputWidgets": {},
     "nuid": "aa3bcebe-d22d-410d-b589-b7a58152a620",
     "showTitle": false,
     "tableResultSettingsMap": {},
     "title": ""
    }
   },
   "outputs": [
    {
     "data": {
      "text/html": [
       "<style scoped>\n",
       "  .table-result-container {\n",
       "    max-height: 300px;\n",
       "    overflow: auto;\n",
       "  }\n",
       "  table, th, td {\n",
       "    border: 1px solid black;\n",
       "    border-collapse: collapse;\n",
       "  }\n",
       "  th, td {\n",
       "    padding: 5px;\n",
       "  }\n",
       "  th {\n",
       "    text-align: left;\n",
       "  }\n",
       "</style><div class='table-result-container'><table class='table-result'><thead style='background-color: white'><tr><th>car_id</th><th>elevation</th><th>latitude</th><th>longitude</th><th>distance_km</th><th>timestamp</th><th>speed_kmh</th><th>consumo</th></tr></thead><tbody><tr><td>VIKUNETA</td><td>106.29</td><td>40.39715</td><td>-3.64921</td><td>0.012</td><td>0:00:01</td><td>43.2</td><td>9.6E-4</td></tr><tr><td>VIKUNETA</td><td>105.93</td><td>40.39708</td><td>-3.64914</td><td>0.01</td><td>0:00:02</td><td>36.0</td><td>8.0E-4</td></tr><tr><td>VIKUNETA</td><td>106.4</td><td>40.39764</td><td>-3.6483</td><td>0.095</td><td>0:00:03</td><td>50.0</td><td>0.0076</td></tr><tr><td>VIKUNETA</td><td>105.64</td><td>40.39777</td><td>-3.64809</td><td>0.023</td><td>0:00:04</td><td>82.8</td><td>0.00184</td></tr><tr><td>VIKUNETA</td><td>104.7</td><td>40.3979</td><td>-3.64787</td><td>0.024</td><td>0:00:05</td><td>86.4</td><td>0.00192</td></tr><tr><td>VIKUNETA</td><td>104.08</td><td>40.3981</td><td>-3.6475</td><td>0.038</td><td>0:00:06</td><td>136.8</td><td>0.00304</td></tr><tr><td>VIKUNETA</td><td>104.31</td><td>40.39811</td><td>-3.64746</td><td>0.004</td><td>0:00:07</td><td>14.4</td><td>3.2E-4</td></tr><tr><td>VIKUNETA</td><td>104.37</td><td>40.39816</td><td>-3.64735</td><td>0.011</td><td>0:00:08</td><td>39.6</td><td>8.8E-4</td></tr><tr><td>VIKUNETA</td><td>104.17</td><td>40.39819</td><td>-3.64729</td><td>0.006</td><td>0:00:09</td><td>21.6</td><td>4.8E-4</td></tr><tr><td>VIKUNETA</td><td>103.25</td><td>40.39825</td><td>-3.64715</td><td>0.014</td><td>0:00:10</td><td>50.4</td><td>0.00112</td></tr><tr><td>VIKUNETA</td><td>102.37</td><td>40.39834</td><td>-3.64692</td><td>0.022</td><td>0:00:11</td><td>79.2</td><td>0.00176</td></tr><tr><td>VIKUNETA</td><td>102.8</td><td>40.39842</td><td>-3.64677</td><td>0.016</td><td>0:00:12</td><td>57.6</td><td>0.00128</td></tr><tr><td>VIKUNETA</td><td>102.97</td><td>40.39853</td><td>-3.64655</td><td>0.022</td><td>0:00:13</td><td>79.2</td><td>0.00176</td></tr><tr><td>VIKUNETA</td><td>103.86</td><td>40.3986</td><td>-3.64643</td><td>0.013</td><td>0:00:14</td><td>46.8</td><td>0.00104</td></tr><tr><td>VIKUNETA</td><td>103.58</td><td>40.39872</td><td>-3.64623</td><td>0.022</td><td>0:00:15</td><td>79.2</td><td>0.00176</td></tr><tr><td>VIKUNETA</td><td>103.01</td><td>40.39875</td><td>-3.64621</td><td>0.004</td><td>0:00:16</td><td>14.4</td><td>3.2E-4</td></tr><tr><td>VIKUNETA</td><td>103.73</td><td>40.39878</td><td>-3.64619</td><td>0.004</td><td>0:00:17</td><td>14.4</td><td>3.2E-4</td></tr><tr><td>VIKUNETA</td><td>103.86</td><td>40.39886</td><td>-3.64618</td><td>0.009</td><td>0:00:18</td><td>32.4</td><td>7.2E-4</td></tr><tr><td>VIKUNETA</td><td>104.54</td><td>40.39893</td><td>-3.64618</td><td>0.008</td><td>0:00:19</td><td>28.8</td><td>6.4E-4</td></tr><tr><td>VIKUNETA</td><td>103.85</td><td>40.39909</td><td>-3.64634</td><td>0.022</td><td>0:00:20</td><td>79.2</td><td>0.00176</td></tr><tr><td>VIKUNETA</td><td>103.01</td><td>40.39929</td><td>-3.64654</td><td>0.028</td><td>0:00:21</td><td>100.8</td><td>0.00224</td></tr><tr><td>VIKUNETA</td><td>103.75</td><td>40.39941</td><td>-3.64668</td><td>0.018</td><td>0:00:22</td><td>64.8</td><td>0.00144</td></tr><tr><td>VIKUNETA</td><td>103.63</td><td>40.39967</td><td>-3.64698</td><td>0.038</td><td>0:00:23</td><td>136.8</td><td>0.00304</td></tr><tr><td>VIKUNETA</td><td>103.13</td><td>40.39979</td><td>-3.64712</td><td>0.018</td><td>0:00:24</td><td>64.8</td><td>0.00144</td></tr><tr><td>VIKUNETA</td><td>102.81</td><td>40.39995</td><td>-3.6473</td><td>0.023</td><td>0:00:25</td><td>82.8</td><td>0.00184</td></tr><tr><td>VIKUNETA</td><td>103.4</td><td>40.40005</td><td>-3.64743</td><td>0.016</td><td>0:00:26</td><td>57.6</td><td>0.00128</td></tr><tr><td>VIKUNETA</td><td>104.03</td><td>40.40008</td><td>-3.64746</td><td>0.004</td><td>0:00:27</td><td>14.4</td><td>3.2E-4</td></tr><tr><td>VIKUNETA</td><td>103.71</td><td>40.40009</td><td>-3.64747</td><td>0.001</td><td>0:00:28</td><td>3.6</td><td>8.0E-5</td></tr><tr><td>VIKUNETA</td><td>103.98</td><td>40.40011</td><td>-3.64747</td><td>0.002</td><td>0:00:29</td><td>7.2</td><td>1.6E-4</td></tr><tr><td>VIKUNETA</td><td>104.11</td><td>40.40012</td><td>-3.64747</td><td>0.001</td><td>0:00:30</td><td>3.6</td><td>8.0E-5</td></tr><tr><td>VIKUNETA</td><td>104.47</td><td>40.40018</td><td>-3.64749</td><td>0.007</td><td>0:00:31</td><td>25.2</td><td>5.6E-4</td></tr><tr><td>VIKUNETA2</td><td>50.99</td><td>40.38802</td><td>-3.65088</td><td>0.099</td><td>0:00:05</td><td>50.0</td><td>0.00792</td></tr><tr><td>VIKUNETA</td><td>103.9</td><td>40.40022</td><td>-3.64753</td><td>0.006</td><td>0:00:32</td><td>21.6</td><td>4.8E-4</td></tr><tr><td>VIKUNETA2</td><td>50.62</td><td>40.38802</td><td>-3.65076</td><td>0.01</td><td>0:00:06</td><td>36.0</td><td>8.0E-4</td></tr><tr><td>VIKUNETA</td><td>104.83</td><td>40.40023</td><td>-3.64755</td><td>0.002</td><td>0:00:33</td><td>7.2</td><td>1.6E-4</td></tr><tr><td>VIKUNETA2</td><td>51.06</td><td>40.38802</td><td>-3.65064</td><td>0.01</td><td>0:00:06</td><td>36.0</td><td>8.0E-4</td></tr><tr><td>VIKUNETA</td><td>105.25</td><td>40.40025</td><td>-3.64758</td><td>0.003</td><td>0:00:34</td><td>10.8</td><td>2.4E-4</td></tr><tr><td>VIKUNETA2</td><td>50.46</td><td>40.388</td><td>-3.65053</td><td>0.01</td><td>0:00:06</td><td>36.0</td><td>8.0E-4</td></tr><tr><td>VIKUNETA</td><td>105.77</td><td>40.40026</td><td>-3.6476</td><td>0.002</td><td>0:00:35</td><td>7.2</td><td>1.6E-4</td></tr><tr><td>VIKUNETA2</td><td>50.6</td><td>40.38823</td><td>-3.65047</td><td>0.026</td><td>0:00:08</td><td>93.6</td><td>0.00208</td></tr><tr><td>VIKUNETA</td><td>105.27</td><td>40.40027</td><td>-3.64764</td><td>0.004</td><td>0:00:36</td><td>14.4</td><td>3.2E-4</td></tr><tr><td>VIKUNETA2</td><td>50.78</td><td>40.38828</td><td>-3.65101</td><td>0.046</td><td>0:00:13</td><td>165.6</td><td>0.00368</td></tr><tr><td>VIKUNETA</td><td>104.6</td><td>40.40027</td><td>-3.64766</td><td>0.002</td><td>0:00:37</td><td>7.2</td><td>1.6E-4</td></tr><tr><td>VIKUNETA2</td><td>50.86</td><td>40.38832</td><td>-3.65164</td><td>0.054</td><td>0:00:16</td><td>50.0</td><td>0.00432</td></tr><tr><td>VIKUNETA</td><td>103.62</td><td>40.40027</td><td>-3.64769</td><td>0.003</td><td>0:00:38</td><td>10.8</td><td>2.4E-4</td></tr><tr><td>VIKUNETA2</td><td>50.19</td><td>40.38832</td><td>-3.65195</td><td>0.026</td><td>0:00:18</td><td>93.6</td><td>0.00208</td></tr><tr><td>VIKUNETA</td><td>104.37</td><td>40.40026</td><td>-3.64773</td><td>0.004</td><td>0:00:39</td><td>14.4</td><td>3.2E-4</td></tr><tr><td>VIKUNETA2</td><td>51.09</td><td>40.38832</td><td>-3.65205</td><td>0.008</td><td>0:00:18</td><td>28.8</td><td>6.4E-4</td></tr><tr><td>VIKUNETA</td><td>104.5</td><td>40.40024</td><td>-3.64776</td><td>0.003</td><td>0:00:40</td><td>10.8</td><td>2.4E-4</td></tr><tr><td>VIKUNETA2</td><td>50.81</td><td>40.38831</td><td>-3.65243</td><td>0.032</td><td>0:00:20</td><td>115.2</td><td>0.00256</td></tr><tr><td>VIKUNETA</td><td>104.4</td><td>40.40022</td><td>-3.64781</td><td>0.005</td><td>0:00:41</td><td>18.0</td><td>4.0E-4</td></tr><tr><td>VIKUNETA2</td><td>50.53</td><td>40.38833</td><td>-3.65254</td><td>0.01</td><td>0:00:20</td><td>36.0</td><td>8.0E-4</td></tr><tr><td>VIKUNETA</td><td>104.87</td><td>40.40016</td><td>-3.64783</td><td>0.007</td><td>0:00:42</td><td>25.2</td><td>5.6E-4</td></tr><tr><td>VIKUNETA2</td><td>49.55</td><td>40.38835</td><td>-3.65273</td><td>0.016</td><td>0:00:22</td><td>57.6</td><td>0.00128</td></tr><tr><td>VIKUNETA</td><td>104.23</td><td>40.40025</td><td>-3.64794</td><td>0.014</td><td>0:00:43</td><td>50.4</td><td>0.00112</td></tr><tr><td>VIKUNETA2</td><td>49.13</td><td>40.38836</td><td>-3.65287</td><td>0.012</td><td>0:00:23</td><td>43.2</td><td>9.6E-4</td></tr><tr><td>VIKUNETA</td><td>105.07</td><td>40.40028</td><td>-3.64809</td><td>0.013</td><td>0:00:44</td><td>46.8</td><td>0.00104</td></tr><tr><td>VIKUNETA2</td><td>48.23</td><td>40.38853</td><td>-3.65285</td><td>0.019</td><td>0:00:25</td><td>68.4</td><td>0.00152</td></tr><tr><td>VIKUNETA</td><td>105.4</td><td>40.40031</td><td>-3.64825</td><td>0.014</td><td>0:00:45</td><td>50.4</td><td>0.00112</td></tr><tr><td>VIKUNETA2</td><td>48.01</td><td>40.38884</td><td>-3.65283</td><td>0.034</td><td>0:00:27</td><td>122.4</td><td>0.00272</td></tr><tr><td>VIKUNETA</td><td>106.29</td><td>40.40034</td><td>-3.64835</td><td>0.009</td><td>0:00:46</td><td>32.4</td><td>7.2E-4</td></tr><tr><td>VIKUNETA2</td><td>48.01</td><td>40.38901</td><td>-3.65283</td><td>0.019</td><td>0:00:28</td><td>68.4</td><td>0.00152</td></tr><tr><td>VIKUNETA</td><td>107.16</td><td>40.4004</td><td>-3.64847</td><td>0.012</td><td>0:00:47</td><td>43.2</td><td>9.6E-4</td></tr><tr><td>VIKUNETA2</td><td>48.5</td><td>40.38917</td><td>-3.65283</td><td>0.018</td><td>0:00:29</td><td>64.8</td><td>0.00144</td></tr><tr><td>VIKUNETA</td><td>108.04</td><td>40.40044</td><td>-3.64853</td><td>0.007</td><td>0:00:48</td><td>25.2</td><td>5.6E-4</td></tr><tr><td>VIKUNETA2</td><td>48.4</td><td>40.38936</td><td>-3.65288</td><td>0.022</td><td>0:00:30</td><td>79.2</td><td>0.00176</td></tr><tr><td>VIKUNETA</td><td>108.91</td><td>40.40067</td><td>-3.64893</td><td>0.042</td><td>0:00:49</td><td>151.2</td><td>0.00336</td></tr><tr><td>VIKUNETA2</td><td>48.65</td><td>40.38958</td><td>-3.65296</td><td>0.025</td><td>0:00:32</td><td>90.0</td><td>0.002</td></tr><tr><td>VIKUNETA</td><td>108.21</td><td>40.40074</td><td>-3.64902</td><td>0.011</td><td>0:00:50</td><td>39.6</td><td>8.8E-4</td></tr><tr><td>VIKUNETA2</td><td>47.92</td><td>40.3898</td><td>-3.65305</td><td>0.026</td><td>0:00:33</td><td>93.6</td><td>0.00208</td></tr><tr><td>VIKUNETA</td><td>107.73</td><td>40.4013</td><td>-3.64964</td><td>0.081</td><td>0:00:51</td><td>50.0</td><td>0.00648</td></tr><tr><td>VIKUNETA2</td><td>48.31</td><td>40.39023</td><td>-3.6532</td><td>0.049</td><td>0:00:36</td><td>176.4</td><td>0.00392</td></tr><tr><td>VIKUNETA</td><td>106.94</td><td>40.40149</td><td>-3.64985</td><td>0.028</td><td>0:00:52</td><td>100.8</td><td>0.00224</td></tr><tr><td>VIKUNETA2</td><td>48.12</td><td>40.39085</td><td>-3.65346</td><td>0.072</td><td>0:00:40</td><td>50.0</td><td>0.00576</td></tr><tr><td>VIKUNETA</td><td>106.86</td><td>40.40176</td><td>-3.65015</td><td>0.039</td><td>0:00:53</td><td>140.4</td><td>0.00312</td></tr><tr><td>VIKUNETA2</td><td>48.99</td><td>40.39095</td><td>-3.65348</td><td>0.011</td><td>0:00:41</td><td>39.6</td><td>8.8E-4</td></tr><tr><td>VIKUNETA</td><td>107.0</td><td>40.40238</td><td>-3.65084</td><td>0.09</td><td>0:00:54</td><td>50.0</td><td>0.0072</td></tr><tr><td>VIKUNETA2</td><td>48.41</td><td>40.39102</td><td>-3.65349</td><td>0.008</td><td>0:00:41</td><td>28.8</td><td>6.4E-4</td></tr><tr><td>VIKUNETA</td><td>106.7</td><td>40.40245</td><td>-3.65092</td><td>0.01</td><td>0:00:55</td><td>36.0</td><td>8.0E-4</td></tr><tr><td>VIKUNETA2</td><td>48.23</td><td>40.39112</td><td>-3.65347</td><td>0.011</td><td>0:00:41</td><td>39.6</td><td>8.8E-4</td></tr><tr><td>VIKUNETA</td><td>106.37</td><td>40.40362</td><td>-3.65226</td><td>0.173</td><td>0:00:56</td><td>50.0</td><td>0.01384</td></tr><tr><td>VIKUNETA2</td><td>48.64</td><td>40.39124</td><td>-3.65343</td><td>0.014</td><td>0:00:42</td><td>50.4</td><td>0.00112</td></tr><tr><td>VIKUNETA</td><td>105.8</td><td>40.40393</td><td>-3.65263</td><td>0.047</td><td>0:00:57</td><td>169.2</td><td>0.00376</td></tr><tr><td>VIKUNETA2</td><td>48.1</td><td>40.39132</td><td>-3.65343</td><td>0.009</td><td>0:00:42</td><td>32.4</td><td>7.2E-4</td></tr><tr><td>VIKUNETA</td><td>105.27</td><td>40.40399</td><td>-3.6527</td><td>0.009</td><td>0:00:58</td><td>32.4</td><td>7.2E-4</td></tr><tr><td>VIKUNETA2</td><td>47.46</td><td>40.39135</td><td>-3.65342</td><td>0.003</td><td>0:00:42</td><td>10.8</td><td>2.4E-4</td></tr></tbody></table></div>"
      ]
     },
     "metadata": {
      "application/vnd.databricks.v1+output": {
       "addedWidgets": {},
       "aggData": [],
       "aggError": "",
       "aggOverflow": false,
       "aggSchema": [],
       "aggSeriesLimitReached": false,
       "aggType": "",
       "arguments": {},
       "columnCustomDisplayInfos": {},
       "data": [
        [
         "VIKUNETA",
         106.29,
         40.39715,
         -3.64921,
         0.012,
         "0:00:01",
         43.2,
         0.00096
        ],
        [
         "VIKUNETA",
         105.93,
         40.39708,
         -3.64914,
         0.01,
         "0:00:02",
         36,
         0.0008
        ],
        [
         "VIKUNETA",
         106.4,
         40.39764,
         -3.6483,
         0.095,
         "0:00:03",
         50,
         0.0076
        ],
        [
         "VIKUNETA",
         105.64,
         40.39777,
         -3.64809,
         0.023,
         "0:00:04",
         82.8,
         0.00184
        ],
        [
         "VIKUNETA",
         104.7,
         40.3979,
         -3.64787,
         0.024,
         "0:00:05",
         86.4,
         0.00192
        ],
        [
         "VIKUNETA",
         104.08,
         40.3981,
         -3.6475,
         0.038,
         "0:00:06",
         136.8,
         0.00304
        ],
        [
         "VIKUNETA",
         104.31,
         40.39811,
         -3.64746,
         0.004,
         "0:00:07",
         14.4,
         0.00032
        ],
        [
         "VIKUNETA",
         104.37,
         40.39816,
         -3.64735,
         0.011,
         "0:00:08",
         39.6,
         0.00088
        ],
        [
         "VIKUNETA",
         104.17,
         40.39819,
         -3.64729,
         0.006,
         "0:00:09",
         21.6,
         0.00048
        ],
        [
         "VIKUNETA",
         103.25,
         40.39825,
         -3.64715,
         0.014,
         "0:00:10",
         50.4,
         0.00112
        ],
        [
         "VIKUNETA",
         102.37,
         40.39834,
         -3.64692,
         0.022,
         "0:00:11",
         79.2,
         0.00176
        ],
        [
         "VIKUNETA",
         102.8,
         40.39842,
         -3.64677,
         0.016,
         "0:00:12",
         57.6,
         0.00128
        ],
        [
         "VIKUNETA",
         102.97,
         40.39853,
         -3.64655,
         0.022,
         "0:00:13",
         79.2,
         0.00176
        ],
        [
         "VIKUNETA",
         103.86,
         40.3986,
         -3.64643,
         0.013,
         "0:00:14",
         46.8,
         0.00104
        ],
        [
         "VIKUNETA",
         103.58,
         40.39872,
         -3.64623,
         0.022,
         "0:00:15",
         79.2,
         0.00176
        ],
        [
         "VIKUNETA",
         103.01,
         40.39875,
         -3.64621,
         0.004,
         "0:00:16",
         14.4,
         0.00032
        ],
        [
         "VIKUNETA",
         103.73,
         40.39878,
         -3.64619,
         0.004,
         "0:00:17",
         14.4,
         0.00032
        ],
        [
         "VIKUNETA",
         103.86,
         40.39886,
         -3.64618,
         0.009,
         "0:00:18",
         32.4,
         0.00072
        ],
        [
         "VIKUNETA",
         104.54,
         40.39893,
         -3.64618,
         0.008,
         "0:00:19",
         28.8,
         0.00064
        ],
        [
         "VIKUNETA",
         103.85,
         40.39909,
         -3.64634,
         0.022,
         "0:00:20",
         79.2,
         0.00176
        ],
        [
         "VIKUNETA",
         103.01,
         40.39929,
         -3.64654,
         0.028,
         "0:00:21",
         100.8,
         0.00224
        ],
        [
         "VIKUNETA",
         103.75,
         40.39941,
         -3.64668,
         0.018,
         "0:00:22",
         64.8,
         0.00144
        ],
        [
         "VIKUNETA",
         103.63,
         40.39967,
         -3.64698,
         0.038,
         "0:00:23",
         136.8,
         0.00304
        ],
        [
         "VIKUNETA",
         103.13,
         40.39979,
         -3.64712,
         0.018,
         "0:00:24",
         64.8,
         0.00144
        ],
        [
         "VIKUNETA",
         102.81,
         40.39995,
         -3.6473,
         0.023,
         "0:00:25",
         82.8,
         0.00184
        ],
        [
         "VIKUNETA",
         103.4,
         40.40005,
         -3.64743,
         0.016,
         "0:00:26",
         57.6,
         0.00128
        ],
        [
         "VIKUNETA",
         104.03,
         40.40008,
         -3.64746,
         0.004,
         "0:00:27",
         14.4,
         0.00032
        ],
        [
         "VIKUNETA",
         103.71,
         40.40009,
         -3.64747,
         0.001,
         "0:00:28",
         3.6,
         0.00008
        ],
        [
         "VIKUNETA",
         103.98,
         40.40011,
         -3.64747,
         0.002,
         "0:00:29",
         7.2,
         0.00016
        ],
        [
         "VIKUNETA",
         104.11,
         40.40012,
         -3.64747,
         0.001,
         "0:00:30",
         3.6,
         0.00008
        ],
        [
         "VIKUNETA",
         104.47,
         40.40018,
         -3.64749,
         0.007,
         "0:00:31",
         25.2,
         0.00056
        ],
        [
         "VIKUNETA2",
         50.99,
         40.38802,
         -3.65088,
         0.099,
         "0:00:05",
         50,
         0.00792
        ],
        [
         "VIKUNETA",
         103.9,
         40.40022,
         -3.64753,
         0.006,
         "0:00:32",
         21.6,
         0.00048
        ],
        [
         "VIKUNETA2",
         50.62,
         40.38802,
         -3.65076,
         0.01,
         "0:00:06",
         36,
         0.0008
        ],
        [
         "VIKUNETA",
         104.83,
         40.40023,
         -3.64755,
         0.002,
         "0:00:33",
         7.2,
         0.00016
        ],
        [
         "VIKUNETA2",
         51.06,
         40.38802,
         -3.65064,
         0.01,
         "0:00:06",
         36,
         0.0008
        ],
        [
         "VIKUNETA",
         105.25,
         40.40025,
         -3.64758,
         0.003,
         "0:00:34",
         10.8,
         0.00024
        ],
        [
         "VIKUNETA2",
         50.46,
         40.388,
         -3.65053,
         0.01,
         "0:00:06",
         36,
         0.0008
        ],
        [
         "VIKUNETA",
         105.77,
         40.40026,
         -3.6476,
         0.002,
         "0:00:35",
         7.2,
         0.00016
        ],
        [
         "VIKUNETA2",
         50.6,
         40.38823,
         -3.65047,
         0.026,
         "0:00:08",
         93.6,
         0.00208
        ],
        [
         "VIKUNETA",
         105.27,
         40.40027,
         -3.64764,
         0.004,
         "0:00:36",
         14.4,
         0.00032
        ],
        [
         "VIKUNETA2",
         50.78,
         40.38828,
         -3.65101,
         0.046,
         "0:00:13",
         165.6,
         0.00368
        ],
        [
         "VIKUNETA",
         104.6,
         40.40027,
         -3.64766,
         0.002,
         "0:00:37",
         7.2,
         0.00016
        ],
        [
         "VIKUNETA2",
         50.86,
         40.38832,
         -3.65164,
         0.054,
         "0:00:16",
         50,
         0.00432
        ],
        [
         "VIKUNETA",
         103.62,
         40.40027,
         -3.64769,
         0.003,
         "0:00:38",
         10.8,
         0.00024
        ],
        [
         "VIKUNETA2",
         50.19,
         40.38832,
         -3.65195,
         0.026,
         "0:00:18",
         93.6,
         0.00208
        ],
        [
         "VIKUNETA",
         104.37,
         40.40026,
         -3.64773,
         0.004,
         "0:00:39",
         14.4,
         0.00032
        ],
        [
         "VIKUNETA2",
         51.09,
         40.38832,
         -3.65205,
         0.008,
         "0:00:18",
         28.8,
         0.00064
        ],
        [
         "VIKUNETA",
         104.5,
         40.40024,
         -3.64776,
         0.003,
         "0:00:40",
         10.8,
         0.00024
        ],
        [
         "VIKUNETA2",
         50.81,
         40.38831,
         -3.65243,
         0.032,
         "0:00:20",
         115.2,
         0.00256
        ],
        [
         "VIKUNETA",
         104.4,
         40.40022,
         -3.64781,
         0.005,
         "0:00:41",
         18,
         0.0004
        ],
        [
         "VIKUNETA2",
         50.53,
         40.38833,
         -3.65254,
         0.01,
         "0:00:20",
         36,
         0.0008
        ],
        [
         "VIKUNETA",
         104.87,
         40.40016,
         -3.64783,
         0.007,
         "0:00:42",
         25.2,
         0.00056
        ],
        [
         "VIKUNETA2",
         49.55,
         40.38835,
         -3.65273,
         0.016,
         "0:00:22",
         57.6,
         0.00128
        ],
        [
         "VIKUNETA",
         104.23,
         40.40025,
         -3.64794,
         0.014,
         "0:00:43",
         50.4,
         0.00112
        ],
        [
         "VIKUNETA2",
         49.13,
         40.38836,
         -3.65287,
         0.012,
         "0:00:23",
         43.2,
         0.00096
        ],
        [
         "VIKUNETA",
         105.07,
         40.40028,
         -3.64809,
         0.013,
         "0:00:44",
         46.8,
         0.00104
        ],
        [
         "VIKUNETA2",
         48.23,
         40.38853,
         -3.65285,
         0.019,
         "0:00:25",
         68.4,
         0.00152
        ],
        [
         "VIKUNETA",
         105.4,
         40.40031,
         -3.64825,
         0.014,
         "0:00:45",
         50.4,
         0.00112
        ],
        [
         "VIKUNETA2",
         48.01,
         40.38884,
         -3.65283,
         0.034,
         "0:00:27",
         122.4,
         0.00272
        ],
        [
         "VIKUNETA",
         106.29,
         40.40034,
         -3.64835,
         0.009,
         "0:00:46",
         32.4,
         0.00072
        ],
        [
         "VIKUNETA2",
         48.01,
         40.38901,
         -3.65283,
         0.019,
         "0:00:28",
         68.4,
         0.00152
        ],
        [
         "VIKUNETA",
         107.16,
         40.4004,
         -3.64847,
         0.012,
         "0:00:47",
         43.2,
         0.00096
        ],
        [
         "VIKUNETA2",
         48.5,
         40.38917,
         -3.65283,
         0.018,
         "0:00:29",
         64.8,
         0.00144
        ],
        [
         "VIKUNETA",
         108.04,
         40.40044,
         -3.64853,
         0.007,
         "0:00:48",
         25.2,
         0.00056
        ],
        [
         "VIKUNETA2",
         48.4,
         40.38936,
         -3.65288,
         0.022,
         "0:00:30",
         79.2,
         0.00176
        ],
        [
         "VIKUNETA",
         108.91,
         40.40067,
         -3.64893,
         0.042,
         "0:00:49",
         151.2,
         0.00336
        ],
        [
         "VIKUNETA2",
         48.65,
         40.38958,
         -3.65296,
         0.025,
         "0:00:32",
         90,
         0.002
        ],
        [
         "VIKUNETA",
         108.21,
         40.40074,
         -3.64902,
         0.011,
         "0:00:50",
         39.6,
         0.00088
        ],
        [
         "VIKUNETA2",
         47.92,
         40.3898,
         -3.65305,
         0.026,
         "0:00:33",
         93.6,
         0.00208
        ],
        [
         "VIKUNETA",
         107.73,
         40.4013,
         -3.64964,
         0.081,
         "0:00:51",
         50,
         0.00648
        ],
        [
         "VIKUNETA2",
         48.31,
         40.39023,
         -3.6532,
         0.049,
         "0:00:36",
         176.4,
         0.00392
        ],
        [
         "VIKUNETA",
         106.94,
         40.40149,
         -3.64985,
         0.028,
         "0:00:52",
         100.8,
         0.00224
        ],
        [
         "VIKUNETA2",
         48.12,
         40.39085,
         -3.65346,
         0.072,
         "0:00:40",
         50,
         0.00576
        ],
        [
         "VIKUNETA",
         106.86,
         40.40176,
         -3.65015,
         0.039,
         "0:00:53",
         140.4,
         0.00312
        ],
        [
         "VIKUNETA2",
         48.99,
         40.39095,
         -3.65348,
         0.011,
         "0:00:41",
         39.6,
         0.00088
        ],
        [
         "VIKUNETA",
         107,
         40.40238,
         -3.65084,
         0.09,
         "0:00:54",
         50,
         0.0072
        ],
        [
         "VIKUNETA2",
         48.41,
         40.39102,
         -3.65349,
         0.008,
         "0:00:41",
         28.8,
         0.00064
        ],
        [
         "VIKUNETA",
         106.7,
         40.40245,
         -3.65092,
         0.01,
         "0:00:55",
         36,
         0.0008
        ],
        [
         "VIKUNETA2",
         48.23,
         40.39112,
         -3.65347,
         0.011,
         "0:00:41",
         39.6,
         0.00088
        ],
        [
         "VIKUNETA",
         106.37,
         40.40362,
         -3.65226,
         0.173,
         "0:00:56",
         50,
         0.01384
        ],
        [
         "VIKUNETA2",
         48.64,
         40.39124,
         -3.65343,
         0.014,
         "0:00:42",
         50.4,
         0.00112
        ],
        [
         "VIKUNETA",
         105.8,
         40.40393,
         -3.65263,
         0.047,
         "0:00:57",
         169.2,
         0.00376
        ],
        [
         "VIKUNETA2",
         48.1,
         40.39132,
         -3.65343,
         0.009,
         "0:00:42",
         32.4,
         0.00072
        ],
        [
         "VIKUNETA",
         105.27,
         40.40399,
         -3.6527,
         0.009,
         "0:00:58",
         32.4,
         0.00072
        ],
        [
         "VIKUNETA2",
         47.46,
         40.39135,
         -3.65342,
         0.003,
         "0:00:42",
         10.8,
         0.00024
        ]
       ],
       "datasetInfos": [],
       "dbfsResultPath": null,
       "isJsonSchema": true,
       "metadata": {
        "isDbfsCommandResult": false
       },
       "overflow": false,
       "plotOptions": {
        "customPlotOptions": {},
        "displayType": "table",
        "pivotAggregation": null,
        "pivotColumns": null,
        "xColumns": null,
        "yColumns": null
       },
       "removedWidgets": [],
       "schema": [
        {
         "metadata": "{}",
         "name": "car_id",
         "type": "\"string\""
        },
        {
         "metadata": "{}",
         "name": "elevation",
         "type": "\"double\""
        },
        {
         "metadata": "{}",
         "name": "latitude",
         "type": "\"double\""
        },
        {
         "metadata": "{}",
         "name": "longitude",
         "type": "\"double\""
        },
        {
         "metadata": "{}",
         "name": "distance_km",
         "type": "\"double\""
        },
        {
         "metadata": "{}",
         "name": "timestamp",
         "type": "\"string\""
        },
        {
         "metadata": "{}",
         "name": "speed_kmh",
         "type": "\"double\""
        },
        {
         "metadata": "{}",
         "name": "consumo",
         "type": "\"double\""
        }
       ],
       "type": "table"
      }
     },
     "output_type": "display_data"
    }
   ],
   "source": [
    "from pyspark.sql import SparkSession\n",
    "from pyspark.sql.types import StructType, StructField, StringType, DoubleType\n",
    "from pyspark.sql import functions as F\n",
    "from pyspark.sql.window import Window\n",
    "\n",
    "try:\n",
    "    # Crear la base de datos/ esquema 'streaming_bronze' en el catálogo predeterminado\n",
    "    spark.sql(\"CREATE DATABASE IF NOT EXISTS streaming_gold\")\n",
    "    print(\"Database 'streaming_gold' created successfully or already exists.\")\n",
    "except Exception as e:\n",
    "    print(f\"Error while creating database: {e}\")\n",
    "\n",
    "df = df.where(F.col(\"distance_km\") > 0)\n",
    "\n",
    "df = df.withColumn(\"speed_kmh\", F.round(df.distance_km * 3600, 2))\n",
    "\n",
    "df = df.withColumn(\"consumo\", F.round(df.distance_km * 8 / 100, 5))\n",
    "\n",
    "df = df.drop(\"elevation\")\n",
    "\n",
    "\n",
    "# Aplicar la función de ventana\n",
    "df = df.withColumn(\n",
    "    \"speed_kmh\",\n",
    "    F.when(\n",
    "        df.speed_kmh > 200,\n",
    "        F.lit(102.0)\n",
    "    ).otherwise(df.speed_kmh)\n",
    ")\n",
    "\n",
    "df.display()\n",
    "\n",
    "df.writeStream\\\n",
    "    .option(\"checkpointLocation\", \"/mnt/streaming/gold_prueba1/taxi_gold\")\\\n",
    "    .outputMode(\"append\")\\\n",
    "    .format(\"delta\")\\\n",
    "    .toTable(\"streaming_gold.taxi\")"
   ]
  },
  {
   "cell_type": "markdown",
   "metadata": {
    "application/vnd.databricks.v1+cell": {
     "cellMetadata": {},
     "inputWidgets": {},
     "nuid": "4f6e64d4-bfb2-4111-ac71-80af5f4778b1",
     "showTitle": false,
     "tableResultSettingsMap": {},
     "title": ""
    }
   },
   "source": [
    "## 3.- Envío de datos a Power Bi\n",
    "\n",
    "Finalmente, enviamos el dataframe final a un streaming dataset creado en Power Bi (en la nube), para poder hacer visualizaciones en tiempo real de nuestros datos"
   ]
  },
  {
   "cell_type": "code",
   "execution_count": 0,
   "metadata": {
    "application/vnd.databricks.v1+cell": {
     "cellMetadata": {
      "byteLimit": 2048000,
      "rowLimit": 10000
     },
     "inputWidgets": {},
     "nuid": "af856115-c306-48c4-aa5e-ebff7d849305",
     "showTitle": false,
     "tableResultSettingsMap": {},
     "title": ""
    }
   },
   "outputs": [
    {
     "data": {
      "text/html": [
       "<style scoped>\n",
       "  .table-result-container {\n",
       "    max-height: 300px;\n",
       "    overflow: auto;\n",
       "  }\n",
       "  table, th, td {\n",
       "    border: 1px solid black;\n",
       "    border-collapse: collapse;\n",
       "  }\n",
       "  th, td {\n",
       "    padding: 5px;\n",
       "  }\n",
       "  th {\n",
       "    text-align: left;\n",
       "  }\n",
       "</style><div class='table-result-container'><table class='table-result'><thead style='background-color: white'><tr><th>car_id</th><th>elevation</th><th>latitude</th><th>longitude</th><th>distance_km</th><th>timestamp</th><th>speed_kmh</th><th>consumo</th></tr></thead><tbody><tr><td>VIKUNETA</td><td>106.29</td><td>40.39715</td><td>-3.64921</td><td>0.012</td><td>0:00:01</td><td>43.2</td><td>9.6E-4</td></tr><tr><td>VIKUNETA</td><td>105.93</td><td>40.39708</td><td>-3.64914</td><td>0.01</td><td>0:00:02</td><td>36.0</td><td>8.0E-4</td></tr><tr><td>VIKUNETA</td><td>106.4</td><td>40.39764</td><td>-3.6483</td><td>0.095</td><td>0:00:03</td><td>50.0</td><td>0.0076</td></tr><tr><td>VIKUNETA</td><td>105.64</td><td>40.39777</td><td>-3.64809</td><td>0.023</td><td>0:00:04</td><td>82.8</td><td>0.00184</td></tr><tr><td>VIKUNETA</td><td>104.7</td><td>40.3979</td><td>-3.64787</td><td>0.024</td><td>0:00:05</td><td>86.4</td><td>0.00192</td></tr><tr><td>VIKUNETA</td><td>104.08</td><td>40.3981</td><td>-3.6475</td><td>0.038</td><td>0:00:06</td><td>136.8</td><td>0.00304</td></tr><tr><td>VIKUNETA</td><td>104.31</td><td>40.39811</td><td>-3.64746</td><td>0.004</td><td>0:00:07</td><td>14.4</td><td>3.2E-4</td></tr><tr><td>VIKUNETA</td><td>104.37</td><td>40.39816</td><td>-3.64735</td><td>0.011</td><td>0:00:08</td><td>39.6</td><td>8.8E-4</td></tr><tr><td>VIKUNETA</td><td>104.17</td><td>40.39819</td><td>-3.64729</td><td>0.006</td><td>0:00:09</td><td>21.6</td><td>4.8E-4</td></tr><tr><td>VIKUNETA</td><td>103.25</td><td>40.39825</td><td>-3.64715</td><td>0.014</td><td>0:00:10</td><td>50.4</td><td>0.00112</td></tr><tr><td>VIKUNETA</td><td>102.37</td><td>40.39834</td><td>-3.64692</td><td>0.022</td><td>0:00:11</td><td>79.2</td><td>0.00176</td></tr><tr><td>VIKUNETA</td><td>102.8</td><td>40.39842</td><td>-3.64677</td><td>0.016</td><td>0:00:12</td><td>57.6</td><td>0.00128</td></tr><tr><td>VIKUNETA</td><td>102.97</td><td>40.39853</td><td>-3.64655</td><td>0.022</td><td>0:00:13</td><td>79.2</td><td>0.00176</td></tr><tr><td>VIKUNETA</td><td>103.86</td><td>40.3986</td><td>-3.64643</td><td>0.013</td><td>0:00:14</td><td>46.8</td><td>0.00104</td></tr><tr><td>VIKUNETA</td><td>103.58</td><td>40.39872</td><td>-3.64623</td><td>0.022</td><td>0:00:15</td><td>79.2</td><td>0.00176</td></tr><tr><td>VIKUNETA</td><td>103.01</td><td>40.39875</td><td>-3.64621</td><td>0.004</td><td>0:00:16</td><td>14.4</td><td>3.2E-4</td></tr><tr><td>VIKUNETA</td><td>103.73</td><td>40.39878</td><td>-3.64619</td><td>0.004</td><td>0:00:17</td><td>14.4</td><td>3.2E-4</td></tr><tr><td>VIKUNETA</td><td>103.86</td><td>40.39886</td><td>-3.64618</td><td>0.009</td><td>0:00:18</td><td>32.4</td><td>7.2E-4</td></tr><tr><td>VIKUNETA</td><td>104.54</td><td>40.39893</td><td>-3.64618</td><td>0.008</td><td>0:00:19</td><td>28.8</td><td>6.4E-4</td></tr><tr><td>VIKUNETA</td><td>103.85</td><td>40.39909</td><td>-3.64634</td><td>0.022</td><td>0:00:20</td><td>79.2</td><td>0.00176</td></tr><tr><td>VIKUNETA2</td><td>106.29</td><td>40.39715</td><td>-3.64921</td><td>0.012</td><td>0:00:01</td><td>43.2</td><td>9.6E-4</td></tr><tr><td>VIKUNETA</td><td>103.01</td><td>40.39929</td><td>-3.64654</td><td>0.028</td><td>0:00:21</td><td>100.8</td><td>0.00224</td></tr><tr><td>VIKUNETA2</td><td>105.93</td><td>40.39708</td><td>-3.64914</td><td>0.01</td><td>0:00:02</td><td>36.0</td><td>8.0E-4</td></tr><tr><td>VIKUNETA</td><td>103.75</td><td>40.39941</td><td>-3.64668</td><td>0.018</td><td>0:00:22</td><td>64.8</td><td>0.00144</td></tr><tr><td>VIKUNETA2</td><td>106.4</td><td>40.39764</td><td>-3.6483</td><td>0.095</td><td>0:00:03</td><td>50.0</td><td>0.0076</td></tr><tr><td>VIKUNETA</td><td>103.63</td><td>40.39967</td><td>-3.64698</td><td>0.038</td><td>0:00:23</td><td>136.8</td><td>0.00304</td></tr><tr><td>VIKUNETA2</td><td>105.64</td><td>40.39777</td><td>-3.64809</td><td>0.023</td><td>0:00:04</td><td>82.8</td><td>0.00184</td></tr><tr><td>VIKUNETA</td><td>103.13</td><td>40.39979</td><td>-3.64712</td><td>0.018</td><td>0:00:24</td><td>64.8</td><td>0.00144</td></tr><tr><td>VIKUNETA2</td><td>104.7</td><td>40.3979</td><td>-3.64787</td><td>0.024</td><td>0:00:05</td><td>86.4</td><td>0.00192</td></tr><tr><td>VIKUNETA</td><td>102.81</td><td>40.39995</td><td>-3.6473</td><td>0.023</td><td>0:00:25</td><td>82.8</td><td>0.00184</td></tr><tr><td>VIKUNETA2</td><td>104.08</td><td>40.3981</td><td>-3.6475</td><td>0.038</td><td>0:00:06</td><td>136.8</td><td>0.00304</td></tr><tr><td>VIKUNETA</td><td>103.4</td><td>40.40005</td><td>-3.64743</td><td>0.016</td><td>0:00:26</td><td>57.6</td><td>0.00128</td></tr><tr><td>VIKUNETA2</td><td>104.31</td><td>40.39811</td><td>-3.64746</td><td>0.004</td><td>0:00:07</td><td>14.4</td><td>3.2E-4</td></tr><tr><td>VIKUNETA</td><td>104.03</td><td>40.40008</td><td>-3.64746</td><td>0.004</td><td>0:00:27</td><td>14.4</td><td>3.2E-4</td></tr><tr><td>VIKUNETA2</td><td>104.37</td><td>40.39816</td><td>-3.64735</td><td>0.011</td><td>0:00:08</td><td>39.6</td><td>8.8E-4</td></tr><tr><td>VIKUNETA</td><td>103.71</td><td>40.40009</td><td>-3.64747</td><td>0.001</td><td>0:00:28</td><td>3.6</td><td>8.0E-5</td></tr><tr><td>VIKUNETA2</td><td>104.17</td><td>40.39819</td><td>-3.64729</td><td>0.006</td><td>0:00:09</td><td>21.6</td><td>4.8E-4</td></tr><tr><td>VIKUNETA</td><td>103.98</td><td>40.40011</td><td>-3.64747</td><td>0.002</td><td>0:00:29</td><td>7.2</td><td>1.6E-4</td></tr><tr><td>VIKUNETA2</td><td>103.25</td><td>40.39825</td><td>-3.64715</td><td>0.014</td><td>0:00:10</td><td>50.4</td><td>0.00112</td></tr><tr><td>VIKUNETA</td><td>104.11</td><td>40.40012</td><td>-3.64747</td><td>0.001</td><td>0:00:30</td><td>3.6</td><td>8.0E-5</td></tr><tr><td>VIKUNETA2</td><td>102.37</td><td>40.39834</td><td>-3.64692</td><td>0.022</td><td>0:00:11</td><td>79.2</td><td>0.00176</td></tr><tr><td>VIKUNETA</td><td>104.47</td><td>40.40018</td><td>-3.64749</td><td>0.007</td><td>0:00:31</td><td>25.2</td><td>5.6E-4</td></tr><tr><td>VIKUNETA2</td><td>102.8</td><td>40.39842</td><td>-3.64677</td><td>0.016</td><td>0:00:12</td><td>57.6</td><td>0.00128</td></tr><tr><td>VIKUNETA</td><td>103.9</td><td>40.40022</td><td>-3.64753</td><td>0.006</td><td>0:00:32</td><td>21.6</td><td>4.8E-4</td></tr><tr><td>VIKUNETA2</td><td>102.97</td><td>40.39853</td><td>-3.64655</td><td>0.022</td><td>0:00:13</td><td>79.2</td><td>0.00176</td></tr><tr><td>VIKUNETA</td><td>104.83</td><td>40.40023</td><td>-3.64755</td><td>0.002</td><td>0:00:33</td><td>7.2</td><td>1.6E-4</td></tr><tr><td>VIKUNETA2</td><td>103.86</td><td>40.3986</td><td>-3.64643</td><td>0.013</td><td>0:00:14</td><td>46.8</td><td>0.00104</td></tr><tr><td>VIKUNETA</td><td>105.25</td><td>40.40025</td><td>-3.64758</td><td>0.003</td><td>0:00:34</td><td>10.8</td><td>2.4E-4</td></tr><tr><td>VIKUNETA2</td><td>103.58</td><td>40.39872</td><td>-3.64623</td><td>0.022</td><td>0:00:15</td><td>79.2</td><td>0.00176</td></tr><tr><td>VIKUNETA</td><td>105.77</td><td>40.40026</td><td>-3.6476</td><td>0.002</td><td>0:00:35</td><td>7.2</td><td>1.6E-4</td></tr><tr><td>VIKUNETA2</td><td>103.01</td><td>40.39875</td><td>-3.64621</td><td>0.004</td><td>0:00:16</td><td>14.4</td><td>3.2E-4</td></tr><tr><td>VIKUNETA</td><td>105.27</td><td>40.40027</td><td>-3.64764</td><td>0.004</td><td>0:00:36</td><td>14.4</td><td>3.2E-4</td></tr><tr><td>VIKUNETA2</td><td>103.73</td><td>40.39878</td><td>-3.64619</td><td>0.004</td><td>0:00:17</td><td>14.4</td><td>3.2E-4</td></tr><tr><td>VIKUNETA</td><td>104.6</td><td>40.40027</td><td>-3.64766</td><td>0.002</td><td>0:00:37</td><td>7.2</td><td>1.6E-4</td></tr><tr><td>VIKUNETA2</td><td>103.86</td><td>40.39886</td><td>-3.64618</td><td>0.009</td><td>0:00:18</td><td>32.4</td><td>7.2E-4</td></tr><tr><td>VIKUNETA</td><td>103.62</td><td>40.40027</td><td>-3.64769</td><td>0.003</td><td>0:00:38</td><td>10.8</td><td>2.4E-4</td></tr><tr><td>VIKUNETA2</td><td>104.54</td><td>40.39893</td><td>-3.64618</td><td>0.008</td><td>0:00:19</td><td>28.8</td><td>6.4E-4</td></tr><tr><td>VIKUNETA</td><td>104.37</td><td>40.40026</td><td>-3.64773</td><td>0.004</td><td>0:00:39</td><td>14.4</td><td>3.2E-4</td></tr><tr><td>VIKUNETA2</td><td>103.85</td><td>40.39909</td><td>-3.64634</td><td>0.022</td><td>0:00:20</td><td>79.2</td><td>0.00176</td></tr><tr><td>VIKUNETA</td><td>104.5</td><td>40.40024</td><td>-3.64776</td><td>0.003</td><td>0:00:40</td><td>10.8</td><td>2.4E-4</td></tr><tr><td>VIKUNETA2</td><td>103.01</td><td>40.39929</td><td>-3.64654</td><td>0.028</td><td>0:00:21</td><td>100.8</td><td>0.00224</td></tr><tr><td>VIKUNETA</td><td>104.4</td><td>40.40022</td><td>-3.64781</td><td>0.005</td><td>0:00:41</td><td>18.0</td><td>4.0E-4</td></tr><tr><td>VIKUNETA2</td><td>103.75</td><td>40.39941</td><td>-3.64668</td><td>0.018</td><td>0:00:22</td><td>64.8</td><td>0.00144</td></tr><tr><td>VIKUNETA</td><td>104.87</td><td>40.40016</td><td>-3.64783</td><td>0.007</td><td>0:00:42</td><td>25.2</td><td>5.6E-4</td></tr><tr><td>VIKUNETA2</td><td>103.63</td><td>40.39967</td><td>-3.64698</td><td>0.038</td><td>0:00:23</td><td>136.8</td><td>0.00304</td></tr><tr><td>VIKUNETA</td><td>104.23</td><td>40.40025</td><td>-3.64794</td><td>0.014</td><td>0:00:43</td><td>50.4</td><td>0.00112</td></tr><tr><td>VIKUNETA2</td><td>103.13</td><td>40.39979</td><td>-3.64712</td><td>0.018</td><td>0:00:24</td><td>64.8</td><td>0.00144</td></tr><tr><td>VIKUNETA</td><td>105.07</td><td>40.40028</td><td>-3.64809</td><td>0.013</td><td>0:00:44</td><td>46.8</td><td>0.00104</td></tr><tr><td>VIKUNETA2</td><td>102.81</td><td>40.39995</td><td>-3.6473</td><td>0.023</td><td>0:00:25</td><td>82.8</td><td>0.00184</td></tr><tr><td>VIKUNETA</td><td>105.4</td><td>40.40031</td><td>-3.64825</td><td>0.014</td><td>0:00:45</td><td>50.4</td><td>0.00112</td></tr><tr><td>VIKUNETA2</td><td>103.4</td><td>40.40005</td><td>-3.64743</td><td>0.016</td><td>0:00:26</td><td>57.6</td><td>0.00128</td></tr><tr><td>VIKUNETA</td><td>106.29</td><td>40.40034</td><td>-3.64835</td><td>0.009</td><td>0:00:46</td><td>32.4</td><td>7.2E-4</td></tr><tr><td>VIKUNETA2</td><td>104.03</td><td>40.40008</td><td>-3.64746</td><td>0.004</td><td>0:00:27</td><td>14.4</td><td>3.2E-4</td></tr><tr><td>VIKUNETA</td><td>107.16</td><td>40.4004</td><td>-3.64847</td><td>0.012</td><td>0:00:47</td><td>43.2</td><td>9.6E-4</td></tr><tr><td>VIKUNETA2</td><td>103.71</td><td>40.40009</td><td>-3.64747</td><td>0.001</td><td>0:00:28</td><td>3.6</td><td>8.0E-5</td></tr><tr><td>VIKUNETA</td><td>108.04</td><td>40.40044</td><td>-3.64853</td><td>0.007</td><td>0:00:48</td><td>25.2</td><td>5.6E-4</td></tr><tr><td>VIKUNETA2</td><td>103.98</td><td>40.40011</td><td>-3.64747</td><td>0.002</td><td>0:00:29</td><td>7.2</td><td>1.6E-4</td></tr><tr><td>VIKUNETA</td><td>108.91</td><td>40.40067</td><td>-3.64893</td><td>0.042</td><td>0:00:49</td><td>151.2</td><td>0.00336</td></tr><tr><td>VIKUNETA2</td><td>104.11</td><td>40.40012</td><td>-3.64747</td><td>0.001</td><td>0:00:30</td><td>3.6</td><td>8.0E-5</td></tr><tr><td>VIKUNETA</td><td>108.21</td><td>40.40074</td><td>-3.64902</td><td>0.011</td><td>0:00:50</td><td>39.6</td><td>8.8E-4</td></tr><tr><td>VIKUNETA2</td><td>104.47</td><td>40.40018</td><td>-3.64749</td><td>0.007</td><td>0:00:31</td><td>25.2</td><td>5.6E-4</td></tr><tr><td>VIKUNETA</td><td>107.73</td><td>40.4013</td><td>-3.64964</td><td>0.081</td><td>0:00:51</td><td>50.0</td><td>0.00648</td></tr><tr><td>VIKUNETA2</td><td>103.9</td><td>40.40022</td><td>-3.64753</td><td>0.006</td><td>0:00:32</td><td>21.6</td><td>4.8E-4</td></tr><tr><td>VIKUNETA</td><td>106.94</td><td>40.40149</td><td>-3.64985</td><td>0.028</td><td>0:00:52</td><td>100.8</td><td>0.00224</td></tr><tr><td>VIKUNETA2</td><td>104.83</td><td>40.40023</td><td>-3.64755</td><td>0.002</td><td>0:00:33</td><td>7.2</td><td>1.6E-4</td></tr><tr><td>VIKUNETA</td><td>106.86</td><td>40.40176</td><td>-3.65015</td><td>0.039</td><td>0:00:53</td><td>140.4</td><td>0.00312</td></tr><tr><td>VIKUNETA2</td><td>105.25</td><td>40.40025</td><td>-3.64758</td><td>0.003</td><td>0:00:34</td><td>10.8</td><td>2.4E-4</td></tr><tr><td>VIKUNETA</td><td>107.0</td><td>40.40238</td><td>-3.65084</td><td>0.09</td><td>0:00:54</td><td>50.0</td><td>0.0072</td></tr><tr><td>VIKUNETA2</td><td>105.77</td><td>40.40026</td><td>-3.6476</td><td>0.002</td><td>0:00:35</td><td>7.2</td><td>1.6E-4</td></tr><tr><td>VIKUNETA</td><td>106.7</td><td>40.40245</td><td>-3.65092</td><td>0.01</td><td>0:00:55</td><td>36.0</td><td>8.0E-4</td></tr><tr><td>VIKUNETA2</td><td>105.27</td><td>40.40027</td><td>-3.64764</td><td>0.004</td><td>0:00:36</td><td>14.4</td><td>3.2E-4</td></tr><tr><td>VIKUNETA</td><td>106.37</td><td>40.40362</td><td>-3.65226</td><td>0.173</td><td>0:00:56</td><td>50.0</td><td>0.01384</td></tr><tr><td>VIKUNETA2</td><td>104.6</td><td>40.40027</td><td>-3.64766</td><td>0.002</td><td>0:00:37</td><td>7.2</td><td>1.6E-4</td></tr><tr><td>VIKUNETA</td><td>105.8</td><td>40.40393</td><td>-3.65263</td><td>0.047</td><td>0:00:57</td><td>169.2</td><td>0.00376</td></tr><tr><td>VIKUNETA2</td><td>103.62</td><td>40.40027</td><td>-3.64769</td><td>0.003</td><td>0:00:38</td><td>10.8</td><td>2.4E-4</td></tr><tr><td>VIKUNETA</td><td>105.27</td><td>40.40399</td><td>-3.6527</td><td>0.009</td><td>0:00:58</td><td>32.4</td><td>7.2E-4</td></tr><tr><td>VIKUNETA2</td><td>104.37</td><td>40.40026</td><td>-3.64773</td><td>0.004</td><td>0:00:39</td><td>14.4</td><td>3.2E-4</td></tr><tr><td>VIKUNETA</td><td>105.28</td><td>40.40437</td><td>-3.65325</td><td>0.063</td><td>0:00:59</td><td>50.0</td><td>0.00504</td></tr><tr><td>VIKUNETA2</td><td>104.5</td><td>40.40024</td><td>-3.64776</td><td>0.003</td><td>0:00:40</td><td>10.8</td><td>2.4E-4</td></tr><tr><td>VIKUNETA</td><td>104.7</td><td>40.40475</td><td>-3.65386</td><td>0.067</td><td>0:01:00</td><td>50.0</td><td>0.00536</td></tr><tr><td>VIKUNETA3</td><td>106.29</td><td>40.39715</td><td>-3.64921</td><td>0.012</td><td>0:00:01</td><td>43.2</td><td>9.6E-4</td></tr><tr><td>VIKUNETA3</td><td>105.93</td><td>40.39708</td><td>-3.64914</td><td>0.01</td><td>0:00:02</td><td>36.0</td><td>8.0E-4</td></tr><tr><td>VIKUNETA3</td><td>106.4</td><td>40.39764</td><td>-3.6483</td><td>0.095</td><td>0:00:03</td><td>50.0</td><td>0.0076</td></tr><tr><td>VIKUNETA2</td><td>104.4</td><td>40.40022</td><td>-3.64781</td><td>0.005</td><td>0:00:41</td><td>18.0</td><td>4.0E-4</td></tr><tr><td>VIKUNETA</td><td>104.79</td><td>40.4048</td><td>-3.654</td><td>0.013</td><td>0:01:01</td><td>46.8</td><td>0.00104</td></tr><tr><td>VIKUNETA2</td><td>104.87</td><td>40.40016</td><td>-3.64783</td><td>0.007</td><td>0:00:42</td><td>25.2</td><td>5.6E-4</td></tr><tr><td>VIKUNETA</td><td>104.09</td><td>40.40485</td><td>-3.6541</td><td>0.01</td><td>0:01:02</td><td>36.0</td><td>8.0E-4</td></tr><tr><td>VIKUNETA2</td><td>104.23</td><td>40.40025</td><td>-3.64794</td><td>0.014</td><td>0:00:43</td><td>50.4</td><td>0.00112</td></tr><tr><td>VIKUNETA</td><td>103.62</td><td>40.40495</td><td>-3.65429</td><td>0.02</td><td>0:01:03</td><td>72.0</td><td>0.0016</td></tr><tr><td>VIKUNETA3</td><td>105.64</td><td>40.39777</td><td>-3.64809</td><td>0.023</td><td>0:00:04</td><td>82.8</td><td>0.00184</td></tr><tr><td>VIKUNETA3</td><td>104.7</td><td>40.3979</td><td>-3.64787</td><td>0.024</td><td>0:00:05</td><td>86.4</td><td>0.00192</td></tr><tr><td>VIKUNETA3</td><td>104.08</td><td>40.3981</td><td>-3.6475</td><td>0.038</td><td>0:00:06</td><td>136.8</td><td>0.00304</td></tr><tr><td>VIKUNETA3</td><td>104.31</td><td>40.39811</td><td>-3.64746</td><td>0.004</td><td>0:00:07</td><td>14.4</td><td>3.2E-4</td></tr><tr><td>VIKUNETA2</td><td>105.07</td><td>40.40028</td><td>-3.64809</td><td>0.013</td><td>0:00:44</td><td>46.8</td><td>0.00104</td></tr><tr><td>VIKUNETA</td><td>103.0</td><td>40.40526</td><td>-3.65494</td><td>0.065</td><td>0:01:04</td><td>50.0</td><td>0.0052</td></tr><tr><td>VIKUNETA2</td><td>105.4</td><td>40.40031</td><td>-3.64825</td><td>0.014</td><td>0:00:45</td><td>50.4</td><td>0.00112</td></tr><tr><td>VIKUNETA</td><td>102.44</td><td>40.4054</td><td>-3.65532</td><td>0.036</td><td>0:01:05</td><td>129.6</td><td>0.00288</td></tr><tr><td>VIKUNETA2</td><td>106.29</td><td>40.40034</td><td>-3.64835</td><td>0.009</td><td>0:00:46</td><td>32.4</td><td>7.2E-4</td></tr><tr><td>VIKUNETA</td><td>102.71</td><td>40.4056</td><td>-3.65593</td><td>0.056</td><td>0:01:06</td><td>50.0</td><td>0.00448</td></tr><tr><td>VIKUNETA2</td><td>107.16</td><td>40.4004</td><td>-3.64847</td><td>0.012</td><td>0:00:47</td><td>43.2</td><td>9.6E-4</td></tr><tr><td>VIKUNETA</td><td>102.63</td><td>40.40577</td><td>-3.65666</td><td>0.065</td><td>0:01:07</td><td>50.0</td><td>0.0052</td></tr><tr><td>VIKUNETA3</td><td>104.37</td><td>40.39816</td><td>-3.64735</td><td>0.011</td><td>0:00:08</td><td>39.6</td><td>8.8E-4</td></tr><tr><td>VIKUNETA3</td><td>104.17</td><td>40.39819</td><td>-3.64729</td><td>0.006</td><td>0:00:09</td><td>21.6</td><td>4.8E-4</td></tr><tr><td>VIKUNETA3</td><td>103.25</td><td>40.39825</td><td>-3.64715</td><td>0.014</td><td>0:00:10</td><td>50.4</td><td>0.00112</td></tr><tr><td>VIKUNETA2</td><td>108.04</td><td>40.40044</td><td>-3.64853</td><td>0.007</td><td>0:00:48</td><td>25.2</td><td>5.6E-4</td></tr><tr><td>VIKUNETA</td><td>103.5</td><td>40.40584</td><td>-3.65707</td><td>0.036</td><td>0:01:08</td><td>129.6</td><td>0.00288</td></tr><tr><td>VIKUNETA2</td><td>108.91</td><td>40.40067</td><td>-3.64893</td><td>0.042</td><td>0:00:49</td><td>151.2</td><td>0.00336</td></tr><tr><td>VIKUNETA</td><td>104.46</td><td>40.4059</td><td>-3.65757</td><td>0.043</td><td>0:01:09</td><td>154.8</td><td>0.00344</td></tr><tr><td>VIKUNETA2</td><td>108.21</td><td>40.40074</td><td>-3.64902</td><td>0.011</td><td>0:00:50</td><td>39.6</td><td>8.8E-4</td></tr><tr><td>VIKUNETA</td><td>103.79</td><td>40.40591</td><td>-3.65765</td><td>0.007</td><td>0:01:10</td><td>25.2</td><td>5.6E-4</td></tr><tr><td>VIKUNETA3</td><td>102.37</td><td>40.39834</td><td>-3.64692</td><td>0.022</td><td>0:00:11</td><td>79.2</td><td>0.00176</td></tr><tr><td>VIKUNETA3</td><td>102.8</td><td>40.39842</td><td>-3.64677</td><td>0.016</td><td>0:00:12</td><td>57.6</td><td>0.00128</td></tr><tr><td>VIKUNETA3</td><td>102.97</td><td>40.39853</td><td>-3.64655</td><td>0.022</td><td>0:00:13</td><td>79.2</td><td>0.00176</td></tr><tr><td>VIKUNETA2</td><td>107.73</td><td>40.4013</td><td>-3.64964</td><td>0.081</td><td>0:00:51</td><td>50.0</td><td>0.00648</td></tr><tr><td>VIKUNETA</td><td>104.53</td><td>40.40597</td><td>-3.65877</td><td>0.095</td><td>0:01:11</td><td>50.0</td><td>0.0076</td></tr><tr><td>VIKUNETA2</td><td>106.94</td><td>40.40149</td><td>-3.64985</td><td>0.028</td><td>0:00:52</td><td>100.8</td><td>0.00224</td></tr><tr><td>VIKUNETA</td><td>104.11</td><td>40.40598</td><td>-3.65887</td><td>0.009</td><td>0:01:12</td><td>32.4</td><td>7.2E-4</td></tr><tr><td>VIKUNETA2</td><td>106.86</td><td>40.40176</td><td>-3.65015</td><td>0.039</td><td>0:00:53</td><td>140.4</td><td>0.00312</td></tr><tr><td>VIKUNETA</td><td>103.3</td><td>40.406</td><td>-3.65921</td><td>0.029</td><td>0:01:13</td><td>104.4</td><td>0.00232</td></tr><tr><td>VIKUNETA3</td><td>103.86</td><td>40.3986</td><td>-3.64643</td><td>0.013</td><td>0:00:14</td><td>46.8</td><td>0.00104</td></tr><tr><td>VIKUNETA3</td><td>103.58</td><td>40.39872</td><td>-3.64623</td><td>0.022</td><td>0:00:15</td><td>79.2</td><td>0.00176</td></tr><tr><td>VIKUNETA3</td><td>103.01</td><td>40.39875</td><td>-3.64621</td><td>0.004</td><td>0:00:16</td><td>14.4</td><td>3.2E-4</td></tr><tr><td>VIKUNETA2</td><td>107.0</td><td>40.40238</td><td>-3.65084</td><td>0.09</td><td>0:00:54</td><td>50.0</td><td>0.0072</td></tr><tr><td>VIKUNETA</td><td>102.67</td><td>40.40602</td><td>-3.6596</td><td>0.033</td><td>0:01:14</td><td>118.8</td><td>0.00264</td></tr><tr><td>VIKUNETA2</td><td>106.7</td><td>40.40245</td><td>-3.65092</td><td>0.01</td><td>0:00:55</td><td>36.0</td><td>8.0E-4</td></tr><tr><td>VIKUNETA</td><td>103.31</td><td>40.40605</td><td>-3.6603</td><td>0.06</td><td>0:01:15</td><td>50.0</td><td>0.0048</td></tr><tr><td>VIKUNETA2</td><td>106.37</td><td>40.40362</td><td>-3.65226</td><td>0.173</td><td>0:00:56</td><td>50.0</td><td>0.01384</td></tr><tr><td>VIKUNETA</td><td>103.5</td><td>40.40609</td><td>-3.66047</td><td>0.015</td><td>0:01:16</td><td>54.0</td><td>0.0012</td></tr><tr><td>VIKUNETA3</td><td>103.73</td><td>40.39878</td><td>-3.64619</td><td>0.004</td><td>0:00:17</td><td>14.4</td><td>3.2E-4</td></tr><tr><td>VIKUNETA3</td><td>103.86</td><td>40.39886</td><td>-3.64618</td><td>0.009</td><td>0:00:18</td><td>32.4</td><td>7.2E-4</td></tr><tr><td>VIKUNETA3</td><td>104.54</td><td>40.39893</td><td>-3.64618</td><td>0.008</td><td>0:00:19</td><td>28.8</td><td>6.4E-4</td></tr><tr><td>VIKUNETA2</td><td>105.8</td><td>40.40393</td><td>-3.65263</td><td>0.047</td><td>0:00:57</td><td>169.2</td><td>0.00376</td></tr><tr><td>VIKUNETA</td><td>104.23</td><td>40.40614</td><td>-3.66065</td><td>0.016</td><td>0:01:17</td><td>57.6</td><td>0.00128</td></tr><tr><td>VIKUNETA2</td><td>105.27</td><td>40.40399</td><td>-3.6527</td><td>0.009</td><td>0:00:58</td><td>32.4</td><td>7.2E-4</td></tr><tr><td>VIKUNETA</td><td>103.54</td><td>40.40619</td><td>-3.66098</td><td>0.029</td><td>0:01:18</td><td>104.4</td><td>0.00232</td></tr><tr><td>VIKUNETA2</td><td>105.28</td><td>40.40437</td><td>-3.65325</td><td>0.063</td><td>0:00:59</td><td>50.0</td><td>0.00504</td></tr><tr><td>VIKUNETA</td><td>103.98</td><td>40.40626</td><td>-3.66136</td><td>0.033</td><td>0:01:19</td><td>118.8</td><td>0.00264</td></tr><tr><td>VIKUNETA3</td><td>103.85</td><td>40.39909</td><td>-3.64634</td><td>0.022</td><td>0:00:20</td><td>79.2</td><td>0.00176</td></tr><tr><td>VIKUNETA3</td><td>103.01</td><td>40.39929</td><td>-3.64654</td><td>0.028</td><td>0:00:21</td><td>100.8</td><td>0.00224</td></tr><tr><td>VIKUNETA3</td><td>103.75</td><td>40.39941</td><td>-3.64668</td><td>0.018</td><td>0:00:22</td><td>64.8</td><td>0.00144</td></tr><tr><td>VIKUNETA2</td><td>104.7</td><td>40.40475</td><td>-3.65386</td><td>0.067</td><td>0:01:00</td><td>50.0</td><td>0.00536</td></tr><tr><td>VIKUNETA</td><td>103.73</td><td>40.40639</td><td>-3.66194</td><td>0.051</td><td>0:01:20</td><td>50.0</td><td>0.00408</td></tr><tr><td>VIKUNETA2</td><td>104.79</td><td>40.4048</td><td>-3.654</td><td>0.013</td><td>0:01:01</td><td>46.8</td><td>0.00104</td></tr><tr><td>VIKUNETA</td><td>103.34</td><td>40.40642</td><td>-3.66204</td><td>0.009</td><td>0:01:21</td><td>32.4</td><td>7.2E-4</td></tr><tr><td>VIKUNETA2</td><td>104.09</td><td>40.40485</td><td>-3.6541</td><td>0.01</td><td>0:01:02</td><td>36.0</td><td>8.0E-4</td></tr><tr><td>VIKUNETA</td><td>102.51</td><td>40.40648</td><td>-3.66221</td><td>0.016</td><td>0:01:22</td><td>57.6</td><td>0.00128</td></tr><tr><td>VIKUNETA3</td><td>103.63</td><td>40.39967</td><td>-3.64698</td><td>0.038</td><td>0:00:23</td><td>136.8</td><td>0.00304</td></tr><tr><td>VIKUNETA3</td><td>103.13</td><td>40.39979</td><td>-3.64712</td><td>0.018</td><td>0:00:24</td><td>64.8</td><td>0.00144</td></tr><tr><td>VIKUNETA3</td><td>102.81</td><td>40.39995</td><td>-3.6473</td><td>0.023</td><td>0:00:25</td><td>82.8</td><td>0.00184</td></tr><tr><td>VIKUNETA3</td><td>103.4</td><td>40.40005</td><td>-3.64743</td><td>0.016</td><td>0:00:26</td><td>57.6</td><td>0.00128</td></tr><tr><td>VIKUNETA2</td><td>103.62</td><td>40.40495</td><td>-3.65429</td><td>0.02</td><td>0:01:03</td><td>72.0</td><td>0.0016</td></tr><tr><td>VIKUNETA</td><td>103.22</td><td>40.40663</td><td>-3.66248</td><td>0.028</td><td>0:01:23</td><td>100.8</td><td>0.00224</td></tr><tr><td>VIKUNETA2</td><td>103.0</td><td>40.40526</td><td>-3.65494</td><td>0.065</td><td>0:01:04</td><td>50.0</td><td>0.0052</td></tr><tr><td>VIKUNETA</td><td>103.68</td><td>40.40674</td><td>-3.66263</td><td>0.018</td><td>0:01:24</td><td>64.8</td><td>0.00144</td></tr><tr><td>VIKUNETA2</td><td>102.44</td><td>40.4054</td><td>-3.65532</td><td>0.036</td><td>0:01:05</td><td>129.6</td><td>0.00288</td></tr><tr><td>VIKUNETA</td><td>104.01</td><td>40.40678</td><td>-3.66267</td><td>0.006</td><td>0:01:25</td><td>21.6</td><td>4.8E-4</td></tr><tr><td>VIKUNETA3</td><td>104.03</td><td>40.40008</td><td>-3.64746</td><td>0.004</td><td>0:00:27</td><td>14.4</td><td>3.2E-4</td></tr><tr><td>VIKUNETA3</td><td>103.71</td><td>40.40009</td><td>-3.64747</td><td>0.001</td><td>0:00:28</td><td>3.6</td><td>8.0E-5</td></tr><tr><td>VIKUNETA3</td><td>103.98</td><td>40.40011</td><td>-3.64747</td><td>0.002</td><td>0:00:29</td><td>7.2</td><td>1.6E-4</td></tr><tr><td>VIKUNETA2</td><td>102.71</td><td>40.4056</td><td>-3.65593</td><td>0.056</td><td>0:01:06</td><td>50.0</td><td>0.00448</td></tr><tr><td>VIKUNETA</td><td>104.65</td><td>40.40699</td><td>-3.66282</td><td>0.027</td><td>0:01:26</td><td>97.2</td><td>0.00216</td></tr><tr><td>VIKUNETA2</td><td>102.63</td><td>40.40577</td><td>-3.65666</td><td>0.065</td><td>0:01:07</td><td>50.0</td><td>0.0052</td></tr><tr><td>VIKUNETA</td><td>104.11</td><td>40.40713</td><td>-3.6629</td><td>0.017</td><td>0:01:27</td><td>61.2</td><td>0.00136</td></tr><tr><td>VIKUNETA</td><td>104.81</td><td>40.40718</td><td>-3.66292</td><td>0.006</td><td>0:01:28</td><td>21.6</td><td>4.8E-4</td></tr><tr><td>VIKUNETA2</td><td>103.5</td><td>40.40584</td><td>-3.65707</td><td>0.036</td><td>0:01:08</td><td>129.6</td><td>0.00288</td></tr><tr><td>VIKUNETA</td><td>105.74</td><td>40.40733</td><td>-3.66296</td><td>0.017</td><td>0:01:29</td><td>61.2</td><td>0.00136</td></tr><tr><td>VIKUNETA2</td><td>104.46</td><td>40.4059</td><td>-3.65757</td><td>0.043</td><td>0:01:09</td><td>154.8</td><td>0.00344</td></tr><tr><td>VIKUNETA2</td><td>103.79</td><td>40.40591</td><td>-3.65765</td><td>0.007</td><td>0:01:10</td><td>25.2</td><td>5.6E-4</td></tr><tr><td>VIKUNETA</td><td>106.68</td><td>40.40763</td><td>-3.66301</td><td>0.034</td><td>0:01:30</td><td>122.4</td><td>0.00272</td></tr><tr><td>VIKUNETA2</td><td>104.53</td><td>40.40597</td><td>-3.65877</td><td>0.095</td><td>0:01:11</td><td>50.0</td><td>0.0076</td></tr><tr><td>VIKUNETA</td><td>107.34</td><td>40.40771</td><td>-3.66301</td><td>0.009</td><td>0:01:31</td><td>32.4</td><td>7.2E-4</td></tr><tr><td>VIKUNETA3</td><td>104.11</td><td>40.40012</td><td>-3.64747</td><td>0.001</td><td>0:00:30</td><td>3.6</td><td>8.0E-5</td></tr><tr><td>VIKUNETA3</td><td>104.47</td><td>40.40018</td><td>-3.64749</td><td>0.007</td><td>0:00:31</td><td>25.2</td><td>5.6E-4</td></tr><tr><td>VIKUNETA3</td><td>103.9</td><td>40.40022</td><td>-3.64753</td><td>0.006</td><td>0:00:32</td><td>21.6</td><td>4.8E-4</td></tr><tr><td>VIKUNETA3</td><td>104.83</td><td>40.40023</td><td>-3.64755</td><td>0.002</td><td>0:00:33</td><td>7.2</td><td>1.6E-4</td></tr><tr><td>VIKUNETA3</td><td>105.25</td><td>40.40025</td><td>-3.64758</td><td>0.003</td><td>0:00:34</td><td>10.8</td><td>2.4E-4</td></tr><tr><td>VIKUNETA2</td><td>104.11</td><td>40.40598</td><td>-3.65887</td><td>0.009</td><td>0:01:12</td><td>32.4</td><td>7.2E-4</td></tr><tr><td>VIKUNETA</td><td>108.12</td><td>40.40799</td><td>-3.66303</td><td>0.031</td><td>0:01:32</td><td>111.6</td><td>0.00248</td></tr><tr><td>VIKUNETA3</td><td>105.77</td><td>40.40026</td><td>-3.6476</td><td>0.002</td><td>0:00:35</td><td>7.2</td><td>1.6E-4</td></tr><tr><td>VIKUNETA3</td><td>105.27</td><td>40.40027</td><td>-3.64764</td><td>0.004</td><td>0:00:36</td><td>14.4</td><td>3.2E-4</td></tr></tbody></table></div>"
      ]
     },
     "metadata": {
      "application/vnd.databricks.v1+output": {
       "addedWidgets": {},
       "aggData": [],
       "aggError": "",
       "aggOverflow": false,
       "aggSchema": [],
       "aggSeriesLimitReached": false,
       "aggType": "",
       "arguments": {},
       "columnCustomDisplayInfos": {},
       "data": [
        [
         "VIKUNETA",
         106.29,
         40.39715,
         -3.64921,
         0.012,
         "0:00:01",
         43.2,
         0.00096
        ],
        [
         "VIKUNETA",
         105.93,
         40.39708,
         -3.64914,
         0.01,
         "0:00:02",
         36,
         0.0008
        ],
        [
         "VIKUNETA",
         106.4,
         40.39764,
         -3.6483,
         0.095,
         "0:00:03",
         50,
         0.0076
        ],
        [
         "VIKUNETA",
         105.64,
         40.39777,
         -3.64809,
         0.023,
         "0:00:04",
         82.8,
         0.00184
        ],
        [
         "VIKUNETA",
         104.7,
         40.3979,
         -3.64787,
         0.024,
         "0:00:05",
         86.4,
         0.00192
        ],
        [
         "VIKUNETA",
         104.08,
         40.3981,
         -3.6475,
         0.038,
         "0:00:06",
         136.8,
         0.00304
        ],
        [
         "VIKUNETA",
         104.31,
         40.39811,
         -3.64746,
         0.004,
         "0:00:07",
         14.4,
         0.00032
        ],
        [
         "VIKUNETA",
         104.37,
         40.39816,
         -3.64735,
         0.011,
         "0:00:08",
         39.6,
         0.00088
        ],
        [
         "VIKUNETA",
         104.17,
         40.39819,
         -3.64729,
         0.006,
         "0:00:09",
         21.6,
         0.00048
        ],
        [
         "VIKUNETA",
         103.25,
         40.39825,
         -3.64715,
         0.014,
         "0:00:10",
         50.4,
         0.00112
        ],
        [
         "VIKUNETA",
         102.37,
         40.39834,
         -3.64692,
         0.022,
         "0:00:11",
         79.2,
         0.00176
        ],
        [
         "VIKUNETA",
         102.8,
         40.39842,
         -3.64677,
         0.016,
         "0:00:12",
         57.6,
         0.00128
        ],
        [
         "VIKUNETA",
         102.97,
         40.39853,
         -3.64655,
         0.022,
         "0:00:13",
         79.2,
         0.00176
        ],
        [
         "VIKUNETA",
         103.86,
         40.3986,
         -3.64643,
         0.013,
         "0:00:14",
         46.8,
         0.00104
        ],
        [
         "VIKUNETA",
         103.58,
         40.39872,
         -3.64623,
         0.022,
         "0:00:15",
         79.2,
         0.00176
        ],
        [
         "VIKUNETA",
         103.01,
         40.39875,
         -3.64621,
         0.004,
         "0:00:16",
         14.4,
         0.00032
        ],
        [
         "VIKUNETA",
         103.73,
         40.39878,
         -3.64619,
         0.004,
         "0:00:17",
         14.4,
         0.00032
        ],
        [
         "VIKUNETA",
         103.86,
         40.39886,
         -3.64618,
         0.009,
         "0:00:18",
         32.4,
         0.00072
        ],
        [
         "VIKUNETA",
         104.54,
         40.39893,
         -3.64618,
         0.008,
         "0:00:19",
         28.8,
         0.00064
        ],
        [
         "VIKUNETA",
         103.85,
         40.39909,
         -3.64634,
         0.022,
         "0:00:20",
         79.2,
         0.00176
        ],
        [
         "VIKUNETA2",
         106.29,
         40.39715,
         -3.64921,
         0.012,
         "0:00:01",
         43.2,
         0.00096
        ],
        [
         "VIKUNETA",
         103.01,
         40.39929,
         -3.64654,
         0.028,
         "0:00:21",
         100.8,
         0.00224
        ],
        [
         "VIKUNETA2",
         105.93,
         40.39708,
         -3.64914,
         0.01,
         "0:00:02",
         36,
         0.0008
        ],
        [
         "VIKUNETA",
         103.75,
         40.39941,
         -3.64668,
         0.018,
         "0:00:22",
         64.8,
         0.00144
        ],
        [
         "VIKUNETA2",
         106.4,
         40.39764,
         -3.6483,
         0.095,
         "0:00:03",
         50,
         0.0076
        ],
        [
         "VIKUNETA",
         103.63,
         40.39967,
         -3.64698,
         0.038,
         "0:00:23",
         136.8,
         0.00304
        ],
        [
         "VIKUNETA2",
         105.64,
         40.39777,
         -3.64809,
         0.023,
         "0:00:04",
         82.8,
         0.00184
        ],
        [
         "VIKUNETA",
         103.13,
         40.39979,
         -3.64712,
         0.018,
         "0:00:24",
         64.8,
         0.00144
        ],
        [
         "VIKUNETA2",
         104.7,
         40.3979,
         -3.64787,
         0.024,
         "0:00:05",
         86.4,
         0.00192
        ],
        [
         "VIKUNETA",
         102.81,
         40.39995,
         -3.6473,
         0.023,
         "0:00:25",
         82.8,
         0.00184
        ],
        [
         "VIKUNETA2",
         104.08,
         40.3981,
         -3.6475,
         0.038,
         "0:00:06",
         136.8,
         0.00304
        ],
        [
         "VIKUNETA",
         103.4,
         40.40005,
         -3.64743,
         0.016,
         "0:00:26",
         57.6,
         0.00128
        ],
        [
         "VIKUNETA2",
         104.31,
         40.39811,
         -3.64746,
         0.004,
         "0:00:07",
         14.4,
         0.00032
        ],
        [
         "VIKUNETA",
         104.03,
         40.40008,
         -3.64746,
         0.004,
         "0:00:27",
         14.4,
         0.00032
        ],
        [
         "VIKUNETA2",
         104.37,
         40.39816,
         -3.64735,
         0.011,
         "0:00:08",
         39.6,
         0.00088
        ],
        [
         "VIKUNETA",
         103.71,
         40.40009,
         -3.64747,
         0.001,
         "0:00:28",
         3.6,
         0.00008
        ],
        [
         "VIKUNETA2",
         104.17,
         40.39819,
         -3.64729,
         0.006,
         "0:00:09",
         21.6,
         0.00048
        ],
        [
         "VIKUNETA",
         103.98,
         40.40011,
         -3.64747,
         0.002,
         "0:00:29",
         7.2,
         0.00016
        ],
        [
         "VIKUNETA2",
         103.25,
         40.39825,
         -3.64715,
         0.014,
         "0:00:10",
         50.4,
         0.00112
        ],
        [
         "VIKUNETA",
         104.11,
         40.40012,
         -3.64747,
         0.001,
         "0:00:30",
         3.6,
         0.00008
        ],
        [
         "VIKUNETA2",
         102.37,
         40.39834,
         -3.64692,
         0.022,
         "0:00:11",
         79.2,
         0.00176
        ],
        [
         "VIKUNETA",
         104.47,
         40.40018,
         -3.64749,
         0.007,
         "0:00:31",
         25.2,
         0.00056
        ],
        [
         "VIKUNETA2",
         102.8,
         40.39842,
         -3.64677,
         0.016,
         "0:00:12",
         57.6,
         0.00128
        ],
        [
         "VIKUNETA",
         103.9,
         40.40022,
         -3.64753,
         0.006,
         "0:00:32",
         21.6,
         0.00048
        ],
        [
         "VIKUNETA2",
         102.97,
         40.39853,
         -3.64655,
         0.022,
         "0:00:13",
         79.2,
         0.00176
        ],
        [
         "VIKUNETA",
         104.83,
         40.40023,
         -3.64755,
         0.002,
         "0:00:33",
         7.2,
         0.00016
        ],
        [
         "VIKUNETA2",
         103.86,
         40.3986,
         -3.64643,
         0.013,
         "0:00:14",
         46.8,
         0.00104
        ],
        [
         "VIKUNETA",
         105.25,
         40.40025,
         -3.64758,
         0.003,
         "0:00:34",
         10.8,
         0.00024
        ],
        [
         "VIKUNETA2",
         103.58,
         40.39872,
         -3.64623,
         0.022,
         "0:00:15",
         79.2,
         0.00176
        ],
        [
         "VIKUNETA",
         105.77,
         40.40026,
         -3.6476,
         0.002,
         "0:00:35",
         7.2,
         0.00016
        ],
        [
         "VIKUNETA2",
         103.01,
         40.39875,
         -3.64621,
         0.004,
         "0:00:16",
         14.4,
         0.00032
        ],
        [
         "VIKUNETA",
         105.27,
         40.40027,
         -3.64764,
         0.004,
         "0:00:36",
         14.4,
         0.00032
        ],
        [
         "VIKUNETA2",
         103.73,
         40.39878,
         -3.64619,
         0.004,
         "0:00:17",
         14.4,
         0.00032
        ],
        [
         "VIKUNETA",
         104.6,
         40.40027,
         -3.64766,
         0.002,
         "0:00:37",
         7.2,
         0.00016
        ],
        [
         "VIKUNETA2",
         103.86,
         40.39886,
         -3.64618,
         0.009,
         "0:00:18",
         32.4,
         0.00072
        ],
        [
         "VIKUNETA",
         103.62,
         40.40027,
         -3.64769,
         0.003,
         "0:00:38",
         10.8,
         0.00024
        ],
        [
         "VIKUNETA2",
         104.54,
         40.39893,
         -3.64618,
         0.008,
         "0:00:19",
         28.8,
         0.00064
        ],
        [
         "VIKUNETA",
         104.37,
         40.40026,
         -3.64773,
         0.004,
         "0:00:39",
         14.4,
         0.00032
        ],
        [
         "VIKUNETA2",
         103.85,
         40.39909,
         -3.64634,
         0.022,
         "0:00:20",
         79.2,
         0.00176
        ],
        [
         "VIKUNETA",
         104.5,
         40.40024,
         -3.64776,
         0.003,
         "0:00:40",
         10.8,
         0.00024
        ],
        [
         "VIKUNETA2",
         103.01,
         40.39929,
         -3.64654,
         0.028,
         "0:00:21",
         100.8,
         0.00224
        ],
        [
         "VIKUNETA",
         104.4,
         40.40022,
         -3.64781,
         0.005,
         "0:00:41",
         18,
         0.0004
        ],
        [
         "VIKUNETA2",
         103.75,
         40.39941,
         -3.64668,
         0.018,
         "0:00:22",
         64.8,
         0.00144
        ],
        [
         "VIKUNETA",
         104.87,
         40.40016,
         -3.64783,
         0.007,
         "0:00:42",
         25.2,
         0.00056
        ],
        [
         "VIKUNETA2",
         103.63,
         40.39967,
         -3.64698,
         0.038,
         "0:00:23",
         136.8,
         0.00304
        ],
        [
         "VIKUNETA",
         104.23,
         40.40025,
         -3.64794,
         0.014,
         "0:00:43",
         50.4,
         0.00112
        ],
        [
         "VIKUNETA2",
         103.13,
         40.39979,
         -3.64712,
         0.018,
         "0:00:24",
         64.8,
         0.00144
        ],
        [
         "VIKUNETA",
         105.07,
         40.40028,
         -3.64809,
         0.013,
         "0:00:44",
         46.8,
         0.00104
        ],
        [
         "VIKUNETA2",
         102.81,
         40.39995,
         -3.6473,
         0.023,
         "0:00:25",
         82.8,
         0.00184
        ],
        [
         "VIKUNETA",
         105.4,
         40.40031,
         -3.64825,
         0.014,
         "0:00:45",
         50.4,
         0.00112
        ],
        [
         "VIKUNETA2",
         103.4,
         40.40005,
         -3.64743,
         0.016,
         "0:00:26",
         57.6,
         0.00128
        ],
        [
         "VIKUNETA",
         106.29,
         40.40034,
         -3.64835,
         0.009,
         "0:00:46",
         32.4,
         0.00072
        ],
        [
         "VIKUNETA2",
         104.03,
         40.40008,
         -3.64746,
         0.004,
         "0:00:27",
         14.4,
         0.00032
        ],
        [
         "VIKUNETA",
         107.16,
         40.4004,
         -3.64847,
         0.012,
         "0:00:47",
         43.2,
         0.00096
        ],
        [
         "VIKUNETA2",
         103.71,
         40.40009,
         -3.64747,
         0.001,
         "0:00:28",
         3.6,
         0.00008
        ],
        [
         "VIKUNETA",
         108.04,
         40.40044,
         -3.64853,
         0.007,
         "0:00:48",
         25.2,
         0.00056
        ],
        [
         "VIKUNETA2",
         103.98,
         40.40011,
         -3.64747,
         0.002,
         "0:00:29",
         7.2,
         0.00016
        ],
        [
         "VIKUNETA",
         108.91,
         40.40067,
         -3.64893,
         0.042,
         "0:00:49",
         151.2,
         0.00336
        ],
        [
         "VIKUNETA2",
         104.11,
         40.40012,
         -3.64747,
         0.001,
         "0:00:30",
         3.6,
         0.00008
        ],
        [
         "VIKUNETA",
         108.21,
         40.40074,
         -3.64902,
         0.011,
         "0:00:50",
         39.6,
         0.00088
        ],
        [
         "VIKUNETA2",
         104.47,
         40.40018,
         -3.64749,
         0.007,
         "0:00:31",
         25.2,
         0.00056
        ],
        [
         "VIKUNETA",
         107.73,
         40.4013,
         -3.64964,
         0.081,
         "0:00:51",
         50,
         0.00648
        ],
        [
         "VIKUNETA2",
         103.9,
         40.40022,
         -3.64753,
         0.006,
         "0:00:32",
         21.6,
         0.00048
        ],
        [
         "VIKUNETA",
         106.94,
         40.40149,
         -3.64985,
         0.028,
         "0:00:52",
         100.8,
         0.00224
        ],
        [
         "VIKUNETA2",
         104.83,
         40.40023,
         -3.64755,
         0.002,
         "0:00:33",
         7.2,
         0.00016
        ],
        [
         "VIKUNETA",
         106.86,
         40.40176,
         -3.65015,
         0.039,
         "0:00:53",
         140.4,
         0.00312
        ],
        [
         "VIKUNETA2",
         105.25,
         40.40025,
         -3.64758,
         0.003,
         "0:00:34",
         10.8,
         0.00024
        ],
        [
         "VIKUNETA",
         107,
         40.40238,
         -3.65084,
         0.09,
         "0:00:54",
         50,
         0.0072
        ],
        [
         "VIKUNETA2",
         105.77,
         40.40026,
         -3.6476,
         0.002,
         "0:00:35",
         7.2,
         0.00016
        ],
        [
         "VIKUNETA",
         106.7,
         40.40245,
         -3.65092,
         0.01,
         "0:00:55",
         36,
         0.0008
        ],
        [
         "VIKUNETA2",
         105.27,
         40.40027,
         -3.64764,
         0.004,
         "0:00:36",
         14.4,
         0.00032
        ],
        [
         "VIKUNETA",
         106.37,
         40.40362,
         -3.65226,
         0.173,
         "0:00:56",
         50,
         0.01384
        ],
        [
         "VIKUNETA2",
         104.6,
         40.40027,
         -3.64766,
         0.002,
         "0:00:37",
         7.2,
         0.00016
        ],
        [
         "VIKUNETA",
         105.8,
         40.40393,
         -3.65263,
         0.047,
         "0:00:57",
         169.2,
         0.00376
        ],
        [
         "VIKUNETA2",
         103.62,
         40.40027,
         -3.64769,
         0.003,
         "0:00:38",
         10.8,
         0.00024
        ],
        [
         "VIKUNETA",
         105.27,
         40.40399,
         -3.6527,
         0.009,
         "0:00:58",
         32.4,
         0.00072
        ],
        [
         "VIKUNETA2",
         104.37,
         40.40026,
         -3.64773,
         0.004,
         "0:00:39",
         14.4,
         0.00032
        ],
        [
         "VIKUNETA",
         105.28,
         40.40437,
         -3.65325,
         0.063,
         "0:00:59",
         50,
         0.00504
        ],
        [
         "VIKUNETA2",
         104.5,
         40.40024,
         -3.64776,
         0.003,
         "0:00:40",
         10.8,
         0.00024
        ],
        [
         "VIKUNETA",
         104.7,
         40.40475,
         -3.65386,
         0.067,
         "0:01:00",
         50,
         0.00536
        ],
        [
         "VIKUNETA3",
         106.29,
         40.39715,
         -3.64921,
         0.012,
         "0:00:01",
         43.2,
         0.00096
        ],
        [
         "VIKUNETA3",
         105.93,
         40.39708,
         -3.64914,
         0.01,
         "0:00:02",
         36,
         0.0008
        ],
        [
         "VIKUNETA3",
         106.4,
         40.39764,
         -3.6483,
         0.095,
         "0:00:03",
         50,
         0.0076
        ],
        [
         "VIKUNETA2",
         104.4,
         40.40022,
         -3.64781,
         0.005,
         "0:00:41",
         18,
         0.0004
        ],
        [
         "VIKUNETA",
         104.79,
         40.4048,
         -3.654,
         0.013,
         "0:01:01",
         46.8,
         0.00104
        ],
        [
         "VIKUNETA2",
         104.87,
         40.40016,
         -3.64783,
         0.007,
         "0:00:42",
         25.2,
         0.00056
        ],
        [
         "VIKUNETA",
         104.09,
         40.40485,
         -3.6541,
         0.01,
         "0:01:02",
         36,
         0.0008
        ],
        [
         "VIKUNETA2",
         104.23,
         40.40025,
         -3.64794,
         0.014,
         "0:00:43",
         50.4,
         0.00112
        ],
        [
         "VIKUNETA",
         103.62,
         40.40495,
         -3.65429,
         0.02,
         "0:01:03",
         72,
         0.0016
        ],
        [
         "VIKUNETA3",
         105.64,
         40.39777,
         -3.64809,
         0.023,
         "0:00:04",
         82.8,
         0.00184
        ],
        [
         "VIKUNETA3",
         104.7,
         40.3979,
         -3.64787,
         0.024,
         "0:00:05",
         86.4,
         0.00192
        ],
        [
         "VIKUNETA3",
         104.08,
         40.3981,
         -3.6475,
         0.038,
         "0:00:06",
         136.8,
         0.00304
        ],
        [
         "VIKUNETA3",
         104.31,
         40.39811,
         -3.64746,
         0.004,
         "0:00:07",
         14.4,
         0.00032
        ],
        [
         "VIKUNETA2",
         105.07,
         40.40028,
         -3.64809,
         0.013,
         "0:00:44",
         46.8,
         0.00104
        ],
        [
         "VIKUNETA",
         103,
         40.40526,
         -3.65494,
         0.065,
         "0:01:04",
         50,
         0.0052
        ],
        [
         "VIKUNETA2",
         105.4,
         40.40031,
         -3.64825,
         0.014,
         "0:00:45",
         50.4,
         0.00112
        ],
        [
         "VIKUNETA",
         102.44,
         40.4054,
         -3.65532,
         0.036,
         "0:01:05",
         129.6,
         0.00288
        ],
        [
         "VIKUNETA2",
         106.29,
         40.40034,
         -3.64835,
         0.009,
         "0:00:46",
         32.4,
         0.00072
        ],
        [
         "VIKUNETA",
         102.71,
         40.4056,
         -3.65593,
         0.056,
         "0:01:06",
         50,
         0.00448
        ],
        [
         "VIKUNETA2",
         107.16,
         40.4004,
         -3.64847,
         0.012,
         "0:00:47",
         43.2,
         0.00096
        ],
        [
         "VIKUNETA",
         102.63,
         40.40577,
         -3.65666,
         0.065,
         "0:01:07",
         50,
         0.0052
        ],
        [
         "VIKUNETA3",
         104.37,
         40.39816,
         -3.64735,
         0.011,
         "0:00:08",
         39.6,
         0.00088
        ],
        [
         "VIKUNETA3",
         104.17,
         40.39819,
         -3.64729,
         0.006,
         "0:00:09",
         21.6,
         0.00048
        ],
        [
         "VIKUNETA3",
         103.25,
         40.39825,
         -3.64715,
         0.014,
         "0:00:10",
         50.4,
         0.00112
        ],
        [
         "VIKUNETA2",
         108.04,
         40.40044,
         -3.64853,
         0.007,
         "0:00:48",
         25.2,
         0.00056
        ],
        [
         "VIKUNETA",
         103.5,
         40.40584,
         -3.65707,
         0.036,
         "0:01:08",
         129.6,
         0.00288
        ],
        [
         "VIKUNETA2",
         108.91,
         40.40067,
         -3.64893,
         0.042,
         "0:00:49",
         151.2,
         0.00336
        ],
        [
         "VIKUNETA",
         104.46,
         40.4059,
         -3.65757,
         0.043,
         "0:01:09",
         154.8,
         0.00344
        ],
        [
         "VIKUNETA2",
         108.21,
         40.40074,
         -3.64902,
         0.011,
         "0:00:50",
         39.6,
         0.00088
        ],
        [
         "VIKUNETA",
         103.79,
         40.40591,
         -3.65765,
         0.007,
         "0:01:10",
         25.2,
         0.00056
        ],
        [
         "VIKUNETA3",
         102.37,
         40.39834,
         -3.64692,
         0.022,
         "0:00:11",
         79.2,
         0.00176
        ],
        [
         "VIKUNETA3",
         102.8,
         40.39842,
         -3.64677,
         0.016,
         "0:00:12",
         57.6,
         0.00128
        ],
        [
         "VIKUNETA3",
         102.97,
         40.39853,
         -3.64655,
         0.022,
         "0:00:13",
         79.2,
         0.00176
        ],
        [
         "VIKUNETA2",
         107.73,
         40.4013,
         -3.64964,
         0.081,
         "0:00:51",
         50,
         0.00648
        ],
        [
         "VIKUNETA",
         104.53,
         40.40597,
         -3.65877,
         0.095,
         "0:01:11",
         50,
         0.0076
        ],
        [
         "VIKUNETA2",
         106.94,
         40.40149,
         -3.64985,
         0.028,
         "0:00:52",
         100.8,
         0.00224
        ],
        [
         "VIKUNETA",
         104.11,
         40.40598,
         -3.65887,
         0.009,
         "0:01:12",
         32.4,
         0.00072
        ],
        [
         "VIKUNETA2",
         106.86,
         40.40176,
         -3.65015,
         0.039,
         "0:00:53",
         140.4,
         0.00312
        ],
        [
         "VIKUNETA",
         103.3,
         40.406,
         -3.65921,
         0.029,
         "0:01:13",
         104.4,
         0.00232
        ],
        [
         "VIKUNETA3",
         103.86,
         40.3986,
         -3.64643,
         0.013,
         "0:00:14",
         46.8,
         0.00104
        ],
        [
         "VIKUNETA3",
         103.58,
         40.39872,
         -3.64623,
         0.022,
         "0:00:15",
         79.2,
         0.00176
        ],
        [
         "VIKUNETA3",
         103.01,
         40.39875,
         -3.64621,
         0.004,
         "0:00:16",
         14.4,
         0.00032
        ],
        [
         "VIKUNETA2",
         107,
         40.40238,
         -3.65084,
         0.09,
         "0:00:54",
         50,
         0.0072
        ],
        [
         "VIKUNETA",
         102.67,
         40.40602,
         -3.6596,
         0.033,
         "0:01:14",
         118.8,
         0.00264
        ],
        [
         "VIKUNETA2",
         106.7,
         40.40245,
         -3.65092,
         0.01,
         "0:00:55",
         36,
         0.0008
        ],
        [
         "VIKUNETA",
         103.31,
         40.40605,
         -3.6603,
         0.06,
         "0:01:15",
         50,
         0.0048
        ],
        [
         "VIKUNETA2",
         106.37,
         40.40362,
         -3.65226,
         0.173,
         "0:00:56",
         50,
         0.01384
        ],
        [
         "VIKUNETA",
         103.5,
         40.40609,
         -3.66047,
         0.015,
         "0:01:16",
         54,
         0.0012
        ],
        [
         "VIKUNETA3",
         103.73,
         40.39878,
         -3.64619,
         0.004,
         "0:00:17",
         14.4,
         0.00032
        ],
        [
         "VIKUNETA3",
         103.86,
         40.39886,
         -3.64618,
         0.009,
         "0:00:18",
         32.4,
         0.00072
        ],
        [
         "VIKUNETA3",
         104.54,
         40.39893,
         -3.64618,
         0.008,
         "0:00:19",
         28.8,
         0.00064
        ],
        [
         "VIKUNETA2",
         105.8,
         40.40393,
         -3.65263,
         0.047,
         "0:00:57",
         169.2,
         0.00376
        ],
        [
         "VIKUNETA",
         104.23,
         40.40614,
         -3.66065,
         0.016,
         "0:01:17",
         57.6,
         0.00128
        ],
        [
         "VIKUNETA2",
         105.27,
         40.40399,
         -3.6527,
         0.009,
         "0:00:58",
         32.4,
         0.00072
        ],
        [
         "VIKUNETA",
         103.54,
         40.40619,
         -3.66098,
         0.029,
         "0:01:18",
         104.4,
         0.00232
        ],
        [
         "VIKUNETA2",
         105.28,
         40.40437,
         -3.65325,
         0.063,
         "0:00:59",
         50,
         0.00504
        ],
        [
         "VIKUNETA",
         103.98,
         40.40626,
         -3.66136,
         0.033,
         "0:01:19",
         118.8,
         0.00264
        ],
        [
         "VIKUNETA3",
         103.85,
         40.39909,
         -3.64634,
         0.022,
         "0:00:20",
         79.2,
         0.00176
        ],
        [
         "VIKUNETA3",
         103.01,
         40.39929,
         -3.64654,
         0.028,
         "0:00:21",
         100.8,
         0.00224
        ],
        [
         "VIKUNETA3",
         103.75,
         40.39941,
         -3.64668,
         0.018,
         "0:00:22",
         64.8,
         0.00144
        ],
        [
         "VIKUNETA2",
         104.7,
         40.40475,
         -3.65386,
         0.067,
         "0:01:00",
         50,
         0.00536
        ],
        [
         "VIKUNETA",
         103.73,
         40.40639,
         -3.66194,
         0.051,
         "0:01:20",
         50,
         0.00408
        ],
        [
         "VIKUNETA2",
         104.79,
         40.4048,
         -3.654,
         0.013,
         "0:01:01",
         46.8,
         0.00104
        ],
        [
         "VIKUNETA",
         103.34,
         40.40642,
         -3.66204,
         0.009,
         "0:01:21",
         32.4,
         0.00072
        ],
        [
         "VIKUNETA2",
         104.09,
         40.40485,
         -3.6541,
         0.01,
         "0:01:02",
         36,
         0.0008
        ],
        [
         "VIKUNETA",
         102.51,
         40.40648,
         -3.66221,
         0.016,
         "0:01:22",
         57.6,
         0.00128
        ],
        [
         "VIKUNETA3",
         103.63,
         40.39967,
         -3.64698,
         0.038,
         "0:00:23",
         136.8,
         0.00304
        ],
        [
         "VIKUNETA3",
         103.13,
         40.39979,
         -3.64712,
         0.018,
         "0:00:24",
         64.8,
         0.00144
        ],
        [
         "VIKUNETA3",
         102.81,
         40.39995,
         -3.6473,
         0.023,
         "0:00:25",
         82.8,
         0.00184
        ],
        [
         "VIKUNETA3",
         103.4,
         40.40005,
         -3.64743,
         0.016,
         "0:00:26",
         57.6,
         0.00128
        ],
        [
         "VIKUNETA2",
         103.62,
         40.40495,
         -3.65429,
         0.02,
         "0:01:03",
         72,
         0.0016
        ],
        [
         "VIKUNETA",
         103.22,
         40.40663,
         -3.66248,
         0.028,
         "0:01:23",
         100.8,
         0.00224
        ],
        [
         "VIKUNETA2",
         103,
         40.40526,
         -3.65494,
         0.065,
         "0:01:04",
         50,
         0.0052
        ],
        [
         "VIKUNETA",
         103.68,
         40.40674,
         -3.66263,
         0.018,
         "0:01:24",
         64.8,
         0.00144
        ],
        [
         "VIKUNETA2",
         102.44,
         40.4054,
         -3.65532,
         0.036,
         "0:01:05",
         129.6,
         0.00288
        ],
        [
         "VIKUNETA",
         104.01,
         40.40678,
         -3.66267,
         0.006,
         "0:01:25",
         21.6,
         0.00048
        ],
        [
         "VIKUNETA3",
         104.03,
         40.40008,
         -3.64746,
         0.004,
         "0:00:27",
         14.4,
         0.00032
        ],
        [
         "VIKUNETA3",
         103.71,
         40.40009,
         -3.64747,
         0.001,
         "0:00:28",
         3.6,
         0.00008
        ],
        [
         "VIKUNETA3",
         103.98,
         40.40011,
         -3.64747,
         0.002,
         "0:00:29",
         7.2,
         0.00016
        ],
        [
         "VIKUNETA2",
         102.71,
         40.4056,
         -3.65593,
         0.056,
         "0:01:06",
         50,
         0.00448
        ],
        [
         "VIKUNETA",
         104.65,
         40.40699,
         -3.66282,
         0.027,
         "0:01:26",
         97.2,
         0.00216
        ],
        [
         "VIKUNETA2",
         102.63,
         40.40577,
         -3.65666,
         0.065,
         "0:01:07",
         50,
         0.0052
        ],
        [
         "VIKUNETA",
         104.11,
         40.40713,
         -3.6629,
         0.017,
         "0:01:27",
         61.2,
         0.00136
        ],
        [
         "VIKUNETA",
         104.81,
         40.40718,
         -3.66292,
         0.006,
         "0:01:28",
         21.6,
         0.00048
        ],
        [
         "VIKUNETA2",
         103.5,
         40.40584,
         -3.65707,
         0.036,
         "0:01:08",
         129.6,
         0.00288
        ],
        [
         "VIKUNETA",
         105.74,
         40.40733,
         -3.66296,
         0.017,
         "0:01:29",
         61.2,
         0.00136
        ],
        [
         "VIKUNETA2",
         104.46,
         40.4059,
         -3.65757,
         0.043,
         "0:01:09",
         154.8,
         0.00344
        ],
        [
         "VIKUNETA2",
         103.79,
         40.40591,
         -3.65765,
         0.007,
         "0:01:10",
         25.2,
         0.00056
        ],
        [
         "VIKUNETA",
         106.68,
         40.40763,
         -3.66301,
         0.034,
         "0:01:30",
         122.4,
         0.00272
        ],
        [
         "VIKUNETA2",
         104.53,
         40.40597,
         -3.65877,
         0.095,
         "0:01:11",
         50,
         0.0076
        ],
        [
         "VIKUNETA",
         107.34,
         40.40771,
         -3.66301,
         0.009,
         "0:01:31",
         32.4,
         0.00072
        ],
        [
         "VIKUNETA3",
         104.11,
         40.40012,
         -3.64747,
         0.001,
         "0:00:30",
         3.6,
         0.00008
        ],
        [
         "VIKUNETA3",
         104.47,
         40.40018,
         -3.64749,
         0.007,
         "0:00:31",
         25.2,
         0.00056
        ],
        [
         "VIKUNETA3",
         103.9,
         40.40022,
         -3.64753,
         0.006,
         "0:00:32",
         21.6,
         0.00048
        ],
        [
         "VIKUNETA3",
         104.83,
         40.40023,
         -3.64755,
         0.002,
         "0:00:33",
         7.2,
         0.00016
        ],
        [
         "VIKUNETA3",
         105.25,
         40.40025,
         -3.64758,
         0.003,
         "0:00:34",
         10.8,
         0.00024
        ],
        [
         "VIKUNETA2",
         104.11,
         40.40598,
         -3.65887,
         0.009,
         "0:01:12",
         32.4,
         0.00072
        ],
        [
         "VIKUNETA",
         108.12,
         40.40799,
         -3.66303,
         0.031,
         "0:01:32",
         111.6,
         0.00248
        ],
        [
         "VIKUNETA3",
         105.77,
         40.40026,
         -3.6476,
         0.002,
         "0:00:35",
         7.2,
         0.00016
        ],
        [
         "VIKUNETA3",
         105.27,
         40.40027,
         -3.64764,
         0.004,
         "0:00:36",
         14.4,
         0.00032
        ]
       ],
       "datasetInfos": [],
       "dbfsResultPath": null,
       "isJsonSchema": true,
       "metadata": {},
       "overflow": false,
       "plotOptions": {
        "customPlotOptions": {},
        "displayType": "table",
        "pivotAggregation": null,
        "pivotColumns": null,
        "xColumns": null,
        "yColumns": null
       },
       "removedWidgets": [],
       "schema": [
        {
         "metadata": "{}",
         "name": "car_id",
         "type": "\"string\""
        },
        {
         "metadata": "{}",
         "name": "elevation",
         "type": "\"double\""
        },
        {
         "metadata": "{}",
         "name": "latitude",
         "type": "\"double\""
        },
        {
         "metadata": "{}",
         "name": "longitude",
         "type": "\"double\""
        },
        {
         "metadata": "{}",
         "name": "distance_km",
         "type": "\"double\""
        },
        {
         "metadata": "{}",
         "name": "timestamp",
         "type": "\"string\""
        },
        {
         "metadata": "{}",
         "name": "speed_kmh",
         "type": "\"double\""
        },
        {
         "metadata": "{}",
         "name": "consumo",
         "type": "\"double\""
        }
       ],
       "type": "table"
      }
     },
     "output_type": "display_data"
    }
   ],
   "source": [
    "\n",
    "import requests\n",
    "import json\n",
    "from pyspark.sql import functions as F\n",
    " \n",
    "# Endpoint de la API de Power BI para el streaming dataset\n",
    "url = f\"<your_powerbi_streaming_dataset_url>\"\n",
    " \n",
    "# Crear una función para enviar los datos a Power BI\n",
    "def send_to_powerbi(data):\n",
    "    headers = {\"Content-Type\": \"application/json\"}\n",
    "    response = requests.post(url, headers=headers, data=json.dumps(data))\n",
    "    if response.status_code == 200:\n",
    "        print(\"Datos enviados correctamente a Power BI.\")\n",
    "    else:\n",
    "        print(f\"Error al enviar los datos: {response.status_code}\")\n",
    " \n",
    "# Transformar el dataframe de Spark a una lista de diccionarios para enviar a Power BI\n",
    "def transform_and_send_to_powerbi(batch_df, batch_id):\n",
    "    # Convierte el dataframe a un formato adecuado para la API de Power BI\n",
    "    data = batch_df.select(\"car_id\",\"latitude\", \"longitude\", \"elevation\", \"timestamp\", \"distance_km\",\n",
    "                           \"speed_kmh\", \"consumo\").toPandas().to_dict(orient='records')\n",
    "   \n",
    "    # Enviar los datos a Power BI\n",
    "    send_to_powerbi(data)\n",
    " \n",
    "# Enviar los datos de manera continua usando writeStream\n",
    "df.writeStream \\\n",
    "    .foreachBatch(transform_and_send_to_powerbi) \\\n",
    "    .outputMode(\"append\") \\\n",
    "    .start()\n",
    " \n",
    "df.display()"
   ]
  }
 ],
 "metadata": {
  "application/vnd.databricks.v1+notebook": {
   "dashboards": [],
   "environmentMetadata": {
    "base_environment": "",
    "client": "1"
   },
   "language": "python",
   "notebookMetadata": {
    "mostRecentlyExecutedCommandWithImplicitDF": {
     "commandId": -1,
     "dataframes": [
      "_sqldf"
     ]
    },
    "pythonIndentUnit": 4
   },
   "notebookName": "streaming_process",
   "widgets": {}
  },
  "language_info": {
   "name": "python"
  }
 },
 "nbformat": 4,
 "nbformat_minor": 0
}
